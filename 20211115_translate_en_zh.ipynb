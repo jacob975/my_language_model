{
 "cells": [
  {
   "cell_type": "code",
   "execution_count": 1,
   "metadata": {},
   "outputs": [
    {
     "name": "stdout",
     "output_type": "stream",
     "text": [
      "Version:  2.5.0\n",
      "Eager mode:  True\n",
      "Hub version:  0.12.0\n",
      "GPU is available\n"
     ]
    }
   ],
   "source": [
    "import os\n",
    "import numpy as np\n",
    "import pandas as pd\n",
    "import pickle\n",
    "import json\n",
    "\n",
    "import tensorflow as tf\n",
    "from tensorflow.keras.models import Model\n",
    "from tensorflow.keras.layers import Input, Dense, LSTM, Embedding, Activation, Dropout\n",
    "from tensorflow.keras.layers import MultiHeadAttention, LayerNormalization\n",
    "from tensorflow.keras.optimizers import Adam\n",
    "from tensorflow.keras.callbacks import ModelCheckpoint, EarlyStopping, CSVLogger\n",
    "import tensorflow_hub as hub\n",
    "import tensorflow_datasets as tfds\n",
    "\n",
    "# If you have more than 1 GPU, you might want to specify which GPU for training.\n",
    "# In this case, I have 2 GPU and the second one is RTX 2080ti, so I pick the `second` one.\n",
    "os.environ['CUDA_VISIBLE_DEVICES']='0' # The second\n",
    "tf.config.set_soft_device_placement(True)\n",
    "\n",
    "print(\"Version: \", tf.__version__)\n",
    "print(\"Eager mode: \", tf.executing_eagerly())\n",
    "print(\"Hub version: \", hub.__version__)\n",
    "print(\"GPU is\", \"available\" if tf.config.list_physical_devices(\"GPU\") else \"NOT AVAILABLE\")"
   ]
  },
  {
   "cell_type": "markdown",
   "metadata": {},
   "source": [
    "# Constants"
   ]
  },
  {
   "cell_type": "code",
   "execution_count": 2,
   "metadata": {},
   "outputs": [],
   "source": [
    "d_name = '20211112_wmt19_en_zh'\n",
    "folder_name = '20211115_translate_mle_en_zh'\n",
    "\n",
    "encoder_wv_dim = 16\n",
    "decoder_wv_dim = 8\n",
    "encoder_que_pad = 88\n",
    "decoder_que_pad = 279"
   ]
  },
  {
   "cell_type": "code",
   "execution_count": 3,
   "metadata": {},
   "outputs": [],
   "source": [
    "if not os.path.isdir(folder_name):\n",
    "    os.makedirs(folder_name)"
   ]
  },
  {
   "cell_type": "markdown",
   "metadata": {},
   "source": [
    "# Load data"
   ]
  },
  {
   "cell_type": "code",
   "execution_count": 4,
   "metadata": {},
   "outputs": [],
   "source": [
    "encoder_train = pickle.load(open(f'{d_name}/encoder_train.pkl', 'rb'))\n",
    "decoder_train = pickle.load(open(f'{d_name}/decoder_train.pkl', 'rb'))\n",
    "teacher_train = pickle.load(open(f'{d_name}/teacher_train.pkl', 'rb'))\n",
    "encoder_vali  = pickle.load(open(f'{d_name}/encoder_vali.pkl', 'rb'))\n",
    "decoder_vali  = pickle.load(open(f'{d_name}/decoder_vali.pkl', 'rb'))\n",
    "teacher_vali  = pickle.load(open(f'{d_name}/teacher_vali.pkl', 'rb'))\n",
    "\n",
    "decoder_idx2word   = pickle.load(open(f'{d_name}/en_idx2word.pkl','rb'))\n",
    "decoder_word2idx   = pickle.load(open(f'{d_name}/en_word2idx.pkl','rb'))\n",
    "encoder_idx2word   = pickle.load(open(f'{d_name}/zh_idx2word.pkl','rb'))\n",
    "encoder_word2idx   = pickle.load(open(f'{d_name}/zh_word2idx.pkl','rb'))\n",
    "\n",
    "decoder_emb8    = pickle.load(open(f'{d_name}/en_emb8.pkl', 'rb'))\n",
    "encoder_emb16   = pickle.load(open(f'{d_name}/zh_emb16.pkl', 'rb'))"
   ]
  },
  {
   "cell_type": "code",
   "execution_count": 5,
   "metadata": {},
   "outputs": [
    {
     "name": "stdout",
     "output_type": "stream",
     "text": [
      "199\n",
      "4716\n"
     ]
    }
   ],
   "source": [
    "num_decoder_words = np.max([np.max(decoder_train), np.max(decoder_vali)])+1\n",
    "num_encoder_words = np.max([np.max(encoder_train), np.max(encoder_vali)])+1\n",
    "\n",
    "print(num_decoder_words)\n",
    "print(num_encoder_words)"
   ]
  },
  {
   "cell_type": "code",
   "execution_count": 6,
   "metadata": {},
   "outputs": [],
   "source": [
    "def seq2word(seq_tensor, idx2word):\n",
    "    return np.array([[idx2word[i] for i in seq] for seq in seq_tensor])"
   ]
  },
  {
   "cell_type": "code",
   "execution_count": 7,
   "metadata": {
    "scrolled": true
   },
   "outputs": [
    {
     "data": {
      "text/plain": [
       "array([['<bos>', '1', '9', '2', '9', ' ', 'o', 'r', ' ', '1', '9', '8',\n",
       "        '9', '?', '<eos>', ' ', ' ', ' ', ' ', ' ', ' ', ' ', ' ', ' ',\n",
       "        ' ', ' ', ' ', ' ', ' ', ' ', ' ', ' ', ' ', ' ', ' ', ' ', ' ',\n",
       "        ' ', ' ', ' ', ' ', ' ', ' ', ' ', ' ', ' ', ' ', ' ', ' ', ' ',\n",
       "        ' ', ' ', ' ', ' ', ' ', ' ', ' ', ' ', ' ', ' ', ' ', ' ', ' ',\n",
       "        ' ', ' ', ' ', ' ', ' ', ' ', ' ', ' ', ' ', ' ', ' ', ' ', ' ',\n",
       "        ' ', ' ', ' ', ' ', ' ', ' ', ' ', ' ', ' ', ' ', ' ', ' ', ' ',\n",
       "        ' ', ' ', ' ', ' ', ' ', ' ', ' ', ' ', ' ', ' ', ' ', ' ', ' ',\n",
       "        ' ', ' ', ' ', ' ', ' ', ' ', ' ', ' ', ' ', ' ', ' ', ' ', ' ',\n",
       "        ' ', ' ', ' ', ' ', ' ', ' ', ' ', ' ', ' ', ' ', ' ', ' ', ' ',\n",
       "        ' ', ' ', ' ', ' ', ' ', ' ', ' ', ' ', ' ', ' ', ' ', ' ', ' ',\n",
       "        ' ', ' ', ' ', ' ', ' ', ' ', ' ', ' ', ' ', ' ', ' ', ' ', ' ',\n",
       "        ' ', ' ', ' ', ' ', ' ', ' ', ' ', ' ', ' ', ' ', ' ', ' ', ' ',\n",
       "        ' ', ' ', ' ', ' ', ' ', ' ', ' ', ' ', ' ', ' ', ' ', ' ', ' ',\n",
       "        ' ', ' ', ' ', ' ', ' ', ' ', ' ', ' ', ' ', ' ', ' ', ' ', ' ',\n",
       "        ' ', ' ', ' ', ' ', ' ', ' ', ' ', ' ', ' ', ' ', ' ', ' ', ' ',\n",
       "        ' ', ' ', ' ', ' ', ' ', ' ', ' ', ' ', ' ', ' ', ' ', ' ', ' ',\n",
       "        ' ', ' ', ' ', ' ', ' ', ' ', ' ', ' ', ' ', ' ', ' ', ' ', ' ',\n",
       "        ' ', ' ', ' ', ' ', ' ', ' ', ' ', ' ', ' ', ' ', ' ', ' ', ' ',\n",
       "        ' ', ' ', ' ', ' ', ' ', ' ', ' ', ' ', ' ', ' ', ' ', ' ', ' ',\n",
       "        ' ', ' ', ' ', ' ', ' ', ' ', ' ', ' ', ' ', ' ', ' ', ' ', ' ',\n",
       "        ' ', ' ', ' ', ' ', ' ', ' ', ' ', ' ']], dtype='<U5')"
      ]
     },
     "execution_count": 7,
     "metadata": {},
     "output_type": "execute_result"
    }
   ],
   "source": [
    "seq2word(decoder_vali[:1], decoder_idx2word)"
   ]
  },
  {
   "cell_type": "code",
   "execution_count": 8,
   "metadata": {},
   "outputs": [
    {
     "data": {
      "text/plain": [
       "array([['1', '9', '2', '9', '年', '还', '是', '1', '9', '8', '9', '年', '?',\n",
       "        ' ', ' ', ' ', ' ', ' ', ' ', ' ', ' ', ' ', ' ', ' ', ' ', ' ',\n",
       "        ' ', ' ', ' ', ' ', ' ', ' ', ' ', ' ', ' ', ' ', ' ', ' ', ' ',\n",
       "        ' ', ' ', ' ', ' ', ' ', ' ', ' ', ' ', ' ', ' ', ' ', ' ', ' ',\n",
       "        ' ', ' ', ' ', ' ', ' ', ' ', ' ', ' ', ' ', ' ', ' ', ' ', ' ',\n",
       "        ' ', ' ', ' ', ' ', ' ', ' ', ' ', ' ', ' ', ' ', ' ', ' ', ' ',\n",
       "        ' ', ' ', ' ', ' ', ' ', ' ', ' ', ' ', ' ', ' ']], dtype='<U1')"
      ]
     },
     "execution_count": 8,
     "metadata": {},
     "output_type": "execute_result"
    }
   ],
   "source": [
    "seq2word(encoder_vali[:1], encoder_idx2word)"
   ]
  },
  {
   "cell_type": "markdown",
   "metadata": {},
   "source": [
    "# Positional Encoding\n",
    "[Positional Encoding](https://www.tensorflow.org/text/tutorials/transformer)\n",
    "based on [Vaswani+17, Attention is All You Need](https://arxiv.org/abs/1706.03762)"
   ]
  },
  {
   "cell_type": "code",
   "execution_count": 9,
   "metadata": {},
   "outputs": [],
   "source": [
    "def get_angles(pos, i, d_model):\n",
    "    angle_rates = 1 / np.power(10000, (2 * (i//2)) / np.float32(d_model))\n",
    "    return pos * angle_rates\n",
    "\n",
    "def positional_encoding(position, d_model):\n",
    "    angle_rads = get_angles(\n",
    "        np.arange(position)[:, np.newaxis],\n",
    "        np.arange(d_model)[np.newaxis, :],\n",
    "        d_model\n",
    "    )\n",
    "\n",
    "    # apply sin to even indices in the array; 2i\n",
    "    angle_rads[:, 0::2] = np.sin(angle_rads[:, 0::2])\n",
    "\n",
    "    # apply cos to odd indices in the array; 2i+1\n",
    "    angle_rads[:, 1::2] = np.cos(angle_rads[:, 1::2])\n",
    "\n",
    "    pos_encoding = angle_rads[np.newaxis, ...]\n",
    "\n",
    "    return tf.cast(pos_encoding, dtype=tf.float32)"
   ]
  },
  {
   "cell_type": "code",
   "execution_count": 10,
   "metadata": {},
   "outputs": [
    {
     "name": "stdout",
     "output_type": "stream",
     "text": [
      "(1, 10, 64)\n"
     ]
    },
    {
     "data": {
      "image/png": "[encoded data removed]",
      "text/plain": [
       "<Figure size 432x288 with 2 Axes>"
      ]
     },
     "metadata": {
      "needs_background": "light"
     },
     "output_type": "display_data"
    }
   ],
   "source": [
    "from matplotlib import pyplot as plt\n",
    "n, d = 10, 64\n",
    "pos_encoding = positional_encoding(n, d)\n",
    "print(pos_encoding.shape)\n",
    "pos_encoding = pos_encoding[0]\n",
    "\n",
    "# Juggle the dimensions for the plot\n",
    "pos_encoding = tf.reshape(pos_encoding, (n, d//2, 2))\n",
    "pos_encoding = tf.transpose(pos_encoding, (2, 1, 0))\n",
    "pos_encoding = tf.reshape(pos_encoding, (d, n))\n",
    "\n",
    "plt.pcolormesh(pos_encoding, cmap='RdBu')\n",
    "plt.ylabel('Depth')\n",
    "plt.xlabel('Position')\n",
    "plt.colorbar()\n",
    "plt.show()"
   ]
  },
  {
   "cell_type": "markdown",
   "metadata": {},
   "source": [
    "# Generator"
   ]
  },
  {
   "cell_type": "markdown",
   "metadata": {},
   "source": [
    "[Multi-Head Attention](https://www.tensorflow.org/api_docs/python/tf/keras/layers/MultiHeadAttention) \n",
    "and [Positional Encoding](https://www.tensorflow.org/text/tutorials/transformer)\n",
    "based on [Vaswani+17, Attention is All You Need](https://arxiv.org/abs/1706.03762)"
   ]
  },
  {
   "cell_type": "code",
   "execution_count": 41,
   "metadata": {},
   "outputs": [],
   "source": [
    "def Transformer(q_que_pad, k_que_pad, wv_dim, k_wv_dim, rate = 0.1, mask = ''):\n",
    "    # Inputs\n",
    "    mem  = Input((q_que_pad, wv_dim))\n",
    "    encode = Input((k_que_pad, k_wv_dim))\n",
    "    # Constants\n",
    "    ff_dim = wv_dim*64\n",
    "    # Multi-Head Attention\n",
    "    q = Dense(wv_dim)(mem)\n",
    "    k = Dense(wv_dim)(encode)\n",
    "    v = Dense(wv_dim)(encode)\n",
    "    # Choose a mask, default: BERT (no mask)\n",
    "    mask_weights = np.ones((q_que_pad, k_que_pad))\n",
    "    if mask == 'GPT':\n",
    "        mask_weights = np.tri(q_que_pad, k_que_pad, 0)\n",
    "    mem_new = MultiHeadAttention(\n",
    "        num_heads = 8,\n",
    "        key_dim = wv_dim, \n",
    "        value_dim = wv_dim\n",
    "    )(\n",
    "        q, k, v,\n",
    "        attention_mask = mask_weights\n",
    "    )\n",
    "    mem_new = Dropout(rate)(mem_new)\n",
    "    mem_new = LayerNormalization(epsilon=1e-6)(mem_new+mem)\n",
    "    # Feed-Forward skip-connection\n",
    "    ffn = Dense(ff_dim, activation = 'relu')(mem_new)\n",
    "    ffn = Dense(wv_dim)(ffn)\n",
    "    ffn = Dropout(rate)(ffn)\n",
    "    out = LayerNormalization(epsilon=1e-6)(ffn+mem_new)\n",
    "    model = Model(\n",
    "        [mem, encode],\n",
    "        [mem_new, out],\n",
    "    )\n",
    "    return model\n",
    "\n",
    "def getE(wv_dim = 16):\n",
    "    _input = Input((encoder_que_pad,))\n",
    "    emb = Embedding(\n",
    "        num_encoder_words, \n",
    "        wv_dim, \n",
    "        mask_zero = False,\n",
    "        input_length=(int(encoder_que_pad)),\n",
    "        trainable = True,\n",
    "        embeddings_initializer=tf.keras.initializers.Constant(encoder_emb16),\n",
    "    )\n",
    "    mem = emb(_input)\n",
    "    # position encoding\n",
    "    pe = positional_encoding(encoder_que_pad, wv_dim)\n",
    "    mem = LayerNormalization(epsilon=1e-6)(mem+pe)\n",
    "    # forward sentence\n",
    "    for i in range(2):\n",
    "        gptLayer = Transformer(encoder_que_pad, encoder_que_pad, wv_dim, wv_dim)\n",
    "        mem, output = gptLayer((mem, mem))\n",
    "        output = Activation('relu')(output)\n",
    "        mem = Activation('relu')(mem)\n",
    "    # Output\n",
    "    model = Model(\n",
    "        _input, \n",
    "        output) \n",
    "    return model\n",
    "\n",
    "def getD(wv_dim = 8, encoder_wv_dim = 16):\n",
    "    en_output = Input((encoder_que_pad, encoder_wv_dim))\n",
    "    de_input  = Input((decoder_que_pad,))\n",
    "    emb = Embedding(\n",
    "        num_decoder_words, \n",
    "        wv_dim, \n",
    "        mask_zero = False,\n",
    "        input_length=(int(decoder_que_pad)),\n",
    "        trainable = True,\n",
    "        embeddings_initializer=tf.keras.initializers.Constant(decoder_emb8),\n",
    "    )\n",
    "    mem = emb(de_input)\n",
    "    # position encoding\n",
    "    pe = positional_encoding(decoder_que_pad, wv_dim)\n",
    "    mem = LayerNormalization(epsilon=1e-6)(mem+pe)\n",
    "    # Attention\n",
    "    for j in range(2):\n",
    "        # Self attention\n",
    "        for i in range(1):\n",
    "            gptLayer = Transformer(decoder_que_pad, decoder_que_pad, wv_dim, wv_dim, mask = 'GPT')\n",
    "            mem, _ = gptLayer((mem, mem))\n",
    "            mem = Activation('relu')(mem)\n",
    "        # Cross attention\n",
    "        for i in range(1):\n",
    "            gptLayer = Transformer(decoder_que_pad, encoder_que_pad, wv_dim, encoder_wv_dim)\n",
    "            mem, output = gptLayer((mem, en_output))\n",
    "            output = Activation('relu')(output)\n",
    "            mem = Activation('relu')(mem)\n",
    "    # Concatenation and output\n",
    "    output = Dense(num_decoder_words)(output)\n",
    "    output = Activation('softmax')(output)\n",
    "    model = Model(\n",
    "        [en_output, de_input], \n",
    "        output,\n",
    "    )\n",
    "    return model\n",
    "\n",
    "# Language Model\n",
    "def getLM():\n",
    "    # Inputs\n",
    "    en_input = Input((encoder_que_pad,))\n",
    "    de_input = Input((decoder_que_pad,))\n",
    "    # Encoder (Chinese -> code)\n",
    "    encoder = getE(encoder_wv_dim)\n",
    "    encoder.summary()\n",
    "    en_output = encoder(en_input)\n",
    "    # Decoder (code -> English)\n",
    "    decoder = getD(decoder_wv_dim, encoder_wv_dim)\n",
    "    decoder.summary()\n",
    "    de_output = decoder([en_output, de_input])\n",
    "    # Establish the model\n",
    "    model = Model(\n",
    "        [en_input, de_input],\n",
    "        de_output,\n",
    "    )\n",
    "    return model"
   ]
  },
  {
   "cell_type": "code",
   "execution_count": 42,
   "metadata": {},
   "outputs": [
    {
     "name": "stdout",
     "output_type": "stream",
     "text": [
      "Model: \"model_107\"\n",
      "__________________________________________________________________________________________________\n",
      "Layer (type)                    Output Shape         Param #     Connected to                     \n",
      "==================================================================================================\n",
      "input_204 (InputLayer)          [(None, 88)]         0                                            \n",
      "__________________________________________________________________________________________________\n",
      "embedding_18 (Embedding)        (None, 88, 16)       75456       input_204[0][0]                  \n",
      "__________________________________________________________________________________________________\n",
      "tf.__operators__.add_174 (TFOpL (None, 88, 16)       0           embedding_18[0][0]               \n",
      "__________________________________________________________________________________________________\n",
      "layer_normalization_174 (LayerN (None, 88, 16)       32          tf.__operators__.add_174[0][0]   \n",
      "__________________________________________________________________________________________________\n",
      "model_105 (Functional)          [(None, 88, 16), (No 43280       layer_normalization_174[0][0]    \n",
      "                                                                 layer_normalization_174[0][0]    \n",
      "__________________________________________________________________________________________________\n",
      "activation_140 (Activation)     (None, 88, 16)       0           model_105[0][0]                  \n",
      "__________________________________________________________________________________________________\n",
      "model_106 (Functional)          [(None, 88, 16), (No 43280       activation_140[0][0]             \n",
      "                                                                 activation_140[0][0]             \n",
      "__________________________________________________________________________________________________\n",
      "activation_141 (Activation)     (None, 88, 16)       0           model_106[0][1]                  \n",
      "==================================================================================================\n",
      "Total params: 162,048\n",
      "Trainable params: 162,048\n",
      "Non-trainable params: 0\n",
      "__________________________________________________________________________________________________\n",
      "Model: \"model_112\"\n",
      "__________________________________________________________________________________________________\n",
      "Layer (type)                    Output Shape         Param #     Connected to                     \n",
      "==================================================================================================\n",
      "input_210 (InputLayer)          [(None, 279)]        0                                            \n",
      "__________________________________________________________________________________________________\n",
      "embedding_19 (Embedding)        (None, 279, 8)       1592        input_210[0][0]                  \n",
      "__________________________________________________________________________________________________\n",
      "tf.__operators__.add_179 (TFOpL (None, 279, 8)       0           embedding_19[0][0]               \n",
      "__________________________________________________________________________________________________\n",
      "layer_normalization_179 (LayerN (None, 279, 8)       16          tf.__operators__.add_179[0][0]   \n",
      "__________________________________________________________________________________________________\n",
      "model_108 (Functional)          [(None, 279, 8), (No 11208       layer_normalization_179[0][0]    \n",
      "                                                                 layer_normalization_179[0][0]    \n",
      "__________________________________________________________________________________________________\n",
      "activation_143 (Activation)     (None, 279, 8)       0           model_108[0][0]                  \n",
      "__________________________________________________________________________________________________\n",
      "input_209 (InputLayer)          [(None, 88, 16)]     0                                            \n",
      "__________________________________________________________________________________________________\n",
      "model_109 (Functional)          [(None, 279, 8), (No 11336       activation_143[0][0]             \n",
      "                                                                 input_209[0][0]                  \n",
      "__________________________________________________________________________________________________\n",
      "activation_145 (Activation)     (None, 279, 8)       0           model_109[0][0]                  \n",
      "__________________________________________________________________________________________________\n",
      "model_110 (Functional)          [(None, 279, 8), (No 11208       activation_145[0][0]             \n",
      "                                                                 activation_145[0][0]             \n",
      "__________________________________________________________________________________________________\n",
      "activation_146 (Activation)     (None, 279, 8)       0           model_110[0][0]                  \n",
      "__________________________________________________________________________________________________\n",
      "model_111 (Functional)          [(None, 279, 8), (No 11336       activation_146[0][0]             \n",
      "                                                                 input_209[0][0]                  \n",
      "__________________________________________________________________________________________________\n",
      "activation_147 (Activation)     (None, 279, 8)       0           model_111[0][1]                  \n",
      "__________________________________________________________________________________________________\n",
      "dense_429 (Dense)               (None, 279, 199)     1791        activation_147[0][0]             \n",
      "__________________________________________________________________________________________________\n",
      "activation_149 (Activation)     (None, 279, 199)     0           dense_429[0][0]                  \n",
      "==================================================================================================\n",
      "Total params: 48,487\n",
      "Trainable params: 48,487\n",
      "Non-trainable params: 0\n",
      "__________________________________________________________________________________________________\n",
      "Model: \"model_113\"\n",
      "__________________________________________________________________________________________________\n",
      "Layer (type)                    Output Shape         Param #     Connected to                     \n",
      "==================================================================================================\n",
      "input_202 (InputLayer)          [(None, 88)]         0                                            \n",
      "__________________________________________________________________________________________________\n",
      "model_107 (Functional)          (None, 88, 16)       162048      input_202[0][0]                  \n",
      "__________________________________________________________________________________________________\n",
      "input_203 (InputLayer)          [(None, 279)]        0                                            \n",
      "__________________________________________________________________________________________________\n",
      "model_112 (Functional)          (None, 279, 199)     48487       model_107[0][0]                  \n",
      "                                                                 input_203[0][0]                  \n",
      "==================================================================================================\n",
      "Total params: 210,535\n",
      "Trainable params: 210,535\n",
      "Non-trainable params: 0\n",
      "__________________________________________________________________________________________________\n"
     ]
    }
   ],
   "source": [
    "mleG = getLM()\n",
    "mleG.compile(\n",
    "    loss='sparse_categorical_crossentropy',\n",
    "    optimizer=Adam(),\n",
    "    metrics=['accuracy'],\n",
    ")\n",
    "mleG.summary()"
   ]
  },
  {
   "cell_type": "code",
   "execution_count": 43,
   "metadata": {},
   "outputs": [
    {
     "name": "stdout",
     "output_type": "stream",
     "text": [
      "Epoch 1/300\n",
      "WARNING:tensorflow:Gradients do not exist for variables ['dense_402/kernel:0', 'dense_402/bias:0', 'dense_403/kernel:0', 'dense_403/bias:0', 'layer_normalization_176/gamma:0', 'layer_normalization_176/beta:0', 'dense_412/kernel:0', 'dense_412/bias:0', 'dense_413/kernel:0', 'dense_413/bias:0', 'layer_normalization_181/gamma:0', 'layer_normalization_181/beta:0', 'dense_417/kernel:0', 'dense_417/bias:0', 'dense_418/kernel:0', 'dense_418/bias:0', 'layer_normalization_183/gamma:0', 'layer_normalization_183/beta:0', 'dense_422/kernel:0', 'dense_422/bias:0', 'dense_423/kernel:0', 'dense_423/bias:0', 'layer_normalization_185/gamma:0', 'layer_normalization_185/beta:0'] when minimizing the loss.\n",
      "WARNING:tensorflow:Gradients do not exist for variables ['dense_402/kernel:0', 'dense_402/bias:0', 'dense_403/kernel:0', 'dense_403/bias:0', 'layer_normalization_176/gamma:0', 'layer_normalization_176/beta:0', 'dense_412/kernel:0', 'dense_412/bias:0', 'dense_413/kernel:0', 'dense_413/bias:0', 'layer_normalization_181/gamma:0', 'layer_normalization_181/beta:0', 'dense_417/kernel:0', 'dense_417/bias:0', 'dense_418/kernel:0', 'dense_418/bias:0', 'layer_normalization_183/gamma:0', 'layer_normalization_183/beta:0', 'dense_422/kernel:0', 'dense_422/bias:0', 'dense_423/kernel:0', 'dense_423/bias:0', 'layer_normalization_185/gamma:0', 'layer_normalization_185/beta:0'] when minimizing the loss.\n",
      "2032/2032 [==============================] - 165s 79ms/step - loss: 1.7561 - accuracy: 0.6187 - val_loss: 1.2129 - val_accuracy: 0.6507\n",
      "Epoch 2/300\n",
      "2032/2032 [==============================] - 160s 79ms/step - loss: 1.2040 - accuracy: 0.6528 - val_loss: 1.1657 - val_accuracy: 0.6606\n",
      "Epoch 3/300\n",
      "2032/2032 [==============================] - 160s 79ms/step - loss: 1.1733 - accuracy: 0.6586 - val_loss: 1.1438 - val_accuracy: 0.6645\n",
      "Epoch 4/300\n",
      "2032/2032 [==============================] - 160s 79ms/step - loss: 1.1572 - accuracy: 0.6626 - val_loss: 1.1308 - val_accuracy: 0.6683\n",
      "Epoch 5/300\n",
      "2032/2032 [==============================] - 163s 80ms/step - loss: 1.1469 - accuracy: 0.6653 - val_loss: 1.1215 - val_accuracy: 0.6711\n",
      "Epoch 6/300\n",
      "2032/2032 [==============================] - 189s 93ms/step - loss: 1.1396 - accuracy: 0.6668 - val_loss: 1.1202 - val_accuracy: 0.6707\n",
      "Epoch 7/300\n",
      "2032/2032 [==============================] - 188s 93ms/step - loss: 1.1344 - accuracy: 0.6677 - val_loss: 1.1125 - val_accuracy: 0.6723\n",
      "Epoch 8/300\n",
      "2032/2032 [==============================] - 166s 82ms/step - loss: 1.1304 - accuracy: 0.6686 - val_loss: 1.1098 - val_accuracy: 0.6731\n",
      "Epoch 9/300\n",
      "2032/2032 [==============================] - 160s 79ms/step - loss: 1.1268 - accuracy: 0.6694 - val_loss: 1.1053 - val_accuracy: 0.6738\n",
      "Epoch 10/300\n",
      "2032/2032 [==============================] - 160s 79ms/step - loss: 1.1241 - accuracy: 0.6700 - val_loss: 1.1106 - val_accuracy: 0.6726\n",
      "Epoch 11/300\n",
      "2032/2032 [==============================] - 174s 86ms/step - loss: 1.1218 - accuracy: 0.6705 - val_loss: 1.1017 - val_accuracy: 0.6748\n",
      "Epoch 12/300\n",
      "2032/2032 [==============================] - 188s 92ms/step - loss: 1.1194 - accuracy: 0.6710 - val_loss: 1.1062 - val_accuracy: 0.6739\n",
      "Epoch 13/300\n",
      "2032/2032 [==============================] - 189s 93ms/step - loss: 1.1170 - accuracy: 0.6717 - val_loss: 1.0988 - val_accuracy: 0.6752\n",
      "Epoch 14/300\n",
      "2032/2032 [==============================] - 189s 93ms/step - loss: 1.1149 - accuracy: 0.6722 - val_loss: 1.1002 - val_accuracy: 0.6751\n",
      "Epoch 15/300\n",
      "2032/2032 [==============================] - 189s 93ms/step - loss: 1.1132 - accuracy: 0.6726 - val_loss: 1.0995 - val_accuracy: 0.6760\n",
      "Epoch 16/300\n",
      "2032/2032 [==============================] - 189s 93ms/step - loss: 1.1114 - accuracy: 0.6730 - val_loss: 1.0990 - val_accuracy: 0.6756\n",
      "Epoch 17/300\n",
      "2032/2032 [==============================] - 189s 93ms/step - loss: 1.1095 - accuracy: 0.6734 - val_loss: 1.0977 - val_accuracy: 0.6754\n",
      "Epoch 18/300\n",
      "2032/2032 [==============================] - 188s 93ms/step - loss: 1.1078 - accuracy: 0.6739 - val_loss: 1.0985 - val_accuracy: 0.6754\n",
      "Epoch 19/300\n",
      "2032/2032 [==============================] - 188s 93ms/step - loss: 1.1065 - accuracy: 0.6743 - val_loss: 1.0972 - val_accuracy: 0.6764\n",
      "Epoch 20/300\n",
      "2032/2032 [==============================] - 189s 93ms/step - loss: 1.1049 - accuracy: 0.6748 - val_loss: 1.0925 - val_accuracy: 0.6767\n",
      "Epoch 21/300\n",
      "2032/2032 [==============================] - 189s 93ms/step - loss: 1.1036 - accuracy: 0.6752 - val_loss: 1.0975 - val_accuracy: 0.6758\n",
      "Epoch 22/300\n",
      "2032/2032 [==============================] - 189s 93ms/step - loss: 1.1018 - accuracy: 0.6758 - val_loss: 1.1009 - val_accuracy: 0.6750\n",
      "Epoch 23/300\n",
      "2032/2032 [==============================] - 189s 93ms/step - loss: 1.1003 - accuracy: 0.6762 - val_loss: 1.0905 - val_accuracy: 0.6771\n",
      "Epoch 24/300\n",
      "2032/2032 [==============================] - 189s 93ms/step - loss: 1.0989 - accuracy: 0.6767 - val_loss: 1.0944 - val_accuracy: 0.6761\n",
      "Epoch 25/300\n",
      "2032/2032 [==============================] - 189s 93ms/step - loss: 1.0976 - accuracy: 0.6771 - val_loss: 1.0899 - val_accuracy: 0.6775\n",
      "Epoch 26/300\n",
      "2032/2032 [==============================] - 189s 93ms/step - loss: 1.0962 - accuracy: 0.6775 - val_loss: 1.0922 - val_accuracy: 0.6771\n",
      "Epoch 27/300\n",
      "2032/2032 [==============================] - 189s 93ms/step - loss: 1.0953 - accuracy: 0.6779 - val_loss: 1.0881 - val_accuracy: 0.6783\n",
      "Epoch 28/300\n",
      "2032/2032 [==============================] - 189s 93ms/step - loss: 1.0927 - accuracy: 0.6788 - val_loss: 1.0923 - val_accuracy: 0.6777\n",
      "Epoch 30/300\n",
      "1201/2032 [================>.............] - ETA: 1:13 - loss: 1.0929 - accuracy: 0.6788"
     ]
    },
    {
     "name": "stderr",
     "output_type": "stream",
     "text": [
      "IOPub message rate exceeded.\n",
      "The notebook server will temporarily stop sending output\n",
      "to the client in order to avoid crashing it.\n",
      "To change this limit, set the config variable\n",
      "`--NotebookApp.iopub_msg_rate_limit`.\n",
      "\n",
      "Current values:\n",
      "NotebookApp.iopub_msg_rate_limit=1000.0 (msgs/sec)\n",
      "NotebookApp.rate_limit_window=3.0 (secs)\n",
      "\n"
     ]
    },
    {
     "name": "stdout",
     "output_type": "stream",
     "text": [
      "2032/2032 [==============================] - 190s 93ms/step - loss: 1.0857 - accuracy: 0.6812 - val_loss: 1.0838 - val_accuracy: 0.6807\n",
      "Epoch 38/300\n",
      "1251/2032 [=================>............] - ETA: 1:08 - loss: 1.0844 - accuracy: 0.6815"
     ]
    },
    {
     "name": "stderr",
     "output_type": "stream",
     "text": [
      "IOPub message rate exceeded.\n",
      "The notebook server will temporarily stop sending output\n",
      "to the client in order to avoid crashing it.\n",
      "To change this limit, set the config variable\n",
      "`--NotebookApp.iopub_msg_rate_limit`.\n",
      "\n",
      "Current values:\n",
      "NotebookApp.iopub_msg_rate_limit=1000.0 (msgs/sec)\n",
      "NotebookApp.rate_limit_window=3.0 (secs)\n",
      "\n"
     ]
    }
   ],
   "source": [
    "mleG.fit(\n",
    "    [encoder_train, decoder_train], \n",
    "    teacher_train, \n",
    "    batch_size=128, \n",
    "    epochs=300, \n",
    "    shuffle=True, \n",
    "    validation_data = (\n",
    "        [encoder_vali, decoder_vali], \n",
    "        teacher_vali\n",
    "    ), \n",
    "    callbacks=[\n",
    "        ModelCheckpoint(\n",
    "            f'./{folder_name}/mleG.h5', \n",
    "            save_best_only=True, \n",
    "            monitor = \"val_loss\"\n",
    "        ),\n",
    "        EarlyStopping(monitor='val_loss', patience=5),\n",
    "        CSVLogger(f'{folder_name}/mleG.csv'),\n",
    "    ]\n",
    ")"
   ]
  },
  {
   "cell_type": "code",
   "execution_count": null,
   "metadata": {},
   "outputs": [],
   "source": [
    "mleG.load_weights(f'./{folder_name}/mleG.h5')\n",
    "loss, _acc = mleG.evaluate(\n",
    "    [encoder_vali, decoder_vali], \n",
    "    teacher_vali\n",
    ")\n",
    "print(loss)"
   ]
  },
  {
   "cell_type": "code",
   "execution_count": null,
   "metadata": {},
   "outputs": [],
   "source": [
    "import csv\n",
    "from matplotlib import pyplot as plt\n",
    "%matplotlib inline\n",
    "rows = csv.reader(open(f'{folder_name}/mleG.csv'))\n",
    "nll_mle = []\n",
    "for i, row in enumerate(rows):\n",
    "    if i == 0:\n",
    "        continue\n",
    "    nll_mle.append(float(row[-1]))\n",
    "plt.plot(nll_mle, )\n",
    "plt.grid(True)\n",
    "plt.ylabel('nll_test')\n",
    "plt.xlabel('training iterations')\n",
    "plt.legend()\n",
    "plt.show()"
   ]
  },
  {
   "cell_type": "markdown",
   "metadata": {},
   "source": [
    "## Inference train D (False) "
   ]
  },
  {
   "cell_type": "code",
   "execution_count": null,
   "metadata": {},
   "outputs": [],
   "source": [
    "def inference(\n",
    "    model,\n",
    "    enData = None,\n",
    "):\n",
    "    # Initialize\n",
    "    resp_pred_list = None\n",
    "    in_batch_list = None\n",
    "    the_first = True\n",
    "    \n",
    "    in_batch = np.zeros((len(enData), decoder_que_pad), dtype = int)\n",
    "    in_batch[:,0] = decoder_word2idx['<bos>']\n",
    "    en_batch = enData\n",
    "    resp_pred = np.zeros(in_batch.shape, dtype = int)\n",
    "    # Generate the sequence recurrsively.\n",
    "    for i in range(decoder_que_pad):\n",
    "        # Run\n",
    "        resp_pred_wv = model([en_batch, in_batch])\n",
    "        the_last = resp_pred_wv[:,i]\n",
    "        # Stochastic\n",
    "        the_last = tf.reshape(\n",
    "            tf.random.categorical(tf.math.log(the_last), 1), \n",
    "            [len(enData),]\n",
    "        )\n",
    "        # TODO: greedy\n",
    "        try:\n",
    "            resp_pred[:,i] = the_last\n",
    "            in_batch[:,i+1] = the_last\n",
    "        except:\n",
    "            resp_pred[:,i] = the_last\n",
    "    # Remove the words after <eos>\n",
    "    for i in range(len(resp_pred)):\n",
    "        try:\n",
    "            index = list(resp_pred[i]).index(en_word2idx['<eos>'])\n",
    "        except:\n",
    "            continue\n",
    "        resp_pred[i,index+1:] = 0\n",
    "        in_batch[i,index+1:] = 0\n",
    "        \n",
    "    return resp_pred, in_batch"
   ]
  },
  {
   "cell_type": "code",
   "execution_count": null,
   "metadata": {},
   "outputs": [],
   "source": [
    "resp_pred_list, _ = inference(mleG, [encoder_vali[99]])\n",
    "print('# Predicted sequence')\n",
    "print(seq2word(resp_pred_list, decoder_idx2word))\n",
    "print('# Real sequence')\n",
    "print(seq2word([decoder_vali[99]], decoder_idx2word))"
   ]
  },
  {
   "cell_type": "code",
   "execution_count": null,
   "metadata": {},
   "outputs": [],
   "source": []
  }
 ],
 "metadata": {
  "kernelspec": {
   "display_name": "Python 3",
   "language": "python",
   "name": "python3"
  },
  "language_info": {
   "codemirror_mode": {
    "name": "ipython",
    "version": 3
   },
   "file_extension": ".py",
   "mimetype": "text/x-python",
   "name": "python",
   "nbconvert_exporter": "python",
   "pygments_lexer": "ipython3",
   "version": "3.7.4"
  }
 },
 "nbformat": 4,
 "nbformat_minor": 5
}
