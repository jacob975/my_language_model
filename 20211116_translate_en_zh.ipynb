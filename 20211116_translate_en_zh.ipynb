{
 "cells": [
  {
   "cell_type": "code",
   "execution_count": 1,
   "id": "99cef7ef",
   "metadata": {},
   "outputs": [
    {
     "name": "stdout",
     "output_type": "stream",
     "text": [
      "Version:  2.5.0\n",
      "Eager mode:  True\n",
      "Hub version:  0.12.0\n",
      "GPU is available\n"
     ]
    }
   ],
   "source": [
    "import os\n",
    "import numpy as np\n",
    "import pandas as pd\n",
    "import pickle\n",
    "import json\n",
    "\n",
    "import tensorflow as tf\n",
    "from tensorflow.keras.models import Model\n",
    "from tensorflow.keras.layers import Input, Dense, LSTM, Embedding, Activation, Dropout\n",
    "from tensorflow.keras.layers import MultiHeadAttention, LayerNormalization\n",
    "from tensorflow.keras.optimizers import Adam\n",
    "from tensorflow.keras.callbacks import ModelCheckpoint, EarlyStopping, CSVLogger\n",
    "import tensorflow_hub as hub\n",
    "import tensorflow_datasets as tfds\n",
    "\n",
    "# If you have more than 1 GPU, you might want to specify which GPU for training.\n",
    "# In this case, I have 2 GPU and the second one is RTX 2080ti, so I pick the `second` one.\n",
    "os.environ['CUDA_VISIBLE_DEVICES']='0' # The second\n",
    "tf.config.set_soft_device_placement(True)\n",
    "\n",
    "print(\"Version: \", tf.__version__)\n",
    "print(\"Eager mode: \", tf.executing_eagerly())\n",
    "print(\"Hub version: \", hub.__version__)\n",
    "print(\"GPU is\", \"available\" if tf.config.list_physical_devices(\"GPU\") else \"NOT AVAILABLE\")"
   ]
  },
  {
   "cell_type": "markdown",
   "id": "23644ab5",
   "metadata": {},
   "source": [
    "# Constants"
   ]
  },
  {
   "cell_type": "code",
   "execution_count": 2,
   "id": "60417f2a",
   "metadata": {},
   "outputs": [],
   "source": [
    "d_name = '20211116_wmt19_en_zh'\n",
    "folder_name = '20211116_translate_mle_en_zh'\n",
    "\n",
    "encoder_wv_dim = 32\n",
    "decoder_wv_dim = 32\n",
    "encoder_que_pad = 65\n",
    "decoder_que_pad = 207"
   ]
  },
  {
   "cell_type": "code",
   "execution_count": 3,
   "id": "e41511ee",
   "metadata": {},
   "outputs": [],
   "source": [
    "if not os.path.isdir(folder_name):\n",
    "    os.makedirs(folder_name)"
   ]
  },
  {
   "cell_type": "markdown",
   "id": "1c9d510c",
   "metadata": {},
   "source": [
    "# Load data"
   ]
  },
  {
   "cell_type": "code",
   "execution_count": 4,
   "id": "3eb775dc",
   "metadata": {},
   "outputs": [],
   "source": [
    "encoder_train = pickle.load(open(f'{d_name}/encoder_train.pkl', 'rb'))\n",
    "decoder_train = pickle.load(open(f'{d_name}/decoder_train.pkl', 'rb'))\n",
    "teacher_train = pickle.load(open(f'{d_name}/teacher_train.pkl', 'rb'))\n",
    "encoder_vali  = pickle.load(open(f'{d_name}/encoder_vali.pkl', 'rb'))\n",
    "decoder_vali  = pickle.load(open(f'{d_name}/decoder_vali.pkl', 'rb'))\n",
    "teacher_vali  = pickle.load(open(f'{d_name}/teacher_vali.pkl', 'rb'))\n",
    "\n",
    "decoder_idx2word   = pickle.load(open(f'{d_name}/en_idx2word.pkl','rb'))\n",
    "decoder_word2idx   = pickle.load(open(f'{d_name}/en_word2idx.pkl','rb'))\n",
    "encoder_idx2word   = pickle.load(open(f'{d_name}/zh_idx2word.pkl','rb'))\n",
    "encoder_word2idx   = pickle.load(open(f'{d_name}/zh_word2idx.pkl','rb'))\n",
    "\n",
    "decoder_emb32   = pickle.load(open(f'{d_name}/en_emb32.pkl', 'rb'))\n",
    "encoder_emb32   = pickle.load(open(f'{d_name}/zh_emb32.pkl', 'rb'))"
   ]
  },
  {
   "cell_type": "code",
   "execution_count": 5,
   "id": "44f96fd7",
   "metadata": {},
   "outputs": [
    {
     "name": "stdout",
     "output_type": "stream",
     "text": [
      "(221040, 65)\n",
      "(221040, 207)\n"
     ]
    }
   ],
   "source": [
    "print(encoder_train.shape)\n",
    "print(teacher_train.shape)"
   ]
  },
  {
   "cell_type": "code",
   "execution_count": 6,
   "id": "c3e460ce",
   "metadata": {},
   "outputs": [
    {
     "name": "stdout",
     "output_type": "stream",
     "text": [
      "199\n",
      "4716\n"
     ]
    }
   ],
   "source": [
    "num_decoder_words = np.max([np.max(decoder_train), np.max(decoder_vali)])+1\n",
    "num_encoder_words = np.max([np.max(encoder_train), np.max(encoder_vali)])+1\n",
    "\n",
    "print(num_decoder_words)\n",
    "print(num_encoder_words)"
   ]
  },
  {
   "cell_type": "code",
   "execution_count": 7,
   "id": "ac922624",
   "metadata": {},
   "outputs": [],
   "source": [
    "def seq2word(seq_tensor, idx2word):\n",
    "    return np.array([[idx2word[i] for i in seq] for seq in seq_tensor])"
   ]
  },
  {
   "cell_type": "code",
   "execution_count": 8,
   "id": "0e3e3ec3",
   "metadata": {
    "scrolled": true
   },
   "outputs": [
    {
     "data": {
      "text/plain": [
       "array([['<bos>', '1', '9', '2', '9', ' ', 'o', 'r', ' ', '1', '9', '8',\n",
       "        '9', '?', '<eos>', ' ', ' ', ' ', ' ', ' ', ' ', ' ', ' ', ' ',\n",
       "        ' ', ' ', ' ', ' ', ' ', ' ', ' ', ' ', ' ', ' ', ' ', ' ', ' ',\n",
       "        ' ', ' ', ' ', ' ', ' ', ' ', ' ', ' ', ' ', ' ', ' ', ' ', ' ',\n",
       "        ' ', ' ', ' ', ' ', ' ', ' ', ' ', ' ', ' ', ' ', ' ', ' ', ' ',\n",
       "        ' ', ' ', ' ', ' ', ' ', ' ', ' ', ' ', ' ', ' ', ' ', ' ', ' ',\n",
       "        ' ', ' ', ' ', ' ', ' ', ' ', ' ', ' ', ' ', ' ', ' ', ' ', ' ',\n",
       "        ' ', ' ', ' ', ' ', ' ', ' ', ' ', ' ', ' ', ' ', ' ', ' ', ' ',\n",
       "        ' ', ' ', ' ', ' ', ' ', ' ', ' ', ' ', ' ', ' ', ' ', ' ', ' ',\n",
       "        ' ', ' ', ' ', ' ', ' ', ' ', ' ', ' ', ' ', ' ', ' ', ' ', ' ',\n",
       "        ' ', ' ', ' ', ' ', ' ', ' ', ' ', ' ', ' ', ' ', ' ', ' ', ' ',\n",
       "        ' ', ' ', ' ', ' ', ' ', ' ', ' ', ' ', ' ', ' ', ' ', ' ', ' ',\n",
       "        ' ', ' ', ' ', ' ', ' ', ' ', ' ', ' ', ' ', ' ', ' ', ' ', ' ',\n",
       "        ' ', ' ', ' ', ' ', ' ', ' ', ' ', ' ', ' ', ' ', ' ', ' ', ' ',\n",
       "        ' ', ' ', ' ', ' ', ' ', ' ', ' ', ' ', ' ', ' ', ' ', ' ', ' ',\n",
       "        ' ', ' ', ' ', ' ', ' ', ' ', ' ', ' ', ' ', ' ', ' ', ' ', ' ',\n",
       "        ' ']], dtype='<U5')"
      ]
     },
     "execution_count": 8,
     "metadata": {},
     "output_type": "execute_result"
    }
   ],
   "source": [
    "seq2word(decoder_vali[:1], decoder_idx2word)"
   ]
  },
  {
   "cell_type": "code",
   "execution_count": 9,
   "id": "53c694cc",
   "metadata": {},
   "outputs": [
    {
     "data": {
      "text/plain": [
       "array([['1', '9', '2', '9', '年', '还', '是', '1', '9', '8', '9', '年', '?',\n",
       "        ' ', ' ', ' ', ' ', ' ', ' ', ' ', ' ', ' ', ' ', ' ', ' ', ' ',\n",
       "        ' ', ' ', ' ', ' ', ' ', ' ', ' ', ' ', ' ', ' ', ' ', ' ', ' ',\n",
       "        ' ', ' ', ' ', ' ', ' ', ' ', ' ', ' ', ' ', ' ', ' ', ' ', ' ',\n",
       "        ' ', ' ', ' ', ' ', ' ', ' ', ' ', ' ', ' ', ' ', ' ', ' ', ' ']],\n",
       "      dtype='<U1')"
      ]
     },
     "execution_count": 9,
     "metadata": {},
     "output_type": "execute_result"
    }
   ],
   "source": [
    "seq2word(encoder_vali[:1], encoder_idx2word)"
   ]
  },
  {
   "cell_type": "markdown",
   "id": "6881e464",
   "metadata": {},
   "source": [
    "# Positional Encoding\n",
    "[Positional Encoding](https://www.tensorflow.org/text/tutorials/transformer)\n",
    "based on [Vaswani+17, Attention is All You Need](https://arxiv.org/abs/1706.03762)"
   ]
  },
  {
   "cell_type": "code",
   "execution_count": 10,
   "id": "4db9fb05",
   "metadata": {},
   "outputs": [],
   "source": [
    "def get_angles(pos, i, d_model):\n",
    "    angle_rates = 1 / np.power(10000, (2 * (i//2)) / np.float32(d_model))\n",
    "    return pos * angle_rates\n",
    "\n",
    "def positional_encoding(position, d_model):\n",
    "    angle_rads = get_angles(\n",
    "        np.arange(position)[:, np.newaxis],\n",
    "        np.arange(d_model)[np.newaxis, :],\n",
    "        d_model\n",
    "    )\n",
    "\n",
    "    # apply sin to even indices in the array; 2i\n",
    "    angle_rads[:, 0::2] = np.sin(angle_rads[:, 0::2])\n",
    "\n",
    "    # apply cos to odd indices in the array; 2i+1\n",
    "    angle_rads[:, 1::2] = np.cos(angle_rads[:, 1::2])\n",
    "\n",
    "    pos_encoding = angle_rads[np.newaxis, ...]\n",
    "\n",
    "    return tf.cast(pos_encoding, dtype=tf.float32)"
   ]
  },
  {
   "cell_type": "code",
   "execution_count": 11,
   "id": "665bdfce",
   "metadata": {},
   "outputs": [
    {
     "name": "stdout",
     "output_type": "stream",
     "text": [
      "(1, 10, 64)\n"
     ]
    },
    {
     "data": {
      "image/png": "[encoded data removed]",
      "text/plain": [
       "<Figure size 432x288 with 2 Axes>"
      ]
     },
     "metadata": {
      "needs_background": "light"
     },
     "output_type": "display_data"
    }
   ],
   "source": [
    "from matplotlib import pyplot as plt\n",
    "n, d = 10, 64\n",
    "pos_encoding = positional_encoding(n, d)\n",
    "print(pos_encoding.shape)\n",
    "pos_encoding = pos_encoding[0]\n",
    "\n",
    "# Juggle the dimensions for the plot\n",
    "pos_encoding = tf.reshape(pos_encoding, (n, d//2, 2))\n",
    "pos_encoding = tf.transpose(pos_encoding, (2, 1, 0))\n",
    "pos_encoding = tf.reshape(pos_encoding, (d, n))\n",
    "\n",
    "plt.pcolormesh(pos_encoding, cmap='RdBu')\n",
    "plt.ylabel('Depth')\n",
    "plt.xlabel('Position')\n",
    "plt.colorbar()\n",
    "plt.show()"
   ]
  },
  {
   "cell_type": "markdown",
   "id": "8194577b",
   "metadata": {},
   "source": [
    "# Generator"
   ]
  },
  {
   "cell_type": "markdown",
   "id": "1dda9984",
   "metadata": {},
   "source": [
    "[Multi-Head Attention](https://www.tensorflow.org/api_docs/python/tf/keras/layers/MultiHeadAttention) \n",
    "and [Positional Encoding](https://www.tensorflow.org/text/tutorials/transformer)\n",
    "based on [Vaswani+17, Attention is All You Need](https://arxiv.org/abs/1706.03762)"
   ]
  },
  {
   "cell_type": "code",
   "execution_count": 12,
   "id": "f9b3c4ab",
   "metadata": {},
   "outputs": [],
   "source": [
    "def Transformer(q_que_pad, k_que_pad, wv_dim, k_wv_dim, rate = 0.1, mask = ''):\n",
    "    # Inputs\n",
    "    mem  = Input((q_que_pad, wv_dim))\n",
    "    encode = Input((k_que_pad, k_wv_dim))\n",
    "    # Constants\n",
    "    ff_dim = wv_dim*64\n",
    "    # Multi-Head Attention\n",
    "    q = Dense(wv_dim)(mem)\n",
    "    k = Dense(wv_dim)(encode)\n",
    "    v = Dense(wv_dim)(encode)\n",
    "    # Choose a mask, default: BERT (no mask)\n",
    "    mask_weights = np.ones((q_que_pad, k_que_pad))\n",
    "    if mask == 'GPT':\n",
    "        mask_weights = np.tri(q_que_pad, k_que_pad, 0)\n",
    "    mem_new = MultiHeadAttention(\n",
    "        num_heads = 4,\n",
    "        key_dim = wv_dim, \n",
    "        value_dim = wv_dim\n",
    "    )(\n",
    "        q, k, v,\n",
    "        attention_mask = mask_weights\n",
    "    )\n",
    "    mem_new = Dropout(rate)(mem_new)\n",
    "    mem_new = LayerNormalization(epsilon=1e-6)(mem_new+mem)\n",
    "    # Feed-Forward skip-connection\n",
    "    ffn = Dense(ff_dim, activation = 'relu')(mem_new)\n",
    "    ffn = Dense(wv_dim)(ffn)\n",
    "    ffn = Dropout(rate)(ffn)\n",
    "    out = LayerNormalization(epsilon=1e-6)(ffn+mem_new)\n",
    "    model = Model(\n",
    "        [mem, encode],\n",
    "        [mem_new, out],\n",
    "    )\n",
    "    return model\n",
    "\n",
    "def getE(wv_dim = 16):\n",
    "    _input = Input((encoder_que_pad,))\n",
    "    emb = Embedding(\n",
    "        num_encoder_words, \n",
    "        wv_dim, \n",
    "        mask_zero = False,\n",
    "        input_length=(int(encoder_que_pad)),\n",
    "        trainable = True,\n",
    "        #embeddings_initializer=tf.keras.initializers.Constant(encoder_emb32),\n",
    "    )\n",
    "    mem = emb(_input)\n",
    "    # position encoding\n",
    "    pe = positional_encoding(encoder_que_pad, wv_dim)\n",
    "    mem = LayerNormalization(epsilon=1e-6)(mem+pe)\n",
    "    # forward sentence\n",
    "    for i in range(1):\n",
    "        gptLayer = Transformer(encoder_que_pad, encoder_que_pad, wv_dim, wv_dim)\n",
    "        mem, output = gptLayer((mem, mem))\n",
    "        output = Activation('relu')(output)\n",
    "        mem = Activation('relu')(mem)\n",
    "    # Output\n",
    "    model = Model(\n",
    "        _input, \n",
    "        output) \n",
    "    return model\n",
    "\n",
    "def getD(wv_dim = 8, encoder_wv_dim = 16):\n",
    "    en_output = Input((encoder_que_pad, encoder_wv_dim))\n",
    "    de_input  = Input((decoder_que_pad,))\n",
    "    emb = Embedding(\n",
    "        num_decoder_words, \n",
    "        wv_dim, \n",
    "        mask_zero = False,\n",
    "        input_length=(int(decoder_que_pad)),\n",
    "        trainable = True,\n",
    "        #embeddings_initializer=tf.keras.initializers.Constant(decoder_emb32),\n",
    "    )\n",
    "    mem = emb(de_input)\n",
    "    # position encoding\n",
    "    pe = positional_encoding(decoder_que_pad, wv_dim)\n",
    "    mem = LayerNormalization(epsilon=1e-6)(mem+pe)\n",
    "    # Attention\n",
    "    for j in range(1):\n",
    "        # Self attention\n",
    "        for i in range(1):\n",
    "            gptLayer = Transformer(decoder_que_pad, decoder_que_pad, wv_dim, wv_dim, mask = 'GPT')\n",
    "            mem, _ = gptLayer((mem, mem))\n",
    "            mem = Activation('relu')(mem)\n",
    "        # Cross attention\n",
    "        for i in range(1):\n",
    "            gptLayer = Transformer(decoder_que_pad, encoder_que_pad, wv_dim, encoder_wv_dim)\n",
    "            mem, output = gptLayer((mem, en_output))\n",
    "            output = Activation('relu')(output)\n",
    "            mem = Activation('relu')(mem)\n",
    "    # Concatenation and output\n",
    "    output = Dense(num_decoder_words)(output)\n",
    "    output = Activation('softmax')(output)\n",
    "    model = Model(\n",
    "        [en_output, de_input], \n",
    "        output,\n",
    "    )\n",
    "    return model\n",
    "\n",
    "# Language Model\n",
    "def getLM():\n",
    "    # Inputs\n",
    "    en_input = Input((encoder_que_pad,))\n",
    "    de_input = Input((decoder_que_pad,))\n",
    "    # Encoder (Chinese -> code)\n",
    "    encoder = getE(encoder_wv_dim)\n",
    "    encoder.summary()\n",
    "    en_output = encoder(en_input)\n",
    "    # Decoder (code -> English)\n",
    "    decoder = getD(decoder_wv_dim, encoder_wv_dim)\n",
    "    decoder.summary()\n",
    "    de_output = decoder([en_output, de_input])\n",
    "    # Establish the model\n",
    "    model = Model(\n",
    "        [en_input, de_input],\n",
    "        de_output,\n",
    "    )\n",
    "    return model"
   ]
  },
  {
   "cell_type": "code",
   "execution_count": 19,
   "id": "23392248",
   "metadata": {},
   "outputs": [
    {
     "name": "stdout",
     "output_type": "stream",
     "text": [
      "Model: \"model_7\"\n",
      "__________________________________________________________________________________________________\n",
      "Layer (type)                    Output Shape         Param #     Connected to                     \n",
      "==================================================================================================\n",
      "input_14 (InputLayer)           [(None, 65)]         0                                            \n",
      "__________________________________________________________________________________________________\n",
      "embedding_2 (Embedding)         (None, 65, 32)       150912      input_14[0][0]                   \n",
      "__________________________________________________________________________________________________\n",
      "tf.__operators__.add_8 (TFOpLam (None, 65, 32)       0           embedding_2[0][0]                \n",
      "__________________________________________________________________________________________________\n",
      "layer_normalization_8 (LayerNor (None, 65, 32)       64          tf.__operators__.add_8[0][0]     \n",
      "__________________________________________________________________________________________________\n",
      "model_6 (Functional)            [(None, 65, 32), (No 153248      layer_normalization_8[0][0]      \n",
      "                                                                 layer_normalization_8[0][0]      \n",
      "__________________________________________________________________________________________________\n",
      "activation_6 (Activation)       (None, 65, 32)       0           model_6[0][1]                    \n",
      "==================================================================================================\n",
      "Total params: 304,224\n",
      "Trainable params: 304,224\n",
      "Non-trainable params: 0\n",
      "__________________________________________________________________________________________________\n",
      "Model: \"model_10\"\n",
      "__________________________________________________________________________________________________\n",
      "Layer (type)                    Output Shape         Param #     Connected to                     \n",
      "==================================================================================================\n",
      "input_18 (InputLayer)           [(None, 207)]        0                                            \n",
      "__________________________________________________________________________________________________\n",
      "embedding_3 (Embedding)         (None, 207, 32)      6368        input_18[0][0]                   \n",
      "__________________________________________________________________________________________________\n",
      "tf.__operators__.add_11 (TFOpLa (None, 207, 32)      0           embedding_3[0][0]                \n",
      "__________________________________________________________________________________________________\n",
      "layer_normalization_11 (LayerNo (None, 207, 32)      64          tf.__operators__.add_11[0][0]    \n",
      "__________________________________________________________________________________________________\n",
      "model_8 (Functional)            [(None, 207, 32), (N 153248      layer_normalization_11[0][0]     \n",
      "                                                                 layer_normalization_11[0][0]     \n",
      "__________________________________________________________________________________________________\n",
      "activation_8 (Activation)       (None, 207, 32)      0           model_8[0][0]                    \n",
      "__________________________________________________________________________________________________\n",
      "input_17 (InputLayer)           [(None, 65, 32)]     0                                            \n",
      "__________________________________________________________________________________________________\n",
      "model_9 (Functional)            [(None, 207, 32), (N 153248      activation_8[0][0]               \n",
      "                                                                 input_17[0][0]                   \n",
      "__________________________________________________________________________________________________\n",
      "activation_9 (Activation)       (None, 207, 32)      0           model_9[0][1]                    \n",
      "__________________________________________________________________________________________________\n",
      "dense_31 (Dense)                (None, 207, 199)     6567        activation_9[0][0]               \n",
      "__________________________________________________________________________________________________\n",
      "activation_11 (Activation)      (None, 207, 199)     0           dense_31[0][0]                   \n",
      "==================================================================================================\n",
      "Total params: 319,495\n",
      "Trainable params: 319,495\n",
      "Non-trainable params: 0\n",
      "__________________________________________________________________________________________________\n",
      "Model: \"model_11\"\n",
      "__________________________________________________________________________________________________\n",
      "Layer (type)                    Output Shape         Param #     Connected to                     \n",
      "==================================================================================================\n",
      "input_12 (InputLayer)           [(None, 65)]         0                                            \n",
      "__________________________________________________________________________________________________\n",
      "model_7 (Functional)            (None, 65, 32)       304224      input_12[0][0]                   \n",
      "__________________________________________________________________________________________________\n",
      "input_13 (InputLayer)           [(None, 207)]        0                                            \n",
      "__________________________________________________________________________________________________\n",
      "model_10 (Functional)           (None, 207, 199)     319495      model_7[0][0]                    \n",
      "                                                                 input_13[0][0]                   \n",
      "==================================================================================================\n",
      "Total params: 623,719\n",
      "Trainable params: 623,719\n",
      "Non-trainable params: 0\n",
      "__________________________________________________________________________________________________\n"
     ]
    }
   ],
   "source": [
    "mleG = getLM()\n",
    "mleG.compile(\n",
    "    loss='sparse_categorical_crossentropy',\n",
    "    optimizer=Adam(),\n",
    "    metrics=['accuracy'],\n",
    ")\n",
    "mleG.summary()"
   ]
  },
  {
   "cell_type": "code",
   "execution_count": null,
   "id": "2e967d1f",
   "metadata": {},
   "outputs": [
    {
     "name": "stdout",
     "output_type": "stream",
     "text": [
      "Epoch 1/300\n",
      "WARNING:tensorflow:Gradients do not exist for variables ['dense_24/kernel:0', 'dense_24/bias:0', 'dense_25/kernel:0', 'dense_25/bias:0', 'layer_normalization_13/gamma:0', 'layer_normalization_13/beta:0'] when minimizing the loss.\n",
      "WARNING:tensorflow:Gradients do not exist for variables ['dense_24/kernel:0', 'dense_24/bias:0', 'dense_25/kernel:0', 'dense_25/bias:0', 'layer_normalization_13/gamma:0', 'layer_normalization_13/beta:0'] when minimizing the loss.\n",
      "1727/1727 [==============================] - 78s 44ms/step - loss: 1.4349 - accuracy: 0.6231 - val_loss: 1.0278 - val_accuracy: 0.6925\n",
      "Epoch 2/300\n",
      "1727/1727 [==============================] - 68s 39ms/step - loss: 1.0080 - accuracy: 0.6997 - val_loss: 0.8930 - val_accuracy: 0.7325\n",
      "Epoch 3/300\n",
      "1727/1727 [==============================] - 76s 44ms/step - loss: 0.9329 - accuracy: 0.7210 - val_loss: 0.8408 - val_accuracy: 0.7471\n",
      "Epoch 4/300\n",
      "1727/1727 [==============================] - 76s 44ms/step - loss: 0.8911 - accuracy: 0.7332 - val_loss: 0.8030 - val_accuracy: 0.7586\n",
      "Epoch 5/300\n",
      "1727/1727 [==============================] - 76s 44ms/step - loss: 0.8604 - accuracy: 0.7428 - val_loss: 0.7728 - val_accuracy: 0.7683\n",
      "Epoch 6/300\n",
      "1727/1727 [==============================] - 76s 44ms/step - loss: 0.8374 - accuracy: 0.7500 - val_loss: 0.7545 - val_accuracy: 0.7738\n",
      "Epoch 7/300\n",
      "1727/1727 [==============================] - 75s 44ms/step - loss: 0.8198 - accuracy: 0.7554 - val_loss: 0.7407 - val_accuracy: 0.7779\n",
      "Epoch 8/300\n",
      "1727/1727 [==============================] - 76s 44ms/step - loss: 0.8064 - accuracy: 0.7595 - val_loss: 0.7272 - val_accuracy: 0.7818\n",
      "Epoch 9/300\n",
      "1727/1727 [==============================] - 76s 44ms/step - loss: 0.7955 - accuracy: 0.7629 - val_loss: 0.7171 - val_accuracy: 0.7854\n",
      "Epoch 10/300\n",
      "1727/1727 [==============================] - 76s 44ms/step - loss: 0.7859 - accuracy: 0.7657 - val_loss: 0.7074 - val_accuracy: 0.7880\n",
      "Epoch 11/300\n",
      "1727/1727 [==============================] - 76s 44ms/step - loss: 0.7782 - accuracy: 0.7681 - val_loss: 0.7019 - val_accuracy: 0.7896\n",
      "Epoch 12/300\n",
      "1727/1727 [==============================] - 76s 44ms/step - loss: 0.7713 - accuracy: 0.7702 - val_loss: 0.6952 - val_accuracy: 0.7918\n",
      "Epoch 13/300\n",
      "1727/1727 [==============================] - 76s 44ms/step - loss: 0.7650 - accuracy: 0.7720 - val_loss: 0.6899 - val_accuracy: 0.7930\n",
      "Epoch 14/300\n",
      "1727/1727 [==============================] - 75s 44ms/step - loss: 0.7596 - accuracy: 0.7737 - val_loss: 0.6850 - val_accuracy: 0.7949\n",
      "Epoch 15/300\n",
      "1727/1727 [==============================] - 76s 44ms/step - loss: 0.7546 - accuracy: 0.7752 - val_loss: 0.6834 - val_accuracy: 0.7949\n",
      "Epoch 16/300\n",
      "1727/1727 [==============================] - 76s 44ms/step - loss: 0.7502 - accuracy: 0.7766 - val_loss: 0.6797 - val_accuracy: 0.7964\n",
      "Epoch 17/300\n",
      "1727/1727 [==============================] - 76s 44ms/step - loss: 0.7462 - accuracy: 0.7778 - val_loss: 0.6760 - val_accuracy: 0.7970\n",
      "Epoch 18/300\n",
      "1727/1727 [==============================] - 76s 44ms/step - loss: 0.7424 - accuracy: 0.7789 - val_loss: 0.6735 - val_accuracy: 0.7977\n",
      "Epoch 19/300\n",
      "1727/1727 [==============================] - 76s 44ms/step - loss: 0.7391 - accuracy: 0.7800 - val_loss: 0.6694 - val_accuracy: 0.7993\n",
      "Epoch 20/300\n",
      "1727/1727 [==============================] - 76s 44ms/step - loss: 0.7359 - accuracy: 0.7809 - val_loss: 0.6668 - val_accuracy: 0.8008\n",
      "Epoch 21/300\n",
      "1727/1727 [==============================] - 75s 44ms/step - loss: 0.7327 - accuracy: 0.7819 - val_loss: 0.6638 - val_accuracy: 0.8010\n",
      "Epoch 22/300\n",
      "1727/1727 [==============================] - 76s 44ms/step - loss: 0.7300 - accuracy: 0.7828 - val_loss: 0.6606 - val_accuracy: 0.8023\n",
      "Epoch 23/300\n",
      "1727/1727 [==============================] - 76s 44ms/step - loss: 0.7272 - accuracy: 0.7836 - val_loss: 0.6581 - val_accuracy: 0.8029\n",
      "Epoch 24/300\n",
      "1727/1727 [==============================] - 75s 44ms/step - loss: 0.7245 - accuracy: 0.7844 - val_loss: 0.6569 - val_accuracy: 0.8035\n",
      "Epoch 25/300\n",
      "1727/1727 [==============================] - 76s 44ms/step - loss: 0.7222 - accuracy: 0.7851 - val_loss: 0.6560 - val_accuracy: 0.8037\n",
      "Epoch 26/300\n",
      "1727/1727 [==============================] - 76s 44ms/step - loss: 0.7199 - accuracy: 0.7858 - val_loss: 0.6535 - val_accuracy: 0.8039\n",
      "Epoch 27/300\n",
      "1727/1727 [==============================] - 75s 44ms/step - loss: 0.7176 - accuracy: 0.7866 - val_loss: 0.6492 - val_accuracy: 0.8056\n",
      "Epoch 28/300\n",
      "1727/1727 [==============================] - 76s 44ms/step - loss: 0.7155 - accuracy: 0.7872 - val_loss: 0.6477 - val_accuracy: 0.8064\n",
      "Epoch 29/300\n",
      "1727/1727 [==============================] - 75s 44ms/step - loss: 0.7135 - accuracy: 0.7879 - val_loss: 0.6448 - val_accuracy: 0.8071\n",
      "Epoch 30/300\n",
      "1727/1727 [==============================] - 76s 44ms/step - loss: 0.7113 - accuracy: 0.7886 - val_loss: 0.6451 - val_accuracy: 0.8069\n",
      "Epoch 31/300\n",
      "1727/1727 [==============================] - 76s 44ms/step - loss: 0.7093 - accuracy: 0.7893 - val_loss: 0.6431 - val_accuracy: 0.8073\n",
      "Epoch 32/300\n",
      "1727/1727 [==============================] - 76s 44ms/step - loss: 0.7075 - accuracy: 0.7899 - val_loss: 0.6414 - val_accuracy: 0.8080\n",
      "Epoch 33/300\n",
      "1727/1727 [==============================] - 76s 44ms/step - loss: 0.7058 - accuracy: 0.7904 - val_loss: 0.6401 - val_accuracy: 0.8091\n",
      "Epoch 34/300\n",
      "1727/1727 [==============================] - 76s 44ms/step - loss: 0.7042 - accuracy: 0.7909 - val_loss: 0.6406 - val_accuracy: 0.8086\n",
      "Epoch 35/300\n",
      "1727/1727 [==============================] - 76s 44ms/step - loss: 0.7025 - accuracy: 0.7914 - val_loss: 0.6375 - val_accuracy: 0.8096\n",
      "Epoch 36/300\n",
      "1727/1727 [==============================] - 76s 44ms/step - loss: 0.7011 - accuracy: 0.7918 - val_loss: 0.6348 - val_accuracy: 0.8100\n",
      "Epoch 37/300\n",
      "1727/1727 [==============================] - 76s 44ms/step - loss: 0.6995 - accuracy: 0.7923 - val_loss: 0.6344 - val_accuracy: 0.8102\n",
      "Epoch 38/300\n",
      "1727/1727 [==============================] - 76s 44ms/step - loss: 0.6983 - accuracy: 0.7927 - val_loss: 0.6338 - val_accuracy: 0.8103\n",
      "Epoch 39/300\n",
      "1727/1727 [==============================] - 75s 44ms/step - loss: 0.6968 - accuracy: 0.7932 - val_loss: 0.6318 - val_accuracy: 0.8112\n",
      "Epoch 40/300\n",
      "1727/1727 [==============================] - 75s 43ms/step - loss: 0.6955 - accuracy: 0.7936 - val_loss: 0.6309 - val_accuracy: 0.8114\n",
      "Epoch 41/300\n",
      "1727/1727 [==============================] - 75s 44ms/step - loss: 0.6944 - accuracy: 0.7939 - val_loss: 0.6313 - val_accuracy: 0.8107\n",
      "Epoch 42/300\n",
      "1727/1727 [==============================] - 76s 44ms/step - loss: 0.6933 - accuracy: 0.7942 - val_loss: 0.6283 - val_accuracy: 0.8118\n",
      "Epoch 43/300\n",
      "1727/1727 [==============================] - 76s 44ms/step - loss: 0.6919 - accuracy: 0.7946 - val_loss: 0.6269 - val_accuracy: 0.8125\n",
      "Epoch 44/300\n",
      "1727/1727 [==============================] - 75s 44ms/step - loss: 0.6907 - accuracy: 0.7949 - val_loss: 0.6261 - val_accuracy: 0.8126\n",
      "Epoch 45/300\n",
      "1727/1727 [==============================] - 76s 44ms/step - loss: 0.6897 - accuracy: 0.7952 - val_loss: 0.6273 - val_accuracy: 0.8123\n",
      "Epoch 46/300\n",
      "1727/1727 [==============================] - 76s 44ms/step - loss: 0.6886 - accuracy: 0.7956 - val_loss: 0.6237 - val_accuracy: 0.8136\n",
      "Epoch 47/300\n",
      " 225/1727 [==>...........................] - ETA: 1:02 - loss: 0.6861 - accuracy: 0.7963"
     ]
    }
   ],
   "source": [
    "mleG.fit(\n",
    "    [encoder_train, decoder_train], \n",
    "    teacher_train, \n",
    "    batch_size=128, \n",
    "    epochs=300, \n",
    "    shuffle=True, \n",
    "    validation_data = (\n",
    "        [encoder_vali, decoder_vali], \n",
    "        teacher_vali\n",
    "    ), \n",
    "    callbacks=[\n",
    "        ModelCheckpoint(\n",
    "            f'./{folder_name}/mleG.h5', \n",
    "            save_best_only=True, \n",
    "            monitor = \"val_loss\"\n",
    "        ),\n",
    "        EarlyStopping(monitor='val_loss', patience=5),\n",
    "        CSVLogger(f'{folder_name}/mleG.csv'),\n",
    "    ]\n",
    ")"
   ]
  },
  {
   "cell_type": "code",
   "execution_count": 15,
   "id": "6dcb8da4",
   "metadata": {},
   "outputs": [
    {
     "name": "stdout",
     "output_type": "stream",
     "text": [
      "768/768 [==============================] - 9s 11ms/step - loss: 0.6105 - accuracy: 0.8175\n",
      "0.610512375831604\n"
     ]
    }
   ],
   "source": [
    "mleG.load_weights(f'./{folder_name}/mleG.h5')\n",
    "loss, _acc = mleG.evaluate(\n",
    "    [encoder_vali, decoder_vali], \n",
    "    teacher_vali\n",
    ")\n",
    "print(loss)"
   ]
  },
  {
   "cell_type": "code",
   "execution_count": 16,
   "id": "406117ab",
   "metadata": {},
   "outputs": [
    {
     "name": "stderr",
     "output_type": "stream",
     "text": [
      "No handles with labels found to put in legend.\n"
     ]
    },
    {
     "data": {
      "image/png": "[encoded data removed]",
      "text/plain": [
       "<Figure size 432x288 with 1 Axes>"
      ]
     },
     "metadata": {
      "needs_background": "light"
     },
     "output_type": "display_data"
    }
   ],
   "source": [
    "import csv\n",
    "from matplotlib import pyplot as plt\n",
    "%matplotlib inline\n",
    "rows = csv.reader(open(f'{folder_name}/mleG.csv'))\n",
    "nll_mle = []\n",
    "for i, row in enumerate(rows):\n",
    "    if i == 0:\n",
    "        continue\n",
    "    nll_mle.append(float(row[-1]))\n",
    "plt.plot(nll_mle, )\n",
    "plt.grid(True)\n",
    "plt.ylabel('nll_test')\n",
    "plt.xlabel('training iterations')\n",
    "plt.legend()\n",
    "plt.show()"
   ]
  },
  {
   "cell_type": "markdown",
   "id": "bbe98356",
   "metadata": {},
   "source": [
    "## Inference train D (False) "
   ]
  },
  {
   "cell_type": "code",
   "execution_count": 17,
   "id": "dfa9a37b",
   "metadata": {},
   "outputs": [],
   "source": [
    "def inference(\n",
    "    model,\n",
    "    enData = None,\n",
    "):\n",
    "    # Initialize\n",
    "    resp_pred_list = None\n",
    "    in_batch_list = None\n",
    "    the_first = True\n",
    "    \n",
    "    in_batch = np.zeros((len(enData), decoder_que_pad), dtype = int)\n",
    "    in_batch[:,0] = decoder_word2idx['<bos>']\n",
    "    en_batch = enData\n",
    "    resp_pred = np.zeros(in_batch.shape, dtype = int)\n",
    "    # Generate the sequence recurrsively.\n",
    "    for i in range(decoder_que_pad):\n",
    "        # Run\n",
    "        resp_pred_wv = model([en_batch, in_batch])\n",
    "        the_last = resp_pred_wv[:,i]\n",
    "        # Stochastic\n",
    "        the_last = tf.reshape(\n",
    "            tf.random.categorical(tf.math.log(the_last), 1), \n",
    "            [len(enData),]\n",
    "        )\n",
    "        # TODO: greedy\n",
    "        try:\n",
    "            resp_pred[:,i] = the_last\n",
    "            in_batch[:,i+1] = the_last\n",
    "        except:\n",
    "            resp_pred[:,i] = the_last\n",
    "    # Remove the words after <eos>\n",
    "    for i in range(len(resp_pred)):\n",
    "        try:\n",
    "            index = list(resp_pred[i]).index(en_word2idx['<eos>'])\n",
    "        except:\n",
    "            continue\n",
    "        resp_pred[i,index+1:] = 0\n",
    "        in_batch[i,index+1:] = 0\n",
    "        \n",
    "    return resp_pred, in_batch"
   ]
  },
  {
   "cell_type": "code",
   "execution_count": 18,
   "id": "16762cca",
   "metadata": {},
   "outputs": [
    {
     "name": "stdout",
     "output_type": "stream",
     "text": [
      "# Predicted sequence\n",
      "[['C' 'o' 'n' 's' 'e' 'q' 'u' 'e' 'n' 'c' 'e' ' ' 't' 'e' 'n' 's' 'i' 'o'\n",
      "  'n' ' ' 'p' 'o' 'p' 'u' 'l' 'i' 's' 'm' ' ' 'h' 'a' 's' ' ' 'b' 'y' ' '\n",
      "  't' 'h' 'a' 't' ' ' 'm' 'u' 'c' 'h' ' ' 't' 'o' ' ' 'e' 'x' 't' 'e' 'n'\n",
      "  'd' 'e' 'n' 'c' 'e' ' ' 'o' 'f' ' ' 'U' 'S' ' ' 'i' 'n' ' ' 't' 'h' 'e'\n",
      "  ' ' 'e' 'x' 'c' 'e' 'e' 'd' ' ' 'h' 'a' 'v' 'e' ' ' 'd' 'i' 'd' ' ' 'U'\n",
      "  'S' ' ' 'm' 'e' 'r' 'g' 'a' 'd' 'e' 'd' ' ' 'c' 'o' 'n' 'f' 'r' 'o' 'n'\n",
      "  't' '.' '<eos>' ' ' ' ' ' ' ' ' ' ' ' ' ' ' ' ' ' ' ' ' ' ' ' ' ' ' ' '\n",
      "  ' ' ' ' ' ' ' ' ' ' ' ' ' ' ' ' ' ' ' ' ' ' ' ' ' ' ' ' ' ' ' ' ' ' ' '\n",
      "  ' ' ' ' ' ' ' ' ' ' ' ' ' ' ' ' ' ' ' ' ' ' ' ' ' ' ' ' ' ' ' ' ' ' ' '\n",
      "  ' ' ' ' ' ' ' ' ' ' ' ' ' ' ' ' ' ' ' ' ' ' ' ' ' ' ' ' ' ' ' ' ' ' ' '\n",
      "  ' ' ' ' ' ' ' ' ' ' ' ' ' ' ' ' ' ' ' ' ' ' ' ' ' ' ' ' ' ' ' ' ' ' ' '\n",
      "  ' ' ' ' ' ' ' ' ' ' ' ' ' ' ' ' ' ' ' ']]\n",
      "# Real sequence\n",
      "[['<bos>' 'T' 'e' 'n' 's' 'i' 'o' 'n' 's' ' ' 'i' 'n' ' ' 't' 'h' 'e' ' '\n",
      "  'M' 'i' 'd' 'd' 'l' 'e' ' ' 'E' 'a' 's' 't' ' ' 'a' 'r' 'e' ' ' 'r' 'i'\n",
      "  's' 'i' 'n' 'g' ',' ' ' 'a' 'n' 'd' ' ' 'p' 'o' 'p' 'u' 'l' 'i' 's' 't'\n",
      "  ' ' 'm' 'o' 'v' 'e' 'm' 'e' 'n' 't' 's' ' ' 'h' 'a' 'v' 'e' ' ' 'a' 'p'\n",
      "  'p' 'e' 'a' 'r' 'e' 'd' ' ' 'i' 'n' ' ' 'E' 'u' 'r' 'o' 'p' 'e' ' ' 'a'\n",
      "  'n' 'd' ' ' 't' 'h' 'e' ' ' 'U' 'n' 'i' 't' 'e' 'd' ' ' 'S' 't' 'a' 't'\n",
      "  'e' 's' '.' '<eos>' ' ' ' ' ' ' ' ' ' ' ' ' ' ' ' ' ' ' ' ' ' ' ' ' ' '\n",
      "  ' ' ' ' ' ' ' ' ' ' ' ' ' ' ' ' ' ' ' ' ' ' ' ' ' ' ' ' ' ' ' ' ' ' ' '\n",
      "  ' ' ' ' ' ' ' ' ' ' ' ' ' ' ' ' ' ' ' ' ' ' ' ' ' ' ' ' ' ' ' ' ' ' ' '\n",
      "  ' ' ' ' ' ' ' ' ' ' ' ' ' ' ' ' ' ' ' ' ' ' ' ' ' ' ' ' ' ' ' ' ' ' ' '\n",
      "  ' ' ' ' ' ' ' ' ' ' ' ' ' ' ' ' ' ' ' ' ' ' ' ' ' ' ' ' ' ' ' ' ' ' ' '\n",
      "  ' ' ' ' ' ' ' ' ' ' ' ' ' ' ' ' ' ' ' ' ' ']]\n"
     ]
    }
   ],
   "source": [
    "resp_pred_list, _ = inference(mleG, [encoder_vali[99]])\n",
    "print('# Predicted sequence')\n",
    "print(seq2word(resp_pred_list, decoder_idx2word))\n",
    "print('# Real sequence')\n",
    "print(seq2word([decoder_vali[99]], decoder_idx2word))"
   ]
  },
  {
   "cell_type": "code",
   "execution_count": null,
   "id": "0a518646",
   "metadata": {},
   "outputs": [],
   "source": []
  }
 ],
 "metadata": {
  "kernelspec": {
   "display_name": "Python 3 (ipykernel)",
   "language": "python",
   "name": "python3"
  },
  "language_info": {
   "codemirror_mode": {
    "name": "ipython",
    "version": 3
   },
   "file_extension": ".py",
   "mimetype": "text/x-python",
   "name": "python",
   "nbconvert_exporter": "python",
   "pygments_lexer": "ipython3",
   "version": "3.9.6"
  }
 },
 "nbformat": 4,
 "nbformat_minor": 5
}
