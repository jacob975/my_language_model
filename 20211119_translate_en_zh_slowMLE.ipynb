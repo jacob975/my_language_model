{
 "cells": [
  {
   "cell_type": "code",
   "execution_count": 1,
   "id": "47bcd7a3",
   "metadata": {},
   "outputs": [
    {
     "name": "stdout",
     "output_type": "stream",
     "text": [
      "Version:  2.5.0\n",
      "Eager mode:  True\n",
      "Hub version:  0.12.0\n",
      "GPU is available\n"
     ]
    }
   ],
   "source": [
    "import os\n",
    "import numpy as np\n",
    "import pandas as pd\n",
    "import pickle\n",
    "import json\n",
    "\n",
    "import tensorflow as tf\n",
    "from tensorflow.keras.models import Model\n",
    "from tensorflow.keras.layers import Input, Dense, LSTM, Embedding, Activation, Dropout\n",
    "from tensorflow.keras.layers import MultiHeadAttention, LayerNormalization\n",
    "from tensorflow.keras.optimizers import Adam\n",
    "from tensorflow.keras.callbacks import ModelCheckpoint, EarlyStopping, CSVLogger\n",
    "import tensorflow_hub as hub\n",
    "import tensorflow_datasets as tfds\n",
    "\n",
    "# If you have more than 1 GPU, you might want to specify which GPU for training.\n",
    "# In this case, I have 2 GPU and the second one is RTX 2080ti, so I pick the `second` one.\n",
    "os.environ['CUDA_VISIBLE_DEVICES']='1' # The second\n",
    "tf.config.set_soft_device_placement(True)\n",
    "\n",
    "print(\"Version: \", tf.__version__)\n",
    "print(\"Eager mode: \", tf.executing_eagerly())\n",
    "print(\"Hub version: \", hub.__version__)\n",
    "print(\"GPU is\", \"available\" if tf.config.list_physical_devices(\"GPU\") else \"NOT AVAILABLE\")"
   ]
  },
  {
   "cell_type": "markdown",
   "id": "0b5d313d",
   "metadata": {},
   "source": [
    "# Constants"
   ]
  },
  {
   "cell_type": "code",
   "execution_count": 2,
   "id": "d2e9bd3e",
   "metadata": {},
   "outputs": [],
   "source": [
    "d_name = '20211116_wmt19_en_zh'\n",
    "folder_name = '20211119_translate_mle_en_zh'\n",
    "\n",
    "encoder_wv_dim = 32\n",
    "decoder_wv_dim = 32\n",
    "encoder_que_pad = 65\n",
    "decoder_que_pad = 207"
   ]
  },
  {
   "cell_type": "code",
   "execution_count": 3,
   "id": "06fa2583",
   "metadata": {},
   "outputs": [],
   "source": [
    "if not os.path.isdir(folder_name):\n",
    "    os.makedirs(folder_name)"
   ]
  },
  {
   "cell_type": "markdown",
   "id": "4389c4c9",
   "metadata": {},
   "source": [
    "# Load data"
   ]
  },
  {
   "cell_type": "code",
   "execution_count": 4,
   "id": "23222bc0",
   "metadata": {},
   "outputs": [],
   "source": [
    "encoder_train = pickle.load(open(f'{d_name}/encoder_train.pkl', 'rb'))\n",
    "decoder_train = pickle.load(open(f'{d_name}/decoder_train.pkl', 'rb'))\n",
    "teacher_train = pickle.load(open(f'{d_name}/teacher_train.pkl', 'rb'))\n",
    "encoder_vali  = pickle.load(open(f'{d_name}/encoder_vali.pkl', 'rb'))\n",
    "decoder_vali  = pickle.load(open(f'{d_name}/decoder_vali.pkl', 'rb'))\n",
    "teacher_vali  = pickle.load(open(f'{d_name}/teacher_vali.pkl', 'rb'))\n",
    "\n",
    "decoder_idx2word   = pickle.load(open(f'{d_name}/en_idx2word.pkl','rb'))\n",
    "decoder_word2idx   = pickle.load(open(f'{d_name}/en_word2idx.pkl','rb'))\n",
    "encoder_idx2word   = pickle.load(open(f'{d_name}/zh_idx2word.pkl','rb'))\n",
    "encoder_word2idx   = pickle.load(open(f'{d_name}/zh_word2idx.pkl','rb'))\n",
    "\n",
    "decoder_emb32   = pickle.load(open(f'{d_name}/en_emb32.pkl', 'rb'))\n",
    "encoder_emb32   = pickle.load(open(f'{d_name}/zh_emb32.pkl', 'rb'))"
   ]
  },
  {
   "cell_type": "code",
   "execution_count": 5,
   "id": "007b9cd0",
   "metadata": {},
   "outputs": [
    {
     "name": "stdout",
     "output_type": "stream",
     "text": [
      "(221040, 65)\n",
      "(221040, 207)\n"
     ]
    }
   ],
   "source": [
    "print(encoder_train.shape)\n",
    "print(teacher_train.shape)"
   ]
  },
  {
   "cell_type": "code",
   "execution_count": 6,
   "id": "a108eac9",
   "metadata": {},
   "outputs": [
    {
     "name": "stdout",
     "output_type": "stream",
     "text": [
      "199\n",
      "4716\n"
     ]
    }
   ],
   "source": [
    "num_decoder_words = np.max([np.max(decoder_train), np.max(decoder_vali)])+1\n",
    "num_encoder_words = np.max([np.max(encoder_train), np.max(encoder_vali)])+1\n",
    "\n",
    "print(num_decoder_words)\n",
    "print(num_encoder_words)"
   ]
  },
  {
   "cell_type": "code",
   "execution_count": 7,
   "id": "d100b9c1",
   "metadata": {},
   "outputs": [],
   "source": [
    "def seq2word(seq_tensor, idx2word):\n",
    "    return [''.join([idx2word[i] for i in seq]) for seq in seq_tensor]"
   ]
  },
  {
   "cell_type": "code",
   "execution_count": 8,
   "id": "6689190d",
   "metadata": {
    "scrolled": true
   },
   "outputs": [
    {
     "data": {
      "text/plain": [
       "['<bos>1929 or 1989?<eos>                                                                                                                                                                                                ']"
      ]
     },
     "execution_count": 8,
     "metadata": {},
     "output_type": "execute_result"
    }
   ],
   "source": [
    "seq2word(decoder_vali[:1], decoder_idx2word)"
   ]
  },
  {
   "cell_type": "code",
   "execution_count": 9,
   "id": "8ad0d044",
   "metadata": {},
   "outputs": [
    {
     "data": {
      "text/plain": [
       "['1929年还是1989年?                                                    ']"
      ]
     },
     "execution_count": 9,
     "metadata": {},
     "output_type": "execute_result"
    }
   ],
   "source": [
    "seq2word(encoder_vali[:1], encoder_idx2word)"
   ]
  },
  {
   "cell_type": "markdown",
   "id": "fa08522b",
   "metadata": {},
   "source": [
    "# Positional Encoding\n",
    "[Positional Encoding](https://www.tensorflow.org/text/tutorials/transformer)\n",
    "based on [Vaswani+17, Attention is All You Need](https://arxiv.org/abs/1706.03762)"
   ]
  },
  {
   "cell_type": "code",
   "execution_count": 10,
   "id": "9372b214",
   "metadata": {},
   "outputs": [],
   "source": [
    "def get_angles(pos, i, d_model):\n",
    "    angle_rates = 1 / np.power(10000, (2 * (i//2)) / np.float32(d_model))\n",
    "    return pos * angle_rates\n",
    "\n",
    "def positional_encoding(position, d_model):\n",
    "    angle_rads = get_angles(\n",
    "        np.arange(position)[:, np.newaxis],\n",
    "        np.arange(d_model)[np.newaxis, :],\n",
    "        d_model\n",
    "    )\n",
    "\n",
    "    # apply sin to even indices in the array; 2i\n",
    "    angle_rads[:, 0::2] = np.sin(angle_rads[:, 0::2])\n",
    "\n",
    "    # apply cos to odd indices in the array; 2i+1\n",
    "    angle_rads[:, 1::2] = np.cos(angle_rads[:, 1::2])\n",
    "\n",
    "    pos_encoding = angle_rads[np.newaxis, ...]\n",
    "\n",
    "    return tf.cast(pos_encoding, dtype=tf.float32)"
   ]
  },
  {
   "cell_type": "code",
   "execution_count": 11,
   "id": "9084ccef",
   "metadata": {},
   "outputs": [
    {
     "name": "stdout",
     "output_type": "stream",
     "text": [
      "(1, 10, 64)\n"
     ]
    },
    {
     "data": {
      "image/png": "[encoded data removed]",
      "text/plain": [
       "<Figure size 432x288 with 2 Axes>"
      ]
     },
     "metadata": {
      "needs_background": "light"
     },
     "output_type": "display_data"
    }
   ],
   "source": [
    "from matplotlib import pyplot as plt\n",
    "n, d = 10, 64\n",
    "pos_encoding = positional_encoding(n, d)\n",
    "print(pos_encoding.shape)\n",
    "pos_encoding = pos_encoding[0]\n",
    "\n",
    "# Juggle the dimensions for the plot\n",
    "pos_encoding = tf.reshape(pos_encoding, (n, d//2, 2))\n",
    "pos_encoding = tf.transpose(pos_encoding, (2, 1, 0))\n",
    "pos_encoding = tf.reshape(pos_encoding, (d, n))\n",
    "\n",
    "plt.pcolormesh(pos_encoding, cmap='RdBu')\n",
    "plt.ylabel('Depth')\n",
    "plt.xlabel('Position')\n",
    "plt.colorbar()\n",
    "plt.show()"
   ]
  },
  {
   "cell_type": "markdown",
   "id": "ed913ea3",
   "metadata": {},
   "source": [
    "# Generator"
   ]
  },
  {
   "cell_type": "markdown",
   "id": "575398ea",
   "metadata": {},
   "source": [
    "[Multi-Head Attention](https://www.tensorflow.org/api_docs/python/tf/keras/layers/MultiHeadAttention) \n",
    "and [Positional Encoding](https://www.tensorflow.org/text/tutorials/transformer)\n",
    "based on [Vaswani+17, Attention is All You Need](https://arxiv.org/abs/1706.03762)"
   ]
  },
  {
   "cell_type": "code",
   "execution_count": 12,
   "id": "46315620",
   "metadata": {},
   "outputs": [],
   "source": [
    "def Transformer(q_que_pad, k_que_pad, wv_dim, k_wv_dim, rate = 0.1, mask = ''):\n",
    "    # Inputs\n",
    "    mem  = Input((q_que_pad, wv_dim))\n",
    "    encode = Input((k_que_pad, k_wv_dim))\n",
    "    # Constants\n",
    "    ff_dim = wv_dim*64\n",
    "    # Multi-Head Attention\n",
    "    q = Dense(wv_dim)(mem)\n",
    "    k = Dense(wv_dim)(encode)\n",
    "    v = Dense(wv_dim)(encode)\n",
    "    # Choose a mask, default: BERT (no mask)\n",
    "    mask_weights = np.ones((q_que_pad, k_que_pad))\n",
    "    if mask == 'GPT':\n",
    "        mask_weights = np.tri(q_que_pad, k_que_pad, 0)\n",
    "    mem_new = MultiHeadAttention(\n",
    "        num_heads = 4,\n",
    "        key_dim = wv_dim, \n",
    "        value_dim = wv_dim\n",
    "    )(\n",
    "        q, k, v,\n",
    "        attention_mask = mask_weights\n",
    "    )\n",
    "    mem_new = Dropout(rate)(mem_new)\n",
    "    mem_new = LayerNormalization(epsilon=1e-6)(mem_new+mem)\n",
    "    # Feed-Forward skip-connection\n",
    "    ffn = Dense(ff_dim, activation = 'relu')(mem_new)\n",
    "    ffn = Dense(wv_dim)(ffn)\n",
    "    ffn = Dropout(rate)(ffn)\n",
    "    out = LayerNormalization(epsilon=1e-6)(ffn+mem_new)\n",
    "    model = Model(\n",
    "        [mem, encode],\n",
    "        [mem_new, out],\n",
    "    )\n",
    "    return model\n",
    "\n",
    "def getE(wv_dim = 16):\n",
    "    _input = Input((encoder_que_pad,))\n",
    "    emb = Embedding(\n",
    "        num_encoder_words, \n",
    "        wv_dim, \n",
    "        mask_zero = False,\n",
    "        input_length=(int(encoder_que_pad)),\n",
    "        trainable = True,\n",
    "        embeddings_initializer=tf.keras.initializers.Constant(encoder_emb32),\n",
    "    )\n",
    "    mem = emb(_input)\n",
    "    # position encoding\n",
    "    pe = positional_encoding(encoder_que_pad, wv_dim)\n",
    "    mem = LayerNormalization(epsilon=1e-6)(mem+pe)\n",
    "    # forward sentence\n",
    "    for i in range(1):\n",
    "        gptLayer = Transformer(encoder_que_pad, encoder_que_pad, wv_dim, wv_dim)\n",
    "        mem, output = gptLayer((mem, mem))\n",
    "        output = Activation('relu')(output)\n",
    "        mem = Activation('relu')(mem)\n",
    "    # Output\n",
    "    model = Model(\n",
    "        _input, \n",
    "        output) \n",
    "    return model\n",
    "\n",
    "def getD(wv_dim = 8, encoder_wv_dim = 16):\n",
    "    en_output = Input((encoder_que_pad, encoder_wv_dim))\n",
    "    de_input  = Input((decoder_que_pad,))\n",
    "    emb = Embedding(\n",
    "        num_decoder_words, \n",
    "        wv_dim, \n",
    "        mask_zero = False,\n",
    "        input_length=(int(decoder_que_pad)),\n",
    "        trainable = True,\n",
    "        embeddings_initializer=tf.keras.initializers.Constant(decoder_emb32),\n",
    "    )\n",
    "    mem = emb(de_input)\n",
    "    # position encoding\n",
    "    pe = positional_encoding(decoder_que_pad, wv_dim)\n",
    "    mem = LayerNormalization(epsilon=1e-6)(mem+pe)\n",
    "    # Attention\n",
    "    for j in range(1):\n",
    "        # Self attention\n",
    "        for i in range(1):\n",
    "            gptLayer = Transformer(decoder_que_pad, decoder_que_pad, wv_dim, wv_dim, mask = 'GPT')\n",
    "            mem, _ = gptLayer((mem, mem))\n",
    "            mem = Activation('relu')(mem)\n",
    "        # Cross attention\n",
    "        for i in range(1):\n",
    "            gptLayer = Transformer(decoder_que_pad, encoder_que_pad, wv_dim, encoder_wv_dim)\n",
    "            mem, output = gptLayer((mem, en_output))\n",
    "            output = Activation('relu')(output)\n",
    "            mem = Activation('relu')(mem)\n",
    "    # Concatenation and output\n",
    "    output = Dense(num_decoder_words)(output)\n",
    "    output = Activation('softmax')(output)\n",
    "    model = Model(\n",
    "        [en_output, de_input], \n",
    "        output,\n",
    "    )\n",
    "    return model\n",
    "\n",
    "# Language Model\n",
    "def getLM():\n",
    "    # Inputs\n",
    "    en_input = Input((encoder_que_pad,))\n",
    "    de_input = Input((decoder_que_pad,))\n",
    "    # Encoder (Chinese -> code)\n",
    "    encoder = getE(encoder_wv_dim)\n",
    "    encoder.summary()\n",
    "    en_output = encoder(en_input)\n",
    "    # Decoder (code -> English)\n",
    "    decoder = getD(decoder_wv_dim, encoder_wv_dim)\n",
    "    decoder.summary()\n",
    "    de_output = decoder([en_output, de_input])\n",
    "    # Establish the model\n",
    "    model = Model(\n",
    "        [en_input, de_input],\n",
    "        de_output,\n",
    "    )\n",
    "    return model"
   ]
  },
  {
   "cell_type": "code",
   "execution_count": 13,
   "id": "25b3ad80",
   "metadata": {},
   "outputs": [
    {
     "name": "stdout",
     "output_type": "stream",
     "text": [
      "Model: \"model_1\"\n",
      "__________________________________________________________________________________________________\n",
      "Layer (type)                    Output Shape         Param #     Connected to                     \n",
      "==================================================================================================\n",
      "input_3 (InputLayer)            [(None, 65)]         0                                            \n",
      "__________________________________________________________________________________________________\n",
      "embedding (Embedding)           (None, 65, 32)       150912      input_3[0][0]                    \n",
      "__________________________________________________________________________________________________\n",
      "tf.__operators__.add (TFOpLambd (None, 65, 32)       0           embedding[0][0]                  \n",
      "__________________________________________________________________________________________________\n",
      "layer_normalization (LayerNorma (None, 65, 32)       64          tf.__operators__.add[0][0]       \n",
      "__________________________________________________________________________________________________\n",
      "model (Functional)              [(None, 65, 32), (No 153248      layer_normalization[0][0]        \n",
      "                                                                 layer_normalization[0][0]        \n",
      "__________________________________________________________________________________________________\n",
      "activation (Activation)         (None, 65, 32)       0           model[0][1]                      \n",
      "==================================================================================================\n",
      "Total params: 304,224\n",
      "Trainable params: 304,224\n",
      "Non-trainable params: 0\n",
      "__________________________________________________________________________________________________\n",
      "Model: \"model_4\"\n",
      "__________________________________________________________________________________________________\n",
      "Layer (type)                    Output Shape         Param #     Connected to                     \n",
      "==================================================================================================\n",
      "input_7 (InputLayer)            [(None, 207)]        0                                            \n",
      "__________________________________________________________________________________________________\n",
      "embedding_1 (Embedding)         (None, 207, 32)      6368        input_7[0][0]                    \n",
      "__________________________________________________________________________________________________\n",
      "tf.__operators__.add_3 (TFOpLam (None, 207, 32)      0           embedding_1[0][0]                \n",
      "__________________________________________________________________________________________________\n",
      "layer_normalization_3 (LayerNor (None, 207, 32)      64          tf.__operators__.add_3[0][0]     \n",
      "__________________________________________________________________________________________________\n",
      "model_2 (Functional)            [(None, 207, 32), (N 153248      layer_normalization_3[0][0]      \n",
      "                                                                 layer_normalization_3[0][0]      \n",
      "__________________________________________________________________________________________________\n",
      "activation_2 (Activation)       (None, 207, 32)      0           model_2[0][0]                    \n",
      "__________________________________________________________________________________________________\n",
      "input_6 (InputLayer)            [(None, 65, 32)]     0                                            \n",
      "__________________________________________________________________________________________________\n",
      "model_3 (Functional)            [(None, 207, 32), (N 153248      activation_2[0][0]               \n",
      "                                                                 input_6[0][0]                    \n",
      "__________________________________________________________________________________________________\n",
      "activation_3 (Activation)       (None, 207, 32)      0           model_3[0][1]                    \n",
      "__________________________________________________________________________________________________\n",
      "dense_15 (Dense)                (None, 207, 199)     6567        activation_3[0][0]               \n",
      "__________________________________________________________________________________________________\n",
      "activation_5 (Activation)       (None, 207, 199)     0           dense_15[0][0]                   \n",
      "==================================================================================================\n",
      "Total params: 319,495\n",
      "Trainable params: 319,495\n",
      "Non-trainable params: 0\n",
      "__________________________________________________________________________________________________\n",
      "Model: \"model_5\"\n",
      "__________________________________________________________________________________________________\n",
      "Layer (type)                    Output Shape         Param #     Connected to                     \n",
      "==================================================================================================\n",
      "input_1 (InputLayer)            [(None, 65)]         0                                            \n",
      "__________________________________________________________________________________________________\n",
      "model_1 (Functional)            (None, 65, 32)       304224      input_1[0][0]                    \n",
      "__________________________________________________________________________________________________\n",
      "input_2 (InputLayer)            [(None, 207)]        0                                            \n",
      "__________________________________________________________________________________________________\n",
      "model_4 (Functional)            (None, 207, 199)     319495      model_1[0][0]                    \n",
      "                                                                 input_2[0][0]                    \n",
      "==================================================================================================\n",
      "Total params: 623,719\n",
      "Trainable params: 623,719\n",
      "Non-trainable params: 0\n",
      "__________________________________________________________________________________________________\n"
     ]
    }
   ],
   "source": [
    "mleG = getLM()\n",
    "mleG.compile(\n",
    "    loss='sparse_categorical_crossentropy',\n",
    "    optimizer=Adam(),\n",
    "    metrics=['accuracy'],\n",
    ")\n",
    "mleG.summary()"
   ]
  },
  {
   "cell_type": "code",
   "execution_count": null,
   "id": "e350d578",
   "metadata": {},
   "outputs": [
    {
     "name": "stdout",
     "output_type": "stream",
     "text": [
      "Epoch 1/300\n",
      "WARNING:tensorflow:Gradients do not exist for variables ['dense_8/kernel:0', 'dense_8/bias:0', 'dense_9/kernel:0', 'dense_9/bias:0', 'layer_normalization_5/gamma:0', 'layer_normalization_5/beta:0'] when minimizing the loss.\n",
      "WARNING:tensorflow:Gradients do not exist for variables ['dense_8/kernel:0', 'dense_8/bias:0', 'dense_9/kernel:0', 'dense_9/bias:0', 'layer_normalization_5/gamma:0', 'layer_normalization_5/beta:0'] when minimizing the loss.\n",
      "1727/1727 [==============================] - 79s 44ms/step - loss: 1.4451 - accuracy: 0.6208 - val_loss: 1.0122 - val_accuracy: 0.6995\n",
      "Epoch 2/300\n",
      "1727/1727 [==============================] - 76s 44ms/step - loss: 0.9817 - accuracy: 0.7081 - val_loss: 0.8646 - val_accuracy: 0.7418\n",
      "Epoch 3/300\n",
      "1727/1727 [==============================] - 75s 44ms/step - loss: 0.9040 - accuracy: 0.7301 - val_loss: 0.8128 - val_accuracy: 0.7562\n",
      "Epoch 4/300\n",
      "1727/1727 [==============================] - 76s 44ms/step - loss: 0.8669 - accuracy: 0.7408 - val_loss: 0.7828 - val_accuracy: 0.7651\n",
      "Epoch 5/300\n",
      "1727/1727 [==============================] - 76s 44ms/step - loss: 0.8419 - accuracy: 0.7483 - val_loss: 0.7597 - val_accuracy: 0.7713\n",
      "Epoch 6/300\n",
      "1727/1727 [==============================] - 76s 44ms/step - loss: 0.8232 - accuracy: 0.7538 - val_loss: 0.7391 - val_accuracy: 0.7776\n",
      "Epoch 7/300\n",
      "1727/1727 [==============================] - 76s 44ms/step - loss: 0.8083 - accuracy: 0.7583 - val_loss: 0.7264 - val_accuracy: 0.7813\n",
      "Epoch 8/300\n",
      "1727/1727 [==============================] - 76s 44ms/step - loss: 0.7961 - accuracy: 0.7618 - val_loss: 0.7169 - val_accuracy: 0.7845\n",
      "Epoch 9/300\n",
      "1727/1727 [==============================] - 76s 44ms/step - loss: 0.7860 - accuracy: 0.7649 - val_loss: 0.7068 - val_accuracy: 0.7875\n",
      "Epoch 10/300\n",
      "1727/1727 [==============================] - 76s 44ms/step - loss: 0.7772 - accuracy: 0.7675 - val_loss: 0.6991 - val_accuracy: 0.7901\n",
      "Epoch 11/300\n",
      "1727/1727 [==============================] - 76s 44ms/step - loss: 0.7696 - accuracy: 0.7697 - val_loss: 0.6925 - val_accuracy: 0.7919\n",
      "Epoch 12/300\n",
      "1727/1727 [==============================] - 76s 44ms/step - loss: 0.7626 - accuracy: 0.7719 - val_loss: 0.6848 - val_accuracy: 0.7944\n",
      "Epoch 13/300\n",
      "1727/1727 [==============================] - 76s 44ms/step - loss: 0.7563 - accuracy: 0.7739 - val_loss: 0.6782 - val_accuracy: 0.7965\n",
      "Epoch 14/300\n",
      "1727/1727 [==============================] - 76s 44ms/step - loss: 0.7503 - accuracy: 0.7758 - val_loss: 0.6733 - val_accuracy: 0.7980\n",
      "Epoch 15/300\n",
      "1727/1727 [==============================] - 76s 44ms/step - loss: 0.7452 - accuracy: 0.7775 - val_loss: 0.6684 - val_accuracy: 0.7997\n",
      "Epoch 16/300\n",
      "1727/1727 [==============================] - 76s 44ms/step - loss: 0.7403 - accuracy: 0.7790 - val_loss: 0.6638 - val_accuracy: 0.8010\n",
      "Epoch 17/300\n",
      "1727/1727 [==============================] - 76s 44ms/step - loss: 0.7357 - accuracy: 0.7805 - val_loss: 0.6596 - val_accuracy: 0.8022\n",
      "Epoch 18/300\n",
      "1727/1727 [==============================] - 76s 44ms/step - loss: 0.7317 - accuracy: 0.7817 - val_loss: 0.6560 - val_accuracy: 0.8034\n",
      "Epoch 19/300\n",
      "1727/1727 [==============================] - 76s 44ms/step - loss: 0.7280 - accuracy: 0.7830 - val_loss: 0.6531 - val_accuracy: 0.8047\n",
      "Epoch 20/300\n",
      "1727/1727 [==============================] - 76s 44ms/step - loss: 0.7247 - accuracy: 0.7840 - val_loss: 0.6500 - val_accuracy: 0.8055\n",
      "Epoch 21/300\n",
      "1727/1727 [==============================] - 76s 44ms/step - loss: 0.7214 - accuracy: 0.7850 - val_loss: 0.6478 - val_accuracy: 0.8061\n",
      "Epoch 22/300\n",
      "1727/1727 [==============================] - 76s 44ms/step - loss: 0.7186 - accuracy: 0.7858 - val_loss: 0.6443 - val_accuracy: 0.8069\n",
      "Epoch 23/300\n",
      "1727/1727 [==============================] - 76s 44ms/step - loss: 0.7158 - accuracy: 0.7868 - val_loss: 0.6427 - val_accuracy: 0.8078\n",
      "Epoch 24/300\n",
      "1727/1727 [==============================] - 76s 44ms/step - loss: 0.7134 - accuracy: 0.7875 - val_loss: 0.6392 - val_accuracy: 0.8086\n",
      "Epoch 25/300\n",
      "1727/1727 [==============================] - 76s 44ms/step - loss: 0.7109 - accuracy: 0.7883 - val_loss: 0.6387 - val_accuracy: 0.8093\n",
      "Epoch 26/300\n",
      "1727/1727 [==============================] - 76s 44ms/step - loss: 0.7086 - accuracy: 0.7890 - val_loss: 0.6354 - val_accuracy: 0.8099\n",
      "Epoch 27/300\n",
      "1727/1727 [==============================] - 76s 44ms/step - loss: 0.7065 - accuracy: 0.7897 - val_loss: 0.6341 - val_accuracy: 0.8103\n",
      "Epoch 28/300\n",
      "1727/1727 [==============================] - 76s 44ms/step - loss: 0.7043 - accuracy: 0.7904 - val_loss: 0.6321 - val_accuracy: 0.8109\n",
      "Epoch 29/300\n",
      "1727/1727 [==============================] - 76s 44ms/step - loss: 0.7025 - accuracy: 0.7910 - val_loss: 0.6298 - val_accuracy: 0.8117\n",
      "Epoch 30/300\n",
      "1727/1727 [==============================] - 76s 44ms/step - loss: 0.7006 - accuracy: 0.7916 - val_loss: 0.6288 - val_accuracy: 0.8121\n",
      "Epoch 31/300\n",
      "1727/1727 [==============================] - 76s 44ms/step - loss: 0.6989 - accuracy: 0.7921 - val_loss: 0.6268 - val_accuracy: 0.8122\n",
      "Epoch 32/300\n",
      "1727/1727 [==============================] - 76s 44ms/step - loss: 0.6972 - accuracy: 0.7926 - val_loss: 0.6250 - val_accuracy: 0.8134\n",
      "Epoch 33/300\n",
      "1727/1727 [==============================] - 76s 44ms/step - loss: 0.6955 - accuracy: 0.7931 - val_loss: 0.6240 - val_accuracy: 0.8133\n",
      "Epoch 34/300\n",
      "1727/1727 [==============================] - 76s 44ms/step - loss: 0.6940 - accuracy: 0.7936 - val_loss: 0.6216 - val_accuracy: 0.8142\n",
      "Epoch 35/300\n",
      "1727/1727 [==============================] - 76s 44ms/step - loss: 0.6926 - accuracy: 0.7940 - val_loss: 0.6210 - val_accuracy: 0.8143\n",
      "Epoch 36/300\n",
      "1727/1727 [==============================] - 76s 44ms/step - loss: 0.6913 - accuracy: 0.7945 - val_loss: 0.6194 - val_accuracy: 0.8147\n",
      "Epoch 37/300\n",
      "1727/1727 [==============================] - 76s 44ms/step - loss: 0.6900 - accuracy: 0.7948 - val_loss: 0.6200 - val_accuracy: 0.8146\n",
      "Epoch 38/300\n",
      "1727/1727 [==============================] - 76s 44ms/step - loss: 0.6886 - accuracy: 0.7953 - val_loss: 0.6176 - val_accuracy: 0.8151\n",
      "Epoch 39/300\n",
      "1727/1727 [==============================] - 76s 44ms/step - loss: 0.6873 - accuracy: 0.7956 - val_loss: 0.6182 - val_accuracy: 0.8147\n",
      "Epoch 40/300\n",
      "1727/1727 [==============================] - 76s 44ms/step - loss: 0.6863 - accuracy: 0.7959 - val_loss: 0.6149 - val_accuracy: 0.8160\n",
      "Epoch 41/300\n",
      "1727/1727 [==============================] - 76s 44ms/step - loss: 0.6850 - accuracy: 0.7963 - val_loss: 0.6157 - val_accuracy: 0.8157\n",
      "Epoch 42/300\n",
      " 411/1727 [======>.......................] - ETA: 54s - loss: 0.6838 - accuracy: 0.7966"
     ]
    }
   ],
   "source": [
    "mleG.fit(\n",
    "    [encoder_train, decoder_train], \n",
    "    teacher_train, \n",
    "    batch_size=128, \n",
    "    epochs=300, \n",
    "    shuffle=True, \n",
    "    validation_data = (\n",
    "        [encoder_vali, decoder_vali], \n",
    "        teacher_vali\n",
    "    ), \n",
    "    callbacks=[\n",
    "        ModelCheckpoint(\n",
    "            f'./{folder_name}/mleG.h5', \n",
    "            save_best_only=True, \n",
    "            monitor = \"val_loss\"\n",
    "        ),\n",
    "        EarlyStopping(monitor='val_loss', patience=5),\n",
    "        CSVLogger(f'{folder_name}/mleG.csv'),\n",
    "    ]\n",
    ")"
   ]
  },
  {
   "cell_type": "code",
   "execution_count": 23,
   "id": "f2a33eb6",
   "metadata": {},
   "outputs": [
    {
     "name": "stdout",
     "output_type": "stream",
     "text": [
      "768/768 [==============================] - 10s 13ms/step - loss: 0.5854 - accuracy: 0.8248\n",
      "0.5854150652885437\n"
     ]
    }
   ],
   "source": [
    "mleG.load_weights(f'./{folder_name}/mleG.h5')\n",
    "loss, _acc = mleG.evaluate(\n",
    "    [encoder_vali, decoder_vali], \n",
    "    teacher_vali\n",
    ")\n",
    "print(loss)"
   ]
  },
  {
   "cell_type": "code",
   "execution_count": 24,
   "id": "532f229b",
   "metadata": {},
   "outputs": [
    {
     "name": "stderr",
     "output_type": "stream",
     "text": [
      "No handles with labels found to put in legend.\n"
     ]
    },
    {
     "data": {
      "image/png": "[encoded data removed]",
      "text/plain": [
       "<Figure size 432x288 with 1 Axes>"
      ]
     },
     "metadata": {
      "needs_background": "light"
     },
     "output_type": "display_data"
    }
   ],
   "source": [
    "import csv\n",
    "from matplotlib import pyplot as plt\n",
    "%matplotlib inline\n",
    "rows = csv.reader(open(f'{folder_name}/mleG.csv'))\n",
    "nll_mle = []\n",
    "for i, row in enumerate(rows):\n",
    "    if i == 0:\n",
    "        continue\n",
    "    nll_mle.append(float(row[-1]))\n",
    "plt.plot(nll_mle, )\n",
    "plt.grid(True)\n",
    "plt.ylabel('nll_test')\n",
    "plt.xlabel('training iterations')\n",
    "plt.legend()\n",
    "plt.show()"
   ]
  },
  {
   "cell_type": "markdown",
   "id": "9b70d86d",
   "metadata": {},
   "source": [
    "## Inference train D (False) "
   ]
  },
  {
   "cell_type": "code",
   "execution_count": 16,
   "id": "6c7832d5",
   "metadata": {},
   "outputs": [],
   "source": [
    "def inference(\n",
    "    model,\n",
    "    enData = None,\n",
    "):\n",
    "    # Initialize\n",
    "    resp_pred_list = None\n",
    "    in_batch_list = None\n",
    "    the_first = True\n",
    "    \n",
    "    in_batch = np.zeros((len(enData), decoder_que_pad), dtype = int)\n",
    "    in_batch[:,0] = decoder_word2idx['<bos>']\n",
    "    en_batch = enData\n",
    "    resp_pred = np.zeros(in_batch.shape, dtype = int)\n",
    "    # Generate the sequence recurrsively.\n",
    "    for i in range(decoder_que_pad):\n",
    "        # Run\n",
    "        resp_pred_wv = model([en_batch, in_batch])\n",
    "        the_last = resp_pred_wv[:,i]\n",
    "        # Stochastic\n",
    "        the_last_one = tf.reshape(\n",
    "            tf.random.categorical(tf.math.log(the_last), 1), \n",
    "            [len(enData),]\n",
    "        )\n",
    "        # TODO: greedy\n",
    "        the_last_two = tf.math.argmax(the_last, axis = 1)\n",
    "        try:\n",
    "            resp_pred[:,i] = the_last_one\n",
    "            in_batch[:,i+1] = the_last_one\n",
    "        except:\n",
    "            resp_pred[:,i] = the_last_one\n",
    "    # Remove the words after <eos>\n",
    "    for i in range(len(resp_pred)):\n",
    "        try:\n",
    "            index = list(resp_pred[i]).index(en_word2idx['<eos>'])\n",
    "        except:\n",
    "            continue\n",
    "        resp_pred[i,index+1:] = 0\n",
    "        in_batch[i,index+1:] = 0\n",
    "        \n",
    "    return resp_pred, in_batch"
   ]
  },
  {
   "cell_type": "code",
   "execution_count": 39,
   "id": "19c5ab47",
   "metadata": {},
   "outputs": [
    {
     "name": "stdout",
     "output_type": "stream",
     "text": [
      "# Predicted sequence\n",
      "['For India, taken unifying it followed the European distry.<eos>                                                                                                                                                    ']\n",
      "# Real sequence\n",
      "['<bos>The coming year will be particularly important for Europe.<eos>                                                                                                                                                   ']\n"
     ]
    }
   ],
   "source": [
    "resp_pred_list, _ = inference(mleG, [encoder_vali[123]])\n",
    "print('# Predicted sequence')\n",
    "print(seq2word(resp_pred_list, decoder_idx2word))\n",
    "print('# Real sequence')\n",
    "print(seq2word([decoder_vali[123]], decoder_idx2word))"
   ]
  },
  {
   "cell_type": "markdown",
   "id": "25898fbf",
   "metadata": {},
   "source": [
    "# Step 2: Slow MLE"
   ]
  },
  {
   "cell_type": "code",
   "execution_count": 40,
   "id": "e8c26fc7",
   "metadata": {},
   "outputs": [
    {
     "name": "stdout",
     "output_type": "stream",
     "text": [
      "Model: \"model_7\"\n",
      "__________________________________________________________________________________________________\n",
      "Layer (type)                    Output Shape         Param #     Connected to                     \n",
      "==================================================================================================\n",
      "input_14 (InputLayer)           [(None, 65)]         0                                            \n",
      "__________________________________________________________________________________________________\n",
      "embedding_2 (Embedding)         (None, 65, 32)       150912      input_14[0][0]                   \n",
      "__________________________________________________________________________________________________\n",
      "tf.__operators__.add_8 (TFOpLam (None, 65, 32)       0           embedding_2[0][0]                \n",
      "__________________________________________________________________________________________________\n",
      "layer_normalization_8 (LayerNor (None, 65, 32)       64          tf.__operators__.add_8[0][0]     \n",
      "__________________________________________________________________________________________________\n",
      "model_6 (Functional)            [(None, 65, 32), (No 153248      layer_normalization_8[0][0]      \n",
      "                                                                 layer_normalization_8[0][0]      \n",
      "__________________________________________________________________________________________________\n",
      "activation_6 (Activation)       (None, 65, 32)       0           model_6[0][1]                    \n",
      "==================================================================================================\n",
      "Total params: 304,224\n",
      "Trainable params: 304,224\n",
      "Non-trainable params: 0\n",
      "__________________________________________________________________________________________________\n",
      "Model: \"model_10\"\n",
      "__________________________________________________________________________________________________\n",
      "Layer (type)                    Output Shape         Param #     Connected to                     \n",
      "==================================================================================================\n",
      "input_18 (InputLayer)           [(None, 207)]        0                                            \n",
      "__________________________________________________________________________________________________\n",
      "embedding_3 (Embedding)         (None, 207, 32)      6368        input_18[0][0]                   \n",
      "__________________________________________________________________________________________________\n",
      "tf.__operators__.add_11 (TFOpLa (None, 207, 32)      0           embedding_3[0][0]                \n",
      "__________________________________________________________________________________________________\n",
      "layer_normalization_11 (LayerNo (None, 207, 32)      64          tf.__operators__.add_11[0][0]    \n",
      "__________________________________________________________________________________________________\n",
      "model_8 (Functional)            [(None, 207, 32), (N 153248      layer_normalization_11[0][0]     \n",
      "                                                                 layer_normalization_11[0][0]     \n",
      "__________________________________________________________________________________________________\n",
      "activation_8 (Activation)       (None, 207, 32)      0           model_8[0][0]                    \n",
      "__________________________________________________________________________________________________\n",
      "input_17 (InputLayer)           [(None, 65, 32)]     0                                            \n",
      "__________________________________________________________________________________________________\n",
      "model_9 (Functional)            [(None, 207, 32), (N 153248      activation_8[0][0]               \n",
      "                                                                 input_17[0][0]                   \n",
      "__________________________________________________________________________________________________\n",
      "activation_9 (Activation)       (None, 207, 32)      0           model_9[0][1]                    \n",
      "__________________________________________________________________________________________________\n",
      "dense_31 (Dense)                (None, 207, 199)     6567        activation_9[0][0]               \n",
      "__________________________________________________________________________________________________\n",
      "activation_11 (Activation)      (None, 207, 199)     0           dense_31[0][0]                   \n",
      "==================================================================================================\n",
      "Total params: 319,495\n",
      "Trainable params: 319,495\n",
      "Non-trainable params: 0\n",
      "__________________________________________________________________________________________________\n",
      "Model: \"model_11\"\n",
      "__________________________________________________________________________________________________\n",
      "Layer (type)                    Output Shape         Param #     Connected to                     \n",
      "==================================================================================================\n",
      "input_12 (InputLayer)           [(None, 65)]         0                                            \n",
      "__________________________________________________________________________________________________\n",
      "model_7 (Functional)            (None, 65, 32)       304224      input_12[0][0]                   \n",
      "__________________________________________________________________________________________________\n",
      "input_13 (InputLayer)           [(None, 207)]        0                                            \n",
      "__________________________________________________________________________________________________\n",
      "model_10 (Functional)           (None, 207, 199)     319495      model_7[0][0]                    \n",
      "                                                                 input_13[0][0]                   \n",
      "==================================================================================================\n",
      "Total params: 623,719\n",
      "Trainable params: 623,719\n",
      "Non-trainable params: 0\n",
      "__________________________________________________________________________________________________\n"
     ]
    }
   ],
   "source": [
    "mleG = getLM()\n",
    "mleG.compile(\n",
    "    loss='sparse_categorical_crossentropy',\n",
    "    optimizer=Adam(learning_rate = 1e-5),\n",
    "    metrics=['accuracy'],\n",
    ")\n",
    "mleG.summary()"
   ]
  },
  {
   "cell_type": "code",
   "execution_count": 41,
   "id": "586a5f90",
   "metadata": {},
   "outputs": [
    {
     "name": "stdout",
     "output_type": "stream",
     "text": [
      "768/768 [==============================] - 11s 13ms/step - loss: 0.5854 - accuracy: 0.8248\n",
      "0.5854150652885437\n"
     ]
    }
   ],
   "source": [
    "mleG.load_weights(f'./{folder_name}/mleG.h5')\n",
    "loss, _acc = mleG.evaluate(\n",
    "    [encoder_vali, decoder_vali], \n",
    "    teacher_vali\n",
    ")\n",
    "print(loss)"
   ]
  },
  {
   "cell_type": "code",
   "execution_count": null,
   "id": "033e6850",
   "metadata": {},
   "outputs": [
    {
     "name": "stdout",
     "output_type": "stream",
     "text": [
      "Epoch 1/300\n",
      "WARNING:tensorflow:Gradients do not exist for variables ['dense_24/kernel:0', 'dense_24/bias:0', 'dense_25/kernel:0', 'dense_25/bias:0', 'layer_normalization_13/gamma:0', 'layer_normalization_13/beta:0'] when minimizing the loss.\n",
      "WARNING:tensorflow:Gradients do not exist for variables ['dense_24/kernel:0', 'dense_24/bias:0', 'dense_25/kernel:0', 'dense_25/bias:0', 'layer_normalization_13/gamma:0', 'layer_normalization_13/beta:0'] when minimizing the loss.\n",
      "1727/1727 [==============================] - 79s 44ms/step - loss: 0.6407 - accuracy: 0.8096 - val_loss: 0.5776 - val_accuracy: 0.8272\n",
      "Epoch 2/300\n",
      "1727/1727 [==============================] - 75s 43ms/step - loss: 0.6385 - accuracy: 0.8102 - val_loss: 0.5766 - val_accuracy: 0.8274\n",
      "Epoch 3/300\n",
      "1727/1727 [==============================] - 75s 44ms/step - loss: 0.6378 - accuracy: 0.8104 - val_loss: 0.5761 - val_accuracy: 0.8276\n",
      "Epoch 4/300\n",
      "1727/1727 [==============================] - 76s 44ms/step - loss: 0.6373 - accuracy: 0.8105 - val_loss: 0.5757 - val_accuracy: 0.8277\n",
      "Epoch 5/300\n",
      "1727/1727 [==============================] - 75s 43ms/step - loss: 0.6370 - accuracy: 0.8106 - val_loss: 0.5755 - val_accuracy: 0.8277\n",
      "Epoch 6/300\n",
      "1727/1727 [==============================] - 75s 44ms/step - loss: 0.6368 - accuracy: 0.8107 - val_loss: 0.5754 - val_accuracy: 0.8278\n",
      "Epoch 7/300\n",
      "1727/1727 [==============================] - 71s 41ms/step - loss: 0.6365 - accuracy: 0.8108 - val_loss: 0.5751 - val_accuracy: 0.8279\n",
      "Epoch 8/300\n",
      "1727/1727 [==============================] - 75s 44ms/step - loss: 0.6365 - accuracy: 0.8108 - val_loss: 0.5751 - val_accuracy: 0.8279\n",
      "Epoch 9/300\n",
      "1727/1727 [==============================] - 76s 44ms/step - loss: 0.6363 - accuracy: 0.8108 - val_loss: 0.5748 - val_accuracy: 0.8279\n",
      "Epoch 10/300\n",
      "1727/1727 [==============================] - 73s 42ms/step - loss: 0.6362 - accuracy: 0.8109 - val_loss: 0.5746 - val_accuracy: 0.8280\n",
      "Epoch 11/300\n",
      "1727/1727 [==============================] - 76s 44ms/step - loss: 0.6360 - accuracy: 0.8109 - val_loss: 0.5746 - val_accuracy: 0.8280\n",
      "Epoch 12/300\n",
      "1727/1727 [==============================] - 76s 44ms/step - loss: 0.6360 - accuracy: 0.8109 - val_loss: 0.5746 - val_accuracy: 0.8280\n",
      "Epoch 13/300\n",
      "1727/1727 [==============================] - 76s 44ms/step - loss: 0.6360 - accuracy: 0.8109 - val_loss: 0.5744 - val_accuracy: 0.8280\n",
      "Epoch 14/300\n",
      "1727/1727 [==============================] - 74s 43ms/step - loss: 0.6358 - accuracy: 0.8110 - val_loss: 0.5744 - val_accuracy: 0.8281\n",
      "Epoch 15/300\n",
      "1727/1727 [==============================] - 75s 44ms/step - loss: 0.6358 - accuracy: 0.8110 - val_loss: 0.5742 - val_accuracy: 0.8281\n",
      "Epoch 16/300\n",
      "1727/1727 [==============================] - 76s 44ms/step - loss: 0.6356 - accuracy: 0.8110 - val_loss: 0.5743 - val_accuracy: 0.8281\n",
      "Epoch 17/300\n",
      "1727/1727 [==============================] - 75s 44ms/step - loss: 0.6357 - accuracy: 0.8110 - val_loss: 0.5741 - val_accuracy: 0.8281\n",
      "Epoch 18/300\n",
      "1727/1727 [==============================] - 74s 43ms/step - loss: 0.6356 - accuracy: 0.8110 - val_loss: 0.5741 - val_accuracy: 0.8281\n",
      "Epoch 19/300\n",
      "1727/1727 [==============================] - 75s 43ms/step - loss: 0.6355 - accuracy: 0.8110 - val_loss: 0.5740 - val_accuracy: 0.8281\n",
      "Epoch 20/300\n",
      "1727/1727 [==============================] - 76s 44ms/step - loss: 0.6355 - accuracy: 0.8110 - val_loss: 0.5739 - val_accuracy: 0.8282\n",
      "Epoch 21/300\n",
      "1727/1727 [==============================] - 74s 43ms/step - loss: 0.6354 - accuracy: 0.8110 - val_loss: 0.5738 - val_accuracy: 0.8282\n",
      "Epoch 22/300\n",
      "1727/1727 [==============================] - 75s 43ms/step - loss: 0.6353 - accuracy: 0.8111 - val_loss: 0.5739 - val_accuracy: 0.8282\n",
      "Epoch 23/300\n",
      "1727/1727 [==============================] - 76s 44ms/step - loss: 0.6353 - accuracy: 0.8111 - val_loss: 0.5737 - val_accuracy: 0.8282\n",
      "Epoch 24/300\n",
      "1727/1727 [==============================] - 75s 43ms/step - loss: 0.6352 - accuracy: 0.8112 - val_loss: 0.5737 - val_accuracy: 0.8282\n",
      "Epoch 25/300\n",
      "1727/1727 [==============================] - 64s 37ms/step - loss: 0.6353 - accuracy: 0.8111 - val_loss: 0.5738 - val_accuracy: 0.8282\n",
      "Epoch 26/300\n",
      "1727/1727 [==============================] - 72s 42ms/step - loss: 0.6353 - accuracy: 0.8111 - val_loss: 0.5736 - val_accuracy: 0.8283\n",
      "Epoch 27/300\n",
      "1727/1727 [==============================] - 67s 39ms/step - loss: 0.6352 - accuracy: 0.8111 - val_loss: 0.5735 - val_accuracy: 0.8283\n",
      "Epoch 28/300\n",
      "1727/1727 [==============================] - 75s 44ms/step - loss: 0.6351 - accuracy: 0.8111 - val_loss: 0.5735 - val_accuracy: 0.8283\n",
      "Epoch 29/300\n",
      "1727/1727 [==============================] - 75s 44ms/step - loss: 0.6351 - accuracy: 0.8112 - val_loss: 0.5735 - val_accuracy: 0.8283\n",
      "Epoch 30/300\n",
      "1727/1727 [==============================] - 75s 44ms/step - loss: 0.6351 - accuracy: 0.8112 - val_loss: 0.5735 - val_accuracy: 0.8283\n",
      "Epoch 31/300\n",
      "1727/1727 [==============================] - 75s 44ms/step - loss: 0.6350 - accuracy: 0.8111 - val_loss: 0.5734 - val_accuracy: 0.8283\n",
      "Epoch 32/300\n",
      "1727/1727 [==============================] - 75s 43ms/step - loss: 0.6350 - accuracy: 0.8112 - val_loss: 0.5735 - val_accuracy: 0.8283\n",
      "Epoch 33/300\n",
      "1727/1727 [==============================] - 66s 38ms/step - loss: 0.6350 - accuracy: 0.8112 - val_loss: 0.5733 - val_accuracy: 0.8284\n",
      "Epoch 34/300\n",
      "1727/1727 [==============================] - 75s 44ms/step - loss: 0.6350 - accuracy: 0.8112 - val_loss: 0.5733 - val_accuracy: 0.8284\n",
      "Epoch 35/300\n",
      "1727/1727 [==============================] - 75s 44ms/step - loss: 0.6350 - accuracy: 0.8112 - val_loss: 0.5733 - val_accuracy: 0.8283\n",
      "Epoch 36/300\n",
      "1727/1727 [==============================] - 76s 44ms/step - loss: 0.6349 - accuracy: 0.8112 - val_loss: 0.5731 - val_accuracy: 0.8284\n",
      "Epoch 37/300\n",
      "1727/1727 [==============================] - 75s 43ms/step - loss: 0.6348 - accuracy: 0.8112 - val_loss: 0.5732 - val_accuracy: 0.8284\n",
      "Epoch 38/300\n",
      "1727/1727 [==============================] - 76s 44ms/step - loss: 0.6348 - accuracy: 0.8112 - val_loss: 0.5731 - val_accuracy: 0.8284\n",
      "Epoch 39/300\n",
      "1727/1727 [==============================] - 75s 44ms/step - loss: 0.6348 - accuracy: 0.8112 - val_loss: 0.5732 - val_accuracy: 0.8284\n",
      "Epoch 40/300\n",
      "1727/1727 [==============================] - 76s 44ms/step - loss: 0.6348 - accuracy: 0.8112 - val_loss: 0.5730 - val_accuracy: 0.8284\n",
      "Epoch 41/300\n",
      "1727/1727 [==============================] - 76s 44ms/step - loss: 0.6348 - accuracy: 0.8112 - val_loss: 0.5732 - val_accuracy: 0.8284\n",
      "Epoch 42/300\n",
      "1727/1727 [==============================] - 75s 44ms/step - loss: 0.6347 - accuracy: 0.8112 - val_loss: 0.5731 - val_accuracy: 0.8284\n",
      "Epoch 43/300\n",
      "1727/1727 [==============================] - 75s 44ms/step - loss: 0.6347 - accuracy: 0.8113 - val_loss: 0.5730 - val_accuracy: 0.8284\n",
      "Epoch 44/300\n",
      "1727/1727 [==============================] - 75s 44ms/step - loss: 0.6348 - accuracy: 0.8113 - val_loss: 0.5730 - val_accuracy: 0.8284\n",
      "Epoch 45/300\n",
      "1727/1727 [==============================] - 76s 44ms/step - loss: 0.6347 - accuracy: 0.8112 - val_loss: 0.5729 - val_accuracy: 0.8285\n",
      "Epoch 46/300\n",
      "1727/1727 [==============================] - 75s 44ms/step - loss: 0.6347 - accuracy: 0.8112 - val_loss: 0.5729 - val_accuracy: 0.8284\n",
      "Epoch 47/300\n",
      "1727/1727 [==============================] - ETA: 0s - loss: 0.6346 - accuracy: 0.8112"
     ]
    }
   ],
   "source": [
    "mleG.fit(\n",
    "    [encoder_train, decoder_train], \n",
    "    teacher_train, \n",
    "    batch_size=128, \n",
    "    epochs=300, \n",
    "    shuffle=True, \n",
    "    validation_data = (\n",
    "        [encoder_vali, decoder_vali], \n",
    "        teacher_vali\n",
    "    ), \n",
    "    callbacks=[\n",
    "        ModelCheckpoint(\n",
    "            f'./{folder_name}/slowmleG.h5', \n",
    "            save_best_only=True, \n",
    "            monitor = \"val_loss\"\n",
    "        ),\n",
    "        EarlyStopping(monitor='val_loss', patience=5),\n",
    "        CSVLogger(f'{folder_name}/slowmleG.csv'),\n",
    "    ]\n",
    ")"
   ]
  },
  {
   "cell_type": "code",
   "execution_count": 45,
   "id": "a4375291",
   "metadata": {},
   "outputs": [
    {
     "name": "stderr",
     "output_type": "stream",
     "text": [
      "No handles with labels found to put in legend.\n"
     ]
    },
    {
     "data": {
      "image/png": "[encoded data removed]",
      "text/plain": [
       "<Figure size 432x288 with 1 Axes>"
      ]
     },
     "metadata": {
      "needs_background": "light"
     },
     "output_type": "display_data"
    }
   ],
   "source": [
    "import csv\n",
    "from matplotlib import pyplot as plt\n",
    "%matplotlib inline\n",
    "rows = csv.reader(open(f'{folder_name}/slowmleG.csv'))\n",
    "nll_mle = []\n",
    "for i, row in enumerate(rows):\n",
    "    if i == 0:\n",
    "        continue\n",
    "    nll_mle.append(float(row[-1]))\n",
    "plt.plot(nll_mle, )\n",
    "plt.grid(True)\n",
    "plt.ylabel('nll_test')\n",
    "plt.xlabel('training iterations')\n",
    "plt.legend()\n",
    "plt.show()"
   ]
  },
  {
   "cell_type": "code",
   "execution_count": 14,
   "id": "67d1a086",
   "metadata": {},
   "outputs": [
    {
     "name": "stdout",
     "output_type": "stream",
     "text": [
      "768/768 [==============================] - 11s 13ms/step - loss: 0.5728 - accuracy: 0.8285\n",
      "0.5727848410606384\n"
     ]
    }
   ],
   "source": [
    "mleG.load_weights(f'./{folder_name}/slowmleG.h5')\n",
    "loss, _acc = mleG.evaluate(\n",
    "    [encoder_vali, decoder_vali], \n",
    "    teacher_vali\n",
    ")\n",
    "print(loss)"
   ]
  },
  {
   "cell_type": "code",
   "execution_count": 18,
   "id": "8fbf6f2c",
   "metadata": {},
   "outputs": [
    {
     "name": "stdout",
     "output_type": "stream",
     "text": [
      "# Predicted sequence\n",
      "['The implies in important join likely impresses spented.<eos>                                                                                                                                                       ']\n",
      "# Real sequence\n",
      "['<bos>The coming year will be particularly important for Europe.<eos>                                                                                                                                                   ']\n"
     ]
    }
   ],
   "source": [
    "resp_pred_list, _ = inference(mleG, [encoder_vali[123]])\n",
    "print('# Predicted sequence')\n",
    "print(seq2word(resp_pred_list, decoder_idx2word))\n",
    "print('# Real sequence')\n",
    "print(seq2word([decoder_vali[123]], decoder_idx2word))"
   ]
  },
  {
   "cell_type": "code",
   "execution_count": null,
   "id": "8c0faac3",
   "metadata": {},
   "outputs": [],
   "source": []
  }
 ],
 "metadata": {
  "kernelspec": {
   "display_name": "Python 3 (ipykernel)",
   "language": "python",
   "name": "python3"
  },
  "language_info": {
   "codemirror_mode": {
    "name": "ipython",
    "version": 3
   },
   "file_extension": ".py",
   "mimetype": "text/x-python",
   "name": "python",
   "nbconvert_exporter": "python",
   "pygments_lexer": "ipython3",
   "version": "3.9.6"
  }
 },
 "nbformat": 4,
 "nbformat_minor": 5
}
