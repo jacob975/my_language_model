{
 "cells": [
  {
   "cell_type": "code",
   "execution_count": 2,
   "id": "677cdc27",
   "metadata": {},
   "outputs": [
    {
     "name": "stdout",
     "output_type": "stream",
     "text": [
      "Version:  2.5.0\n",
      "Eager mode:  True\n",
      "Hub version:  0.12.0\n",
      "GPU is available\n"
     ]
    }
   ],
   "source": [
    "import os\n",
    "import numpy as np\n",
    "import pandas as pd\n",
    "import pickle\n",
    "import json\n",
    "\n",
    "import tensorflow as tf\n",
    "from tensorflow.keras.models import Model\n",
    "from tensorflow.keras.layers import Input, Dense, LSTM, Embedding, Activation, Dropout\n",
    "from tensorflow.keras.layers import MultiHeadAttention, LayerNormalization\n",
    "from tensorflow.keras.optimizers import Adam\n",
    "from tensorflow.keras.callbacks import ModelCheckpoint, EarlyStopping, CSVLogger\n",
    "import tensorflow_hub as hub\n",
    "import tensorflow_datasets as tfds\n",
    "\n",
    "# If you have more than 1 GPU, you might want to specify which GPU for training.\n",
    "# In this case, I have 2 GPU and the second one is RTX 2080ti, so I pick the `second` one.\n",
    "os.environ['CUDA_VISIBLE_DEVICES']='0' # The second\n",
    "tf.config.set_soft_device_placement(True)\n",
    "\n",
    "print(\"Version: \", tf.__version__)\n",
    "print(\"Eager mode: \", tf.executing_eagerly())\n",
    "print(\"Hub version: \", hub.__version__)\n",
    "print(\"GPU is\", \"available\" if tf.config.list_physical_devices(\"GPU\") else \"NOT AVAILABLE\")"
   ]
  },
  {
   "cell_type": "markdown",
   "id": "b05cda0a",
   "metadata": {},
   "source": [
    "# Constants"
   ]
  },
  {
   "cell_type": "code",
   "execution_count": 3,
   "id": "6ce7e70f",
   "metadata": {},
   "outputs": [],
   "source": [
    "d_name = '20211116_wmt19_en_zh'\n",
    "folder_name = '20211122_translate_mle_en_zh_lstm'\n",
    "\n",
    "encoder_wv_dim = 32\n",
    "decoder_wv_dim = 32\n",
    "encoder_que_pad = 65\n",
    "decoder_que_pad = 207"
   ]
  },
  {
   "cell_type": "code",
   "execution_count": 4,
   "id": "d351a3a1",
   "metadata": {},
   "outputs": [],
   "source": [
    "if not os.path.isdir(folder_name):\n",
    "    os.makedirs(folder_name)"
   ]
  },
  {
   "cell_type": "markdown",
   "id": "68f4b382",
   "metadata": {},
   "source": [
    "# Load data"
   ]
  },
  {
   "cell_type": "code",
   "execution_count": 5,
   "id": "45119ab0",
   "metadata": {},
   "outputs": [],
   "source": [
    "encoder_train = pickle.load(open(f'{d_name}/encoder_train.pkl', 'rb'))\n",
    "decoder_train = pickle.load(open(f'{d_name}/decoder_train.pkl', 'rb'))\n",
    "teacher_train = pickle.load(open(f'{d_name}/teacher_train.pkl', 'rb'))\n",
    "encoder_vali  = pickle.load(open(f'{d_name}/encoder_vali.pkl', 'rb'))\n",
    "decoder_vali  = pickle.load(open(f'{d_name}/decoder_vali.pkl', 'rb'))\n",
    "teacher_vali  = pickle.load(open(f'{d_name}/teacher_vali.pkl', 'rb'))\n",
    "\n",
    "decoder_idx2word   = pickle.load(open(f'{d_name}/en_idx2word.pkl','rb'))\n",
    "decoder_word2idx   = pickle.load(open(f'{d_name}/en_word2idx.pkl','rb'))\n",
    "encoder_idx2word   = pickle.load(open(f'{d_name}/zh_idx2word.pkl','rb'))\n",
    "encoder_word2idx   = pickle.load(open(f'{d_name}/zh_word2idx.pkl','rb'))\n",
    "\n",
    "decoder_emb32   = pickle.load(open(f'{d_name}/en_emb32.pkl', 'rb'))\n",
    "encoder_emb32   = pickle.load(open(f'{d_name}/zh_emb32.pkl', 'rb'))"
   ]
  },
  {
   "cell_type": "code",
   "execution_count": 6,
   "id": "8aa8435c",
   "metadata": {},
   "outputs": [
    {
     "name": "stdout",
     "output_type": "stream",
     "text": [
      "(221040, 65)\n",
      "(221040, 207)\n"
     ]
    }
   ],
   "source": [
    "print(encoder_train.shape)\n",
    "print(teacher_train.shape)"
   ]
  },
  {
   "cell_type": "code",
   "execution_count": 6,
   "id": "893399e7",
   "metadata": {},
   "outputs": [
    {
     "name": "stdout",
     "output_type": "stream",
     "text": [
      "199\n",
      "4716\n"
     ]
    }
   ],
   "source": [
    "num_decoder_words = np.max([np.max(decoder_train), np.max(decoder_vali)])+1\n",
    "num_encoder_words = np.max([np.max(encoder_train), np.max(encoder_vali)])+1\n",
    "\n",
    "print(num_decoder_words)\n",
    "print(num_encoder_words)"
   ]
  },
  {
   "cell_type": "code",
   "execution_count": 7,
   "id": "db272c70",
   "metadata": {},
   "outputs": [],
   "source": [
    "def seq2word(seq_tensor, idx2word):\n",
    "    return [''.join([idx2word[i] for i in seq]) for seq in seq_tensor]"
   ]
  },
  {
   "cell_type": "code",
   "execution_count": 8,
   "id": "3439e80c",
   "metadata": {
    "scrolled": true
   },
   "outputs": [
    {
     "data": {
      "text/plain": [
       "['<bos>1929 or 1989?<eos>                                                                                                                                                                                                ']"
      ]
     },
     "execution_count": 8,
     "metadata": {},
     "output_type": "execute_result"
    }
   ],
   "source": [
    "seq2word(decoder_vali[:1], decoder_idx2word)"
   ]
  },
  {
   "cell_type": "code",
   "execution_count": 9,
   "id": "353f3525",
   "metadata": {},
   "outputs": [
    {
     "data": {
      "text/plain": [
       "['1929年还是1989年?                                                    ']"
      ]
     },
     "execution_count": 9,
     "metadata": {},
     "output_type": "execute_result"
    }
   ],
   "source": [
    "seq2word(encoder_vali[:1], encoder_idx2word)"
   ]
  },
  {
   "cell_type": "markdown",
   "id": "545ec506",
   "metadata": {},
   "source": [
    "# Positional Encoding\n",
    "[Positional Encoding](https://www.tensorflow.org/text/tutorials/transformer)\n",
    "based on [Vaswani+17, Attention is All You Need](https://arxiv.org/abs/1706.03762)"
   ]
  },
  {
   "cell_type": "code",
   "execution_count": 10,
   "id": "93ee74ae",
   "metadata": {},
   "outputs": [],
   "source": [
    "def get_angles(pos, i, d_model):\n",
    "    angle_rates = 1 / np.power(10000, (2 * (i//2)) / np.float32(d_model))\n",
    "    return pos * angle_rates\n",
    "\n",
    "def positional_encoding(position, d_model):\n",
    "    angle_rads = get_angles(\n",
    "        np.arange(position)[:, np.newaxis],\n",
    "        np.arange(d_model)[np.newaxis, :],\n",
    "        d_model\n",
    "    )\n",
    "\n",
    "    # apply sin to even indices in the array; 2i\n",
    "    angle_rads[:, 0::2] = np.sin(angle_rads[:, 0::2])\n",
    "\n",
    "    # apply cos to odd indices in the array; 2i+1\n",
    "    angle_rads[:, 1::2] = np.cos(angle_rads[:, 1::2])\n",
    "\n",
    "    pos_encoding = angle_rads[np.newaxis, ...]\n",
    "\n",
    "    return tf.cast(pos_encoding, dtype=tf.float32)"
   ]
  },
  {
   "cell_type": "code",
   "execution_count": 11,
   "id": "e5ec02bd",
   "metadata": {},
   "outputs": [
    {
     "name": "stdout",
     "output_type": "stream",
     "text": [
      "(1, 10, 64)\n"
     ]
    },
    {
     "data": {
      "image/png": "[encoded data removed]",
      "text/plain": [
       "<Figure size 432x288 with 2 Axes>"
      ]
     },
     "metadata": {
      "needs_background": "light"
     },
     "output_type": "display_data"
    }
   ],
   "source": [
    "from matplotlib import pyplot as plt\n",
    "n, d = 10, 64\n",
    "pos_encoding = positional_encoding(n, d)\n",
    "print(pos_encoding.shape)\n",
    "pos_encoding = pos_encoding[0]\n",
    "\n",
    "# Juggle the dimensions for the plot\n",
    "pos_encoding = tf.reshape(pos_encoding, (n, d//2, 2))\n",
    "pos_encoding = tf.transpose(pos_encoding, (2, 1, 0))\n",
    "pos_encoding = tf.reshape(pos_encoding, (d, n))\n",
    "\n",
    "plt.pcolormesh(pos_encoding, cmap='RdBu')\n",
    "plt.ylabel('Depth')\n",
    "plt.xlabel('Position')\n",
    "plt.colorbar()\n",
    "plt.show()"
   ]
  },
  {
   "cell_type": "markdown",
   "id": "71d2ce76",
   "metadata": {},
   "source": [
    "# Generator"
   ]
  },
  {
   "cell_type": "markdown",
   "id": "a84db336",
   "metadata": {},
   "source": [
    "[Multi-Head Attention](https://www.tensorflow.org/api_docs/python/tf/keras/layers/MultiHeadAttention) \n",
    "and [Positional Encoding](https://www.tensorflow.org/text/tutorials/transformer)\n",
    "based on [Vaswani+17, Attention is All You Need](https://arxiv.org/abs/1706.03762)"
   ]
  },
  {
   "cell_type": "code",
   "execution_count": 12,
   "id": "65de5f08",
   "metadata": {},
   "outputs": [],
   "source": [
    "def Transformer(q_que_pad, k_que_pad, wv_dim, k_wv_dim, rate = 0.1, mask = ''):\n",
    "    # Inputs\n",
    "    mem  = Input((q_que_pad, wv_dim))\n",
    "    encode = Input((k_que_pad, k_wv_dim))\n",
    "    # Constants\n",
    "    ff_dim = wv_dim*64\n",
    "    # Multi-Head Attention\n",
    "    q = Dense(wv_dim)(mem)\n",
    "    k = Dense(wv_dim)(encode)\n",
    "    v = Dense(wv_dim)(encode)\n",
    "    # Choose a mask, default: BERT (no mask)\n",
    "    mask_weights = np.ones((q_que_pad, k_que_pad))\n",
    "    if mask == 'GPT':\n",
    "        mask_weights = np.tri(q_que_pad, k_que_pad, 0)\n",
    "    mem_new = MultiHeadAttention(\n",
    "        num_heads = 4,\n",
    "        key_dim = wv_dim, \n",
    "        value_dim = wv_dim\n",
    "    )(\n",
    "        q, k, v,\n",
    "        attention_mask = mask_weights\n",
    "    )\n",
    "    mem_new = Dropout(rate)(mem_new)\n",
    "    mem_new = LayerNormalization(epsilon=1e-6)(mem_new+mem)\n",
    "    # Feed-Forward skip-connection\n",
    "    ffn = Dense(ff_dim, activation = 'relu')(mem_new)\n",
    "    ffn = Dense(wv_dim)(ffn)\n",
    "    ffn = Dropout(rate)(ffn)\n",
    "    out = LayerNormalization(epsilon=1e-6)(ffn+mem_new)\n",
    "    model = Model(\n",
    "        [mem, encode],\n",
    "        [mem_new, out],\n",
    "    )\n",
    "    return model\n",
    "\n",
    "def getE(wv_dim = 16):\n",
    "    _input = Input((encoder_que_pad,))\n",
    "    emb = Embedding(\n",
    "        num_encoder_words, \n",
    "        wv_dim, \n",
    "        mask_zero = False,\n",
    "        input_length=(int(encoder_que_pad)),\n",
    "        trainable = True,\n",
    "        embeddings_initializer=tf.keras.initializers.Constant(encoder_emb32),\n",
    "    )\n",
    "    mem = emb(_input)\n",
    "    # position encoding\n",
    "    pe = positional_encoding(encoder_que_pad, wv_dim)\n",
    "    mem = LayerNormalization(epsilon=1e-6)(mem+pe)\n",
    "    # forward sentence\n",
    "    for i in range(1):\n",
    "        #gptLayer = Transformer(encoder_que_pad, encoder_que_pad, wv_dim, wv_dim)\n",
    "        #mem, output = gptLayer((mem, mem))\n",
    "        #output = Activation('relu')(output)\n",
    "        #mem = Activation('relu')(mem)\n",
    "        lstmLayer = LSTM(32, return_sequences=True)\n",
    "        mem = lstmLayer(mem)\n",
    "    # Output\n",
    "    output = mem\n",
    "    model = Model(\n",
    "        _input, \n",
    "        output) \n",
    "    return model\n",
    "\n",
    "def getD(wv_dim = 8, encoder_wv_dim = 16):\n",
    "    en_output = Input((encoder_que_pad, encoder_wv_dim))\n",
    "    de_input  = Input((decoder_que_pad,))\n",
    "    emb = Embedding(\n",
    "        num_decoder_words, \n",
    "        wv_dim, \n",
    "        mask_zero = False,\n",
    "        input_length=(int(decoder_que_pad)),\n",
    "        trainable = True,\n",
    "        embeddings_initializer=tf.keras.initializers.Constant(decoder_emb32),\n",
    "    )\n",
    "    mem = emb(de_input)\n",
    "    # position encoding\n",
    "    pe = positional_encoding(decoder_que_pad, wv_dim)\n",
    "    mem = LayerNormalization(epsilon=1e-6)(mem+pe)\n",
    "    # Attention\n",
    "    for j in range(1):\n",
    "        # Self attention\n",
    "        for i in range(1):\n",
    "            #gptLayer = Transformer(decoder_que_pad, decoder_que_pad, wv_dim, wv_dim, mask = 'GPT')\n",
    "            #mem, _ = gptLayer((mem, mem))\n",
    "            #mem = Activation('relu')(mem)\n",
    "            lstmLayer = LSTM(32, return_sequences=True)\n",
    "            mem = lstmLayer(mem)\n",
    "        # Cross attention\n",
    "        for i in range(1):\n",
    "            gptLayer = Transformer(decoder_que_pad, encoder_que_pad, wv_dim, encoder_wv_dim)\n",
    "            mem, output = gptLayer((mem, en_output))\n",
    "            output = Activation('relu')(output)\n",
    "            mem = Activation('relu')(mem)\n",
    "    # Concatenation and output\n",
    "    output = Dense(num_decoder_words)(output)\n",
    "    output = Activation('softmax')(output)\n",
    "    model = Model(\n",
    "        [en_output, de_input], \n",
    "        output,\n",
    "    )\n",
    "    return model\n",
    "\n",
    "# Language Model\n",
    "def getLM():\n",
    "    # Inputs\n",
    "    en_input = Input((encoder_que_pad,))\n",
    "    de_input = Input((decoder_que_pad,))\n",
    "    # Encoder (Chinese -> code)\n",
    "    encoder = getE(encoder_wv_dim)\n",
    "    encoder.summary()\n",
    "    en_output = encoder(en_input)\n",
    "    # Decoder (code -> English)\n",
    "    decoder = getD(decoder_wv_dim, encoder_wv_dim)\n",
    "    decoder.summary()\n",
    "    de_output = decoder([en_output, de_input])\n",
    "    # Establish the model\n",
    "    model = Model(\n",
    "        [en_input, de_input],\n",
    "        de_output,\n",
    "    )\n",
    "    return model"
   ]
  },
  {
   "cell_type": "code",
   "execution_count": 13,
   "id": "bdd9a5c4",
   "metadata": {},
   "outputs": [
    {
     "name": "stdout",
     "output_type": "stream",
     "text": [
      "Model: \"model\"\n",
      "_________________________________________________________________\n",
      "Layer (type)                 Output Shape              Param #   \n",
      "=================================================================\n",
      "input_3 (InputLayer)         [(None, 65)]              0         \n",
      "_________________________________________________________________\n",
      "embedding (Embedding)        (None, 65, 32)            150912    \n",
      "_________________________________________________________________\n",
      "tf.__operators__.add (TFOpLa (None, 65, 32)            0         \n",
      "_________________________________________________________________\n",
      "layer_normalization (LayerNo (None, 65, 32)            64        \n",
      "_________________________________________________________________\n",
      "lstm (LSTM)                  (None, 65, 32)            8320      \n",
      "=================================================================\n",
      "Total params: 159,296\n",
      "Trainable params: 159,296\n",
      "Non-trainable params: 0\n",
      "_________________________________________________________________\n",
      "Model: \"model_2\"\n",
      "__________________________________________________________________________________________________\n",
      "Layer (type)                    Output Shape         Param #     Connected to                     \n",
      "==================================================================================================\n",
      "input_5 (InputLayer)            [(None, 207)]        0                                            \n",
      "__________________________________________________________________________________________________\n",
      "embedding_1 (Embedding)         (None, 207, 32)      6368        input_5[0][0]                    \n",
      "__________________________________________________________________________________________________\n",
      "tf.__operators__.add_1 (TFOpLam (None, 207, 32)      0           embedding_1[0][0]                \n",
      "__________________________________________________________________________________________________\n",
      "layer_normalization_1 (LayerNor (None, 207, 32)      64          tf.__operators__.add_1[0][0]     \n",
      "__________________________________________________________________________________________________\n",
      "lstm_1 (LSTM)                   (None, 207, 32)      8320        layer_normalization_1[0][0]      \n",
      "__________________________________________________________________________________________________\n",
      "input_4 (InputLayer)            [(None, 65, 32)]     0                                            \n",
      "__________________________________________________________________________________________________\n",
      "model_1 (Functional)            [(None, 207, 32), (N 153248      lstm_1[0][0]                     \n",
      "                                                                 input_4[0][0]                    \n",
      "__________________________________________________________________________________________________\n",
      "activation (Activation)         (None, 207, 32)      0           model_1[0][1]                    \n",
      "__________________________________________________________________________________________________\n",
      "dense_5 (Dense)                 (None, 207, 199)     6567        activation[0][0]                 \n",
      "__________________________________________________________________________________________________\n",
      "activation_2 (Activation)       (None, 207, 199)     0           dense_5[0][0]                    \n",
      "==================================================================================================\n",
      "Total params: 174,567\n",
      "Trainable params: 174,567\n",
      "Non-trainable params: 0\n",
      "__________________________________________________________________________________________________\n",
      "Model: \"model_3\"\n",
      "__________________________________________________________________________________________________\n",
      "Layer (type)                    Output Shape         Param #     Connected to                     \n",
      "==================================================================================================\n",
      "input_1 (InputLayer)            [(None, 65)]         0                                            \n",
      "__________________________________________________________________________________________________\n",
      "model (Functional)              (None, 65, 32)       159296      input_1[0][0]                    \n",
      "__________________________________________________________________________________________________\n",
      "input_2 (InputLayer)            [(None, 207)]        0                                            \n",
      "__________________________________________________________________________________________________\n",
      "model_2 (Functional)            (None, 207, 199)     174567      model[0][0]                      \n",
      "                                                                 input_2[0][0]                    \n",
      "==================================================================================================\n",
      "Total params: 333,863\n",
      "Trainable params: 333,863\n",
      "Non-trainable params: 0\n",
      "__________________________________________________________________________________________________\n"
     ]
    }
   ],
   "source": [
    "mleG = getLM()\n",
    "mleG.compile(\n",
    "    loss='sparse_categorical_crossentropy',\n",
    "    optimizer=Adam(),\n",
    "    metrics=['accuracy'],\n",
    ")\n",
    "mleG.summary()"
   ]
  },
  {
   "cell_type": "code",
   "execution_count": 14,
   "id": "f2c31224",
   "metadata": {},
   "outputs": [
    {
     "name": "stdout",
     "output_type": "stream",
     "text": [
      "Epoch 1/300\n",
      "1727/1727 [==============================] - 59s 33ms/step - loss: 1.3985 - accuracy: 0.6304 - val_loss: 0.9930 - val_accuracy: 0.7063\n",
      "Epoch 2/300\n",
      "1727/1727 [==============================] - 55s 32ms/step - loss: 0.9213 - accuracy: 0.7273 - val_loss: 0.8354 - val_accuracy: 0.7507\n",
      "Epoch 3/300\n",
      "1727/1727 [==============================] - 55s 32ms/step - loss: 0.8340 - accuracy: 0.7508 - val_loss: 0.7888 - val_accuracy: 0.7622\n",
      "Epoch 4/300\n",
      "1727/1727 [==============================] - 55s 32ms/step - loss: 0.7946 - accuracy: 0.7614 - val_loss: 0.7568 - val_accuracy: 0.7719\n",
      "Epoch 5/300\n",
      "1727/1727 [==============================] - 55s 32ms/step - loss: 0.7703 - accuracy: 0.7682 - val_loss: 0.7328 - val_accuracy: 0.7785\n",
      "Epoch 6/300\n",
      "1727/1727 [==============================] - 55s 32ms/step - loss: 0.7507 - accuracy: 0.7741 - val_loss: 0.7181 - val_accuracy: 0.7831\n",
      "Epoch 7/300\n",
      "1727/1727 [==============================] - 55s 32ms/step - loss: 0.7335 - accuracy: 0.7798 - val_loss: 0.7034 - val_accuracy: 0.7883\n",
      "Epoch 8/300\n",
      "1727/1727 [==============================] - 55s 32ms/step - loss: 0.7180 - accuracy: 0.7849 - val_loss: 0.6851 - val_accuracy: 0.7945\n",
      "Epoch 9/300\n",
      "1727/1727 [==============================] - 55s 32ms/step - loss: 0.7050 - accuracy: 0.7893 - val_loss: 0.6726 - val_accuracy: 0.7984\n",
      "Epoch 10/300\n",
      "1727/1727 [==============================] - 55s 32ms/step - loss: 0.6941 - accuracy: 0.7929 - val_loss: 0.6622 - val_accuracy: 0.8021\n",
      "Epoch 11/300\n",
      "1727/1727 [==============================] - 55s 32ms/step - loss: 0.6854 - accuracy: 0.7957 - val_loss: 0.6559 - val_accuracy: 0.8040\n",
      "Epoch 12/300\n",
      "1727/1727 [==============================] - 54s 32ms/step - loss: 0.6779 - accuracy: 0.7981 - val_loss: 0.6524 - val_accuracy: 0.8052\n",
      "Epoch 13/300\n",
      "1727/1727 [==============================] - 55s 32ms/step - loss: 0.6715 - accuracy: 0.8001 - val_loss: 0.6431 - val_accuracy: 0.8075\n",
      "Epoch 14/300\n",
      "1727/1727 [==============================] - 55s 32ms/step - loss: 0.6655 - accuracy: 0.8019 - val_loss: 0.6381 - val_accuracy: 0.8096\n",
      "Epoch 15/300\n",
      "1727/1727 [==============================] - 55s 32ms/step - loss: 0.6603 - accuracy: 0.8035 - val_loss: 0.6325 - val_accuracy: 0.8110\n",
      "Epoch 16/300\n",
      "1727/1727 [==============================] - 54s 32ms/step - loss: 0.6556 - accuracy: 0.8050 - val_loss: 0.6266 - val_accuracy: 0.8130\n",
      "Epoch 17/300\n",
      "1727/1727 [==============================] - 55s 32ms/step - loss: 0.6517 - accuracy: 0.8062 - val_loss: 0.6236 - val_accuracy: 0.8138\n",
      "Epoch 18/300\n",
      "1727/1727 [==============================] - 55s 32ms/step - loss: 0.6478 - accuracy: 0.8075 - val_loss: 0.6185 - val_accuracy: 0.8155\n",
      "Epoch 19/300\n",
      "1727/1727 [==============================] - 55s 32ms/step - loss: 0.6442 - accuracy: 0.8085 - val_loss: 0.6191 - val_accuracy: 0.8154\n",
      "Epoch 20/300\n",
      "1727/1727 [==============================] - 55s 32ms/step - loss: 0.6411 - accuracy: 0.8095 - val_loss: 0.6134 - val_accuracy: 0.8168\n",
      "Epoch 21/300\n",
      "1727/1727 [==============================] - 55s 32ms/step - loss: 0.6381 - accuracy: 0.8105 - val_loss: 0.6113 - val_accuracy: 0.8178\n",
      "Epoch 22/300\n",
      "1727/1727 [==============================] - 57s 33ms/step - loss: 0.6352 - accuracy: 0.8113 - val_loss: 0.6077 - val_accuracy: 0.8189\n",
      "Epoch 23/300\n",
      "1727/1727 [==============================] - 54s 31ms/step - loss: 0.6327 - accuracy: 0.8121 - val_loss: 0.6085 - val_accuracy: 0.8186\n",
      "Epoch 24/300\n",
      "1727/1727 [==============================] - 55s 32ms/step - loss: 0.6303 - accuracy: 0.8129 - val_loss: 0.6034 - val_accuracy: 0.8202\n",
      "Epoch 25/300\n",
      "1727/1727 [==============================] - 55s 32ms/step - loss: 0.6278 - accuracy: 0.8136 - val_loss: 0.6012 - val_accuracy: 0.8209\n",
      "Epoch 26/300\n",
      "1727/1727 [==============================] - 55s 32ms/step - loss: 0.6258 - accuracy: 0.8143 - val_loss: 0.5984 - val_accuracy: 0.8218\n",
      "Epoch 27/300\n",
      "1727/1727 [==============================] - 55s 32ms/step - loss: 0.6235 - accuracy: 0.8150 - val_loss: 0.5975 - val_accuracy: 0.8220\n",
      "Epoch 28/300\n",
      "1727/1727 [==============================] - 55s 32ms/step - loss: 0.6215 - accuracy: 0.8156 - val_loss: 0.5942 - val_accuracy: 0.8233\n",
      "Epoch 29/300\n",
      "1727/1727 [==============================] - 55s 32ms/step - loss: 0.6195 - accuracy: 0.8162 - val_loss: 0.5940 - val_accuracy: 0.8229\n",
      "Epoch 30/300\n",
      "1727/1727 [==============================] - 55s 32ms/step - loss: 0.6179 - accuracy: 0.8167 - val_loss: 0.5933 - val_accuracy: 0.8234\n",
      "Epoch 31/300\n",
      "1727/1727 [==============================] - 55s 32ms/step - loss: 0.6161 - accuracy: 0.8173 - val_loss: 0.5891 - val_accuracy: 0.8245\n",
      "Epoch 32/300\n",
      "1727/1727 [==============================] - 55s 32ms/step - loss: 0.6144 - accuracy: 0.8178 - val_loss: 0.5885 - val_accuracy: 0.8247\n",
      "Epoch 33/300\n",
      "1727/1727 [==============================] - 55s 32ms/step - loss: 0.6130 - accuracy: 0.8183 - val_loss: 0.5885 - val_accuracy: 0.8246\n",
      "Epoch 34/300\n",
      "1727/1727 [==============================] - 55s 32ms/step - loss: 0.6114 - accuracy: 0.8188 - val_loss: 0.5863 - val_accuracy: 0.8256\n",
      "Epoch 35/300\n",
      "1727/1727 [==============================] - 55s 32ms/step - loss: 0.6100 - accuracy: 0.8192 - val_loss: 0.5835 - val_accuracy: 0.8265\n",
      "Epoch 36/300\n",
      "1727/1727 [==============================] - 55s 32ms/step - loss: 0.6087 - accuracy: 0.8196 - val_loss: 0.5834 - val_accuracy: 0.8265\n",
      "Epoch 37/300\n",
      "1727/1727 [==============================] - 55s 32ms/step - loss: 0.6075 - accuracy: 0.8200 - val_loss: 0.5829 - val_accuracy: 0.8267\n",
      "Epoch 38/300\n",
      "1727/1727 [==============================] - 55s 32ms/step - loss: 0.6062 - accuracy: 0.8203 - val_loss: 0.5798 - val_accuracy: 0.8276\n",
      "Epoch 39/300\n",
      "1727/1727 [==============================] - 55s 32ms/step - loss: 0.6050 - accuracy: 0.8207 - val_loss: 0.5809 - val_accuracy: 0.8273\n",
      "Epoch 40/300\n",
      "1727/1727 [==============================] - 54s 31ms/step - loss: 0.6037 - accuracy: 0.8211 - val_loss: 0.5795 - val_accuracy: 0.8276\n",
      "Epoch 41/300\n",
      "1727/1727 [==============================] - 55s 32ms/step - loss: 0.6026 - accuracy: 0.8215 - val_loss: 0.5781 - val_accuracy: 0.8282\n",
      "Epoch 42/300\n",
      "1727/1727 [==============================] - 55s 32ms/step - loss: 0.6015 - accuracy: 0.8218 - val_loss: 0.5777 - val_accuracy: 0.8283\n",
      "Epoch 43/300\n",
      "1727/1727 [==============================] - 55s 32ms/step - loss: 0.6007 - accuracy: 0.8221 - val_loss: 0.5763 - val_accuracy: 0.8282\n",
      "Epoch 44/300\n",
      "1727/1727 [==============================] - 55s 32ms/step - loss: 0.5996 - accuracy: 0.8223 - val_loss: 0.5755 - val_accuracy: 0.8288\n",
      "Epoch 45/300\n",
      "1727/1727 [==============================] - 55s 32ms/step - loss: 0.5988 - accuracy: 0.8226 - val_loss: 0.5741 - val_accuracy: 0.8293\n",
      "Epoch 46/300\n",
      "1727/1727 [==============================] - 55s 32ms/step - loss: 0.5978 - accuracy: 0.8230 - val_loss: 0.5739 - val_accuracy: 0.8295\n",
      "Epoch 47/300\n",
      "1727/1727 [==============================] - 55s 32ms/step - loss: 0.5968 - accuracy: 0.8233 - val_loss: 0.5729 - val_accuracy: 0.8296\n",
      "Epoch 48/300\n",
      "1727/1727 [==============================] - 56s 32ms/step - loss: 0.5960 - accuracy: 0.8235 - val_loss: 0.5716 - val_accuracy: 0.8301\n",
      "Epoch 49/300\n",
      "1727/1727 [==============================] - 55s 32ms/step - loss: 0.5952 - accuracy: 0.8237 - val_loss: 0.5700 - val_accuracy: 0.8306\n",
      "Epoch 50/300\n",
      "1727/1727 [==============================] - 55s 32ms/step - loss: 0.5944 - accuracy: 0.8240 - val_loss: 0.5708 - val_accuracy: 0.8304\n",
      "Epoch 51/300\n",
      "1727/1727 [==============================] - 55s 32ms/step - loss: 0.5937 - accuracy: 0.8242 - val_loss: 0.5697 - val_accuracy: 0.8307\n",
      "Epoch 52/300\n",
      "1727/1727 [==============================] - 55s 32ms/step - loss: 0.5929 - accuracy: 0.8245 - val_loss: 0.5675 - val_accuracy: 0.8315\n",
      "Epoch 53/300\n",
      "1727/1727 [==============================] - 55s 32ms/step - loss: 0.5922 - accuracy: 0.8247 - val_loss: 0.5672 - val_accuracy: 0.8313\n",
      "Epoch 54/300\n",
      "1727/1727 [==============================] - 55s 32ms/step - loss: 0.5915 - accuracy: 0.8249 - val_loss: 0.5682 - val_accuracy: 0.8312\n",
      "Epoch 55/300\n",
      "1727/1727 [==============================] - 54s 32ms/step - loss: 0.5909 - accuracy: 0.8251 - val_loss: 0.5678 - val_accuracy: 0.8314\n",
      "Epoch 56/300\n",
      "1727/1727 [==============================] - 55s 32ms/step - loss: 0.5903 - accuracy: 0.8253 - val_loss: 0.5659 - val_accuracy: 0.8322\n",
      "Epoch 57/300\n",
      "1727/1727 [==============================] - 55s 32ms/step - loss: 0.5894 - accuracy: 0.8255 - val_loss: 0.5661 - val_accuracy: 0.8316\n",
      "Epoch 58/300\n",
      "1727/1727 [==============================] - 55s 32ms/step - loss: 0.5890 - accuracy: 0.8258 - val_loss: 0.5636 - val_accuracy: 0.8327\n",
      "Epoch 59/300\n",
      "1727/1727 [==============================] - 55s 32ms/step - loss: 0.5882 - accuracy: 0.8259 - val_loss: 0.5629 - val_accuracy: 0.8327\n",
      "Epoch 60/300\n",
      "1727/1727 [==============================] - 55s 32ms/step - loss: 0.5876 - accuracy: 0.8261 - val_loss: 0.5647 - val_accuracy: 0.8319\n",
      "Epoch 61/300\n",
      "1727/1727 [==============================] - 55s 32ms/step - loss: 0.5870 - accuracy: 0.8263 - val_loss: 0.5647 - val_accuracy: 0.8323\n",
      "Epoch 62/300\n",
      "1727/1727 [==============================] - 55s 32ms/step - loss: 0.5864 - accuracy: 0.8265 - val_loss: 0.5635 - val_accuracy: 0.8323\n",
      "Epoch 63/300\n",
      "1727/1727 [==============================] - 55s 32ms/step - loss: 0.5858 - accuracy: 0.8267 - val_loss: 0.5624 - val_accuracy: 0.8333\n",
      "Epoch 64/300\n",
      "1727/1727 [==============================] - 55s 32ms/step - loss: 0.5853 - accuracy: 0.8268 - val_loss: 0.5613 - val_accuracy: 0.8335\n",
      "Epoch 65/300\n",
      "1727/1727 [==============================] - 55s 32ms/step - loss: 0.5847 - accuracy: 0.8270 - val_loss: 0.5610 - val_accuracy: 0.8334\n",
      "Epoch 66/300\n",
      "1727/1727 [==============================] - 55s 32ms/step - loss: 0.5842 - accuracy: 0.8272 - val_loss: 0.5614 - val_accuracy: 0.8334\n",
      "Epoch 67/300\n",
      "1727/1727 [==============================] - 55s 32ms/step - loss: 0.5836 - accuracy: 0.8273 - val_loss: 0.5600 - val_accuracy: 0.8340\n",
      "Epoch 68/300\n",
      "1727/1727 [==============================] - 55s 32ms/step - loss: 0.5832 - accuracy: 0.8275 - val_loss: 0.5596 - val_accuracy: 0.8340\n",
      "Epoch 69/300\n",
      "1727/1727 [==============================] - 55s 32ms/step - loss: 0.5826 - accuracy: 0.8276 - val_loss: 0.5578 - val_accuracy: 0.8343\n",
      "Epoch 70/300\n",
      "1727/1727 [==============================] - 55s 32ms/step - loss: 0.5821 - accuracy: 0.8278 - val_loss: 0.5583 - val_accuracy: 0.8343\n",
      "Epoch 71/300\n",
      "1727/1727 [==============================] - 55s 32ms/step - loss: 0.5817 - accuracy: 0.8280 - val_loss: 0.5591 - val_accuracy: 0.8341\n",
      "Epoch 72/300\n",
      "1727/1727 [==============================] - 55s 32ms/step - loss: 0.5812 - accuracy: 0.8281 - val_loss: 0.5566 - val_accuracy: 0.8350\n",
      "Epoch 73/300\n",
      "1727/1727 [==============================] - 55s 32ms/step - loss: 0.5808 - accuracy: 0.8282 - val_loss: 0.5576 - val_accuracy: 0.8344\n",
      "Epoch 74/300\n",
      "1727/1727 [==============================] - 55s 32ms/step - loss: 0.5803 - accuracy: 0.8284 - val_loss: 0.5561 - val_accuracy: 0.8350\n",
      "Epoch 75/300\n",
      "1727/1727 [==============================] - 55s 32ms/step - loss: 0.5798 - accuracy: 0.8285 - val_loss: 0.5571 - val_accuracy: 0.8348\n",
      "Epoch 76/300\n",
      "1727/1727 [==============================] - 54s 32ms/step - loss: 0.5795 - accuracy: 0.8286 - val_loss: 0.5559 - val_accuracy: 0.8351\n",
      "Epoch 77/300\n",
      "1727/1727 [==============================] - 55s 32ms/step - loss: 0.5791 - accuracy: 0.8288 - val_loss: 0.5562 - val_accuracy: 0.8352\n",
      "Epoch 78/300\n",
      "1727/1727 [==============================] - 55s 32ms/step - loss: 0.5786 - accuracy: 0.8289 - val_loss: 0.5541 - val_accuracy: 0.8356\n",
      "Epoch 79/300\n",
      "1727/1727 [==============================] - 55s 32ms/step - loss: 0.5782 - accuracy: 0.8291 - val_loss: 0.5563 - val_accuracy: 0.8351\n",
      "Epoch 80/300\n",
      "1727/1727 [==============================] - 56s 32ms/step - loss: 0.5780 - accuracy: 0.8291 - val_loss: 0.5535 - val_accuracy: 0.8357\n",
      "Epoch 81/300\n",
      "1727/1727 [==============================] - 55s 32ms/step - loss: 0.5775 - accuracy: 0.8293 - val_loss: 0.5542 - val_accuracy: 0.8355\n",
      "Epoch 82/300\n",
      "1727/1727 [==============================] - 55s 32ms/step - loss: 0.5772 - accuracy: 0.8294 - val_loss: 0.5546 - val_accuracy: 0.8355\n",
      "Epoch 83/300\n",
      "1727/1727 [==============================] - 55s 32ms/step - loss: 0.5768 - accuracy: 0.8295 - val_loss: 0.5528 - val_accuracy: 0.8358\n",
      "Epoch 84/300\n",
      "1727/1727 [==============================] - 55s 32ms/step - loss: 0.5763 - accuracy: 0.8297 - val_loss: 0.5536 - val_accuracy: 0.8358\n",
      "Epoch 85/300\n",
      "1727/1727 [==============================] - 55s 32ms/step - loss: 0.5760 - accuracy: 0.8297 - val_loss: 0.5526 - val_accuracy: 0.8360\n",
      "Epoch 86/300\n",
      "1727/1727 [==============================] - 55s 32ms/step - loss: 0.5757 - accuracy: 0.8298 - val_loss: 0.5538 - val_accuracy: 0.8359\n",
      "Epoch 87/300\n",
      "1727/1727 [==============================] - 55s 32ms/step - loss: 0.5755 - accuracy: 0.8299 - val_loss: 0.5527 - val_accuracy: 0.8364\n",
      "Epoch 88/300\n",
      "1727/1727 [==============================] - 55s 32ms/step - loss: 0.5749 - accuracy: 0.8301 - val_loss: 0.5521 - val_accuracy: 0.8364\n",
      "Epoch 89/300\n",
      "1727/1727 [==============================] - 55s 32ms/step - loss: 0.5747 - accuracy: 0.8302 - val_loss: 0.5516 - val_accuracy: 0.8364\n",
      "Epoch 90/300\n",
      "1727/1727 [==============================] - 55s 32ms/step - loss: 0.5744 - accuracy: 0.8303 - val_loss: 0.5510 - val_accuracy: 0.8366\n",
      "Epoch 91/300\n",
      "1727/1727 [==============================] - 54s 32ms/step - loss: 0.5741 - accuracy: 0.8304 - val_loss: 0.5521 - val_accuracy: 0.8363\n",
      "Epoch 92/300\n",
      "1727/1727 [==============================] - 55s 32ms/step - loss: 0.5736 - accuracy: 0.8305 - val_loss: 0.5502 - val_accuracy: 0.8368\n",
      "Epoch 93/300\n",
      "1727/1727 [==============================] - 55s 32ms/step - loss: 0.5734 - accuracy: 0.8306 - val_loss: 0.5500 - val_accuracy: 0.8372\n",
      "Epoch 94/300\n",
      "1727/1727 [==============================] - 55s 32ms/step - loss: 0.5731 - accuracy: 0.8306 - val_loss: 0.5493 - val_accuracy: 0.8372\n",
      "Epoch 95/300\n",
      "1727/1727 [==============================] - 55s 32ms/step - loss: 0.5727 - accuracy: 0.8308 - val_loss: 0.5491 - val_accuracy: 0.8372\n",
      "Epoch 96/300\n",
      "1727/1727 [==============================] - 55s 32ms/step - loss: 0.5725 - accuracy: 0.8309 - val_loss: 0.5508 - val_accuracy: 0.8366\n",
      "Epoch 97/300\n",
      "1727/1727 [==============================] - 55s 32ms/step - loss: 0.5722 - accuracy: 0.8310 - val_loss: 0.5490 - val_accuracy: 0.8370\n",
      "Epoch 98/300\n",
      "1727/1727 [==============================] - 55s 32ms/step - loss: 0.5719 - accuracy: 0.8311 - val_loss: 0.5481 - val_accuracy: 0.8376\n",
      "Epoch 99/300\n",
      "1727/1727 [==============================] - 55s 32ms/step - loss: 0.5716 - accuracy: 0.8311 - val_loss: 0.5498 - val_accuracy: 0.8371\n",
      "Epoch 100/300\n",
      "1727/1727 [==============================] - 55s 32ms/step - loss: 0.5714 - accuracy: 0.8313 - val_loss: 0.5489 - val_accuracy: 0.8370\n",
      "Epoch 101/300\n",
      "1727/1727 [==============================] - 55s 32ms/step - loss: 0.5710 - accuracy: 0.8313 - val_loss: 0.5492 - val_accuracy: 0.8372\n",
      "Epoch 102/300\n",
      "1727/1727 [==============================] - 55s 32ms/step - loss: 0.5708 - accuracy: 0.8314 - val_loss: 0.5503 - val_accuracy: 0.8368\n",
      "Epoch 103/300\n",
      "1727/1727 [==============================] - 55s 32ms/step - loss: 0.5706 - accuracy: 0.8315 - val_loss: 0.5480 - val_accuracy: 0.8375\n",
      "Epoch 104/300\n",
      "1727/1727 [==============================] - 55s 32ms/step - loss: 0.5702 - accuracy: 0.8316 - val_loss: 0.5467 - val_accuracy: 0.8381\n",
      "Epoch 105/300\n",
      "1727/1727 [==============================] - 55s 32ms/step - loss: 0.5700 - accuracy: 0.8317 - val_loss: 0.5478 - val_accuracy: 0.8377\n",
      "Epoch 106/300\n",
      "1727/1727 [==============================] - 55s 32ms/step - loss: 0.5698 - accuracy: 0.8317 - val_loss: 0.5462 - val_accuracy: 0.8382\n",
      "Epoch 107/300\n",
      "1727/1727 [==============================] - 55s 32ms/step - loss: 0.5693 - accuracy: 0.8319 - val_loss: 0.5480 - val_accuracy: 0.8377\n",
      "Epoch 108/300\n",
      "1727/1727 [==============================] - 64s 37ms/step - loss: 0.5694 - accuracy: 0.8319 - val_loss: 0.5469 - val_accuracy: 0.8378\n",
      "Epoch 109/300\n",
      "1727/1727 [==============================] - 67s 39ms/step - loss: 0.5690 - accuracy: 0.8320 - val_loss: 0.5467 - val_accuracy: 0.8381\n",
      "Epoch 110/300\n",
      "1727/1727 [==============================] - 67s 39ms/step - loss: 0.5688 - accuracy: 0.8320 - val_loss: 0.5464 - val_accuracy: 0.8384\n",
      "Epoch 111/300\n"
     ]
    },
    {
     "name": "stdout",
     "output_type": "stream",
     "text": [
      "1727/1727 [==============================] - 68s 39ms/step - loss: 0.5685 - accuracy: 0.8321 - val_loss: 0.5466 - val_accuracy: 0.8379\n"
     ]
    },
    {
     "data": {
      "text/plain": [
       "<tensorflow.python.keras.callbacks.History at 0x7f433a7d0e50>"
      ]
     },
     "execution_count": 14,
     "metadata": {},
     "output_type": "execute_result"
    }
   ],
   "source": [
    "mleG.fit(\n",
    "    [encoder_train, decoder_train], \n",
    "    teacher_train, \n",
    "    batch_size=128, \n",
    "    epochs=300, \n",
    "    shuffle=True, \n",
    "    validation_data = (\n",
    "        [encoder_vali, decoder_vali], \n",
    "        teacher_vali\n",
    "    ), \n",
    "    callbacks=[\n",
    "        ModelCheckpoint(\n",
    "            f'./{folder_name}/mleG.h5', \n",
    "            save_best_only=True, \n",
    "            monitor = \"val_loss\"\n",
    "        ),\n",
    "        EarlyStopping(monitor='val_loss', patience=5),\n",
    "        CSVLogger(f'{folder_name}/mleG.csv'),\n",
    "    ]\n",
    ")"
   ]
  },
  {
   "cell_type": "code",
   "execution_count": 15,
   "id": "56ea7e71",
   "metadata": {},
   "outputs": [
    {
     "name": "stdout",
     "output_type": "stream",
     "text": [
      "768/768 [==============================] - 10s 14ms/step - loss: 0.5462 - accuracy: 0.8382\n",
      "0.5462390780448914\n"
     ]
    }
   ],
   "source": [
    "mleG.load_weights(f'./{folder_name}/mleG.h5')\n",
    "loss, _acc = mleG.evaluate(\n",
    "    [encoder_vali, decoder_vali], \n",
    "    teacher_vali\n",
    ")\n",
    "print(loss)"
   ]
  },
  {
   "cell_type": "code",
   "execution_count": 16,
   "id": "82d4f620",
   "metadata": {},
   "outputs": [
    {
     "name": "stderr",
     "output_type": "stream",
     "text": [
      "No handles with labels found to put in legend.\n"
     ]
    },
    {
     "data": {
      "image/png": "[encoded data removed]",
      "text/plain": [
       "<Figure size 432x288 with 1 Axes>"
      ]
     },
     "metadata": {
      "needs_background": "light"
     },
     "output_type": "display_data"
    }
   ],
   "source": [
    "import csv\n",
    "from matplotlib import pyplot as plt\n",
    "%matplotlib inline\n",
    "rows = csv.reader(open(f'{folder_name}/mleG.csv'))\n",
    "nll_mle = []\n",
    "for i, row in enumerate(rows):\n",
    "    if i == 0:\n",
    "        continue\n",
    "    nll_mle.append(float(row[-1]))\n",
    "plt.plot(nll_mle, )\n",
    "plt.grid(True)\n",
    "plt.ylabel('nll_test')\n",
    "plt.xlabel('training iterations')\n",
    "plt.legend()\n",
    "plt.show()"
   ]
  },
  {
   "cell_type": "markdown",
   "id": "c52a96b9",
   "metadata": {},
   "source": [
    "## Inference train D (False) "
   ]
  },
  {
   "cell_type": "code",
   "execution_count": null,
   "id": "cddbf4df",
   "metadata": {},
   "outputs": [],
   "source": [
    "def inference(\n",
    "    model,\n",
    "    enData = None,\n",
    "):\n",
    "    # Initialize\n",
    "    resp_pred_list = None\n",
    "    in_batch_list = None\n",
    "    the_first = True\n",
    "    \n",
    "    in_batch = np.zeros((len(enData), decoder_que_pad), dtype = int)\n",
    "    in_batch[:,0] = decoder_word2idx['<bos>']\n",
    "    en_batch = enData\n",
    "    resp_pred = np.zeros(in_batch.shape, dtype = int)\n",
    "    # Generate the sequence recurrsively.\n",
    "    for i in range(decoder_que_pad):\n",
    "        # Run\n",
    "        resp_pred_wv = model([en_batch, in_batch])\n",
    "        the_last = resp_pred_wv[:,i]\n",
    "        # Stochastic\n",
    "        the_last_one = tf.reshape(\n",
    "            tf.random.categorical(tf.math.log(the_last), 1), \n",
    "            [len(enData),]\n",
    "        )\n",
    "        # TODO: greedy\n",
    "        the_last_two = tf.math.argmax(the_last, axis = 1)\n",
    "        try:\n",
    "            resp_pred[:,i] = the_last_one\n",
    "            in_batch[:,i+1] = the_last_one\n",
    "        except:\n",
    "            resp_pred[:,i] = the_last_one\n",
    "    # Remove the words after <eos>\n",
    "    for i in range(len(resp_pred)):\n",
    "        try:\n",
    "            index = list(resp_pred[i]).index(en_word2idx['<eos>'])\n",
    "        except:\n",
    "            continue\n",
    "        resp_pred[i,index+1:] = 0\n",
    "        in_batch[i,index+1:] = 0\n",
    "        \n",
    "    return resp_pred, in_batch"
   ]
  },
  {
   "cell_type": "code",
   "execution_count": null,
   "id": "ab5a1c9d",
   "metadata": {},
   "outputs": [],
   "source": [
    "resp_pred_list, _ = inference(mleG, [encoder_vali[123]])\n",
    "print('# Predicted sequence')\n",
    "print(seq2word(resp_pred_list, decoder_idx2word))\n",
    "print('# Real sequence')\n",
    "print(seq2word([decoder_vali[123]], decoder_idx2word))"
   ]
  },
  {
   "cell_type": "markdown",
   "id": "640efcea",
   "metadata": {},
   "source": [
    "# Step 2: Slow MLE"
   ]
  },
  {
   "cell_type": "code",
   "execution_count": 19,
   "id": "28a24004",
   "metadata": {},
   "outputs": [
    {
     "name": "stdout",
     "output_type": "stream",
     "text": [
      "Model: \"model_4\"\n",
      "_________________________________________________________________\n",
      "Layer (type)                 Output Shape              Param #   \n",
      "=================================================================\n",
      "input_10 (InputLayer)        [(None, 65)]              0         \n",
      "_________________________________________________________________\n",
      "embedding_2 (Embedding)      (None, 65, 32)            150912    \n",
      "_________________________________________________________________\n",
      "tf.__operators__.add_4 (TFOp (None, 65, 32)            0         \n",
      "_________________________________________________________________\n",
      "layer_normalization_4 (Layer (None, 65, 32)            64        \n",
      "_________________________________________________________________\n",
      "lstm_2 (LSTM)                (None, 65, 32)            8320      \n",
      "=================================================================\n",
      "Total params: 159,296\n",
      "Trainable params: 159,296\n",
      "Non-trainable params: 0\n",
      "_________________________________________________________________\n",
      "Model: \"model_6\"\n",
      "__________________________________________________________________________________________________\n",
      "Layer (type)                    Output Shape         Param #     Connected to                     \n",
      "==================================================================================================\n",
      "input_12 (InputLayer)           [(None, 207)]        0                                            \n",
      "__________________________________________________________________________________________________\n",
      "embedding_3 (Embedding)         (None, 207, 32)      6368        input_12[0][0]                   \n",
      "__________________________________________________________________________________________________\n",
      "tf.__operators__.add_5 (TFOpLam (None, 207, 32)      0           embedding_3[0][0]                \n",
      "__________________________________________________________________________________________________\n",
      "layer_normalization_5 (LayerNor (None, 207, 32)      64          tf.__operators__.add_5[0][0]     \n",
      "__________________________________________________________________________________________________\n",
      "lstm_3 (LSTM)                   (None, 207, 32)      8320        layer_normalization_5[0][0]      \n",
      "__________________________________________________________________________________________________\n",
      "input_11 (InputLayer)           [(None, 65, 32)]     0                                            \n",
      "__________________________________________________________________________________________________\n",
      "model_5 (Functional)            [(None, 207, 32), (N 153248      lstm_3[0][0]                     \n",
      "                                                                 input_11[0][0]                   \n",
      "__________________________________________________________________________________________________\n",
      "activation_3 (Activation)       (None, 207, 32)      0           model_5[0][1]                    \n",
      "__________________________________________________________________________________________________\n",
      "dense_11 (Dense)                (None, 207, 199)     6567        activation_3[0][0]               \n",
      "__________________________________________________________________________________________________\n",
      "activation_5 (Activation)       (None, 207, 199)     0           dense_11[0][0]                   \n",
      "==================================================================================================\n",
      "Total params: 174,567\n",
      "Trainable params: 174,567\n",
      "Non-trainable params: 0\n",
      "__________________________________________________________________________________________________\n",
      "Model: \"model_7\"\n",
      "__________________________________________________________________________________________________\n",
      "Layer (type)                    Output Shape         Param #     Connected to                     \n",
      "==================================================================================================\n",
      "input_8 (InputLayer)            [(None, 65)]         0                                            \n",
      "__________________________________________________________________________________________________\n",
      "model_4 (Functional)            (None, 65, 32)       159296      input_8[0][0]                    \n",
      "__________________________________________________________________________________________________\n",
      "input_9 (InputLayer)            [(None, 207)]        0                                            \n",
      "__________________________________________________________________________________________________\n",
      "model_6 (Functional)            (None, 207, 199)     174567      model_4[0][0]                    \n",
      "                                                                 input_9[0][0]                    \n",
      "==================================================================================================\n",
      "Total params: 333,863\n",
      "Trainable params: 333,863\n",
      "Non-trainable params: 0\n",
      "__________________________________________________________________________________________________\n"
     ]
    }
   ],
   "source": [
    "mleG = getLM()\n",
    "mleG.compile(\n",
    "    loss='sparse_categorical_crossentropy',\n",
    "    optimizer=Adam(learning_rate = 1e-5),\n",
    "    metrics=['accuracy'],\n",
    ")\n",
    "mleG.summary()"
   ]
  },
  {
   "cell_type": "code",
   "execution_count": 20,
   "id": "ede7b4d0",
   "metadata": {},
   "outputs": [
    {
     "name": "stdout",
     "output_type": "stream",
     "text": [
      "768/768 [==============================] - 11s 13ms/step - loss: 0.5462 - accuracy: 0.8382\n",
      "0.5462390780448914\n"
     ]
    }
   ],
   "source": [
    "mleG.load_weights(f'./{folder_name}/mleG.h5')\n",
    "loss, _acc = mleG.evaluate(\n",
    "    [encoder_vali, decoder_vali], \n",
    "    teacher_vali\n",
    ")\n",
    "print(loss)"
   ]
  },
  {
   "cell_type": "code",
   "execution_count": null,
   "id": "08dad3f1",
   "metadata": {},
   "outputs": [
    {
     "name": "stdout",
     "output_type": "stream",
     "text": [
      "Epoch 1/300\n",
      "1727/1727 [==============================] - 70s 39ms/step - loss: 0.5576 - accuracy: 0.8353 - val_loss: 0.5362 - val_accuracy: 0.8411\n",
      "Epoch 2/300\n",
      "1727/1727 [==============================] - 67s 39ms/step - loss: 0.5559 - accuracy: 0.8358 - val_loss: 0.5356 - val_accuracy: 0.8412\n",
      "Epoch 3/300\n",
      "1727/1727 [==============================] - 67s 39ms/step - loss: 0.5555 - accuracy: 0.8359 - val_loss: 0.5354 - val_accuracy: 0.8413\n",
      "Epoch 4/300\n",
      "1727/1727 [==============================] - 67s 39ms/step - loss: 0.5552 - accuracy: 0.8360 - val_loss: 0.5351 - val_accuracy: 0.8415\n",
      "Epoch 5/300\n",
      "1727/1727 [==============================] - 67s 39ms/step - loss: 0.5549 - accuracy: 0.8360 - val_loss: 0.5350 - val_accuracy: 0.8414\n",
      "Epoch 6/300\n",
      "1727/1727 [==============================] - 67s 39ms/step - loss: 0.5548 - accuracy: 0.8361 - val_loss: 0.5349 - val_accuracy: 0.8415\n",
      "Epoch 7/300\n",
      "1727/1727 [==============================] - 68s 39ms/step - loss: 0.5547 - accuracy: 0.8361 - val_loss: 0.5347 - val_accuracy: 0.8415\n",
      "Epoch 8/300\n",
      "1727/1727 [==============================] - 68s 39ms/step - loss: 0.5546 - accuracy: 0.8362 - val_loss: 0.5346 - val_accuracy: 0.8416\n",
      "Epoch 9/300\n",
      "1727/1727 [==============================] - 67s 39ms/step - loss: 0.5545 - accuracy: 0.8362 - val_loss: 0.5346 - val_accuracy: 0.8416\n",
      "Epoch 10/300\n",
      "1727/1727 [==============================] - 67s 39ms/step - loss: 0.5544 - accuracy: 0.8362 - val_loss: 0.5346 - val_accuracy: 0.8416\n",
      "Epoch 11/300\n",
      "1727/1727 [==============================] - 67s 39ms/step - loss: 0.5543 - accuracy: 0.8362 - val_loss: 0.5345 - val_accuracy: 0.8416\n",
      "Epoch 12/300\n",
      "1727/1727 [==============================] - 67s 39ms/step - loss: 0.5543 - accuracy: 0.8362 - val_loss: 0.5344 - val_accuracy: 0.8416\n",
      "Epoch 13/300\n",
      "1727/1727 [==============================] - 68s 39ms/step - loss: 0.5543 - accuracy: 0.8362 - val_loss: 0.5344 - val_accuracy: 0.8417\n",
      "Epoch 14/300\n",
      "1727/1727 [==============================] - 67s 39ms/step - loss: 0.5541 - accuracy: 0.8363 - val_loss: 0.5343 - val_accuracy: 0.8416\n",
      "Epoch 15/300\n",
      "1727/1727 [==============================] - 67s 39ms/step - loss: 0.5541 - accuracy: 0.8363 - val_loss: 0.5343 - val_accuracy: 0.8417\n",
      "Epoch 16/300\n",
      "1727/1727 [==============================] - 66s 38ms/step - loss: 0.5541 - accuracy: 0.8363 - val_loss: 0.5342 - val_accuracy: 0.8417\n",
      "Epoch 17/300\n",
      "1727/1727 [==============================] - 67s 39ms/step - loss: 0.5541 - accuracy: 0.8363 - val_loss: 0.5342 - val_accuracy: 0.8417\n",
      "Epoch 18/300\n",
      "1727/1727 [==============================] - 67s 39ms/step - loss: 0.5539 - accuracy: 0.8363 - val_loss: 0.5342 - val_accuracy: 0.8417\n",
      "Epoch 19/300\n",
      "1727/1727 [==============================] - 67s 39ms/step - loss: 0.5539 - accuracy: 0.8363 - val_loss: 0.5341 - val_accuracy: 0.8417\n",
      "Epoch 20/300\n",
      "1727/1727 [==============================] - 68s 39ms/step - loss: 0.5538 - accuracy: 0.8363 - val_loss: 0.5341 - val_accuracy: 0.8417\n",
      "Epoch 21/300\n",
      "1727/1727 [==============================] - 67s 39ms/step - loss: 0.5539 - accuracy: 0.8363 - val_loss: 0.5341 - val_accuracy: 0.8417\n",
      "Epoch 22/300\n",
      "1727/1727 [==============================] - 67s 39ms/step - loss: 0.5538 - accuracy: 0.8363 - val_loss: 0.5340 - val_accuracy: 0.8418\n",
      "Epoch 23/300\n",
      "1727/1727 [==============================] - 67s 39ms/step - loss: 0.5538 - accuracy: 0.8364 - val_loss: 0.5340 - val_accuracy: 0.8418\n",
      "Epoch 24/300\n",
      "1727/1727 [==============================] - 68s 39ms/step - loss: 0.5537 - accuracy: 0.8364 - val_loss: 0.5340 - val_accuracy: 0.8418\n",
      "Epoch 25/300\n",
      "1727/1727 [==============================] - 67s 39ms/step - loss: 0.5537 - accuracy: 0.8363 - val_loss: 0.5339 - val_accuracy: 0.8418\n",
      "Epoch 26/300\n",
      "1727/1727 [==============================] - 67s 39ms/step - loss: 0.5537 - accuracy: 0.8363 - val_loss: 0.5339 - val_accuracy: 0.8418\n",
      "Epoch 27/300\n",
      "1727/1727 [==============================] - 67s 39ms/step - loss: 0.5536 - accuracy: 0.8364 - val_loss: 0.5338 - val_accuracy: 0.8418\n",
      "Epoch 28/300\n",
      "1727/1727 [==============================] - 67s 39ms/step - loss: 0.5536 - accuracy: 0.8364 - val_loss: 0.5338 - val_accuracy: 0.8418\n",
      "Epoch 29/300\n",
      "1727/1727 [==============================] - 67s 39ms/step - loss: 0.5536 - accuracy: 0.8364 - val_loss: 0.5338 - val_accuracy: 0.8418\n",
      "Epoch 30/300\n",
      "1727/1727 [==============================] - 67s 39ms/step - loss: 0.5536 - accuracy: 0.8364 - val_loss: 0.5338 - val_accuracy: 0.8418\n",
      "Epoch 31/300\n",
      "1727/1727 [==============================] - 68s 39ms/step - loss: 0.5536 - accuracy: 0.8364 - val_loss: 0.5338 - val_accuracy: 0.8418\n",
      "Epoch 32/300\n",
      "1727/1727 [==============================] - 68s 39ms/step - loss: 0.5535 - accuracy: 0.8364 - val_loss: 0.5337 - val_accuracy: 0.8419\n",
      "Epoch 33/300\n",
      "1727/1727 [==============================] - 67s 39ms/step - loss: 0.5535 - accuracy: 0.8364 - val_loss: 0.5337 - val_accuracy: 0.8418\n",
      "Epoch 34/300\n",
      "1727/1727 [==============================] - 67s 39ms/step - loss: 0.5535 - accuracy: 0.8364 - val_loss: 0.5338 - val_accuracy: 0.8419\n",
      "Epoch 35/300\n",
      "1727/1727 [==============================] - 67s 39ms/step - loss: 0.5536 - accuracy: 0.8364 - val_loss: 0.5338 - val_accuracy: 0.8418\n",
      "Epoch 36/300\n",
      "1727/1727 [==============================] - 67s 39ms/step - loss: 0.5534 - accuracy: 0.8364 - val_loss: 0.5336 - val_accuracy: 0.8419\n",
      "Epoch 37/300\n",
      "1727/1727 [==============================] - 68s 39ms/step - loss: 0.5534 - accuracy: 0.8364 - val_loss: 0.5336 - val_accuracy: 0.8419\n",
      "Epoch 38/300\n",
      "1727/1727 [==============================] - 67s 39ms/step - loss: 0.5534 - accuracy: 0.8365 - val_loss: 0.5336 - val_accuracy: 0.8419\n",
      "Epoch 39/300\n",
      " 547/1727 [========>.....................] - ETA: 43s - loss: 0.5523 - accuracy: 0.8368"
     ]
    }
   ],
   "source": [
    "mleG.fit(\n",
    "    [encoder_train, decoder_train], \n",
    "    teacher_train, \n",
    "    batch_size=128, \n",
    "    epochs=300, \n",
    "    shuffle=True, \n",
    "    validation_data = (\n",
    "        [encoder_vali, decoder_vali], \n",
    "        teacher_vali\n",
    "    ), \n",
    "    callbacks=[\n",
    "        ModelCheckpoint(\n",
    "            f'./{folder_name}/slowmleG.h5', \n",
    "            save_best_only=True, \n",
    "            monitor = \"val_loss\"\n",
    "        ),\n",
    "        EarlyStopping(monitor='val_loss', patience=5),\n",
    "        CSVLogger(f'{folder_name}/slowmleG.csv'),\n",
    "    ]\n",
    ")"
   ]
  },
  {
   "cell_type": "code",
   "execution_count": 7,
   "id": "84518cd6",
   "metadata": {},
   "outputs": [
    {
     "name": "stderr",
     "output_type": "stream",
     "text": [
      "No handles with labels found to put in legend.\n"
     ]
    },
    {
     "data": {
      "image/png": "[encoded data removed]",
      "text/plain": [
       "<Figure size 432x288 with 1 Axes>"
      ]
     },
     "metadata": {
      "needs_background": "light"
     },
     "output_type": "display_data"
    }
   ],
   "source": [
    "import csv\n",
    "from matplotlib import pyplot as plt\n",
    "%matplotlib inline\n",
    "rows = csv.reader(open(f'{folder_name}/slowmleG.csv'))\n",
    "nll_mle = []\n",
    "for i, row in enumerate(rows):\n",
    "    if i == 0:\n",
    "        continue\n",
    "    nll_mle.append(float(row[-1]))\n",
    "plt.plot(nll_mle, )\n",
    "plt.grid(True)\n",
    "plt.ylabel('nll_test')\n",
    "plt.xlabel('training iterations')\n",
    "plt.legend()\n",
    "plt.show()"
   ]
  },
  {
   "cell_type": "code",
   "execution_count": 23,
   "id": "96cb26f6",
   "metadata": {},
   "outputs": [
    {
     "name": "stdout",
     "output_type": "stream",
     "text": [
      "768/768 [==============================] - 11s 14ms/step - loss: 0.5332 - accuracy: 0.8420\n",
      "0.5332431793212891\n"
     ]
    }
   ],
   "source": [
    "mleG.load_weights(f'./{folder_name}/slowmleG.h5')\n",
    "loss, _acc = mleG.evaluate(\n",
    "    [encoder_vali, decoder_vali], \n",
    "    teacher_vali\n",
    ")\n",
    "print(loss)"
   ]
  },
  {
   "cell_type": "code",
   "execution_count": 28,
   "id": "306ebd1b",
   "metadata": {},
   "outputs": [
    {
     "name": "stdout",
     "output_type": "stream",
     "text": [
      "# Predicted sequence\n",
      "['Even to the its year for-year.<eos>                                                                                                                                                                                ']\n",
      "# Real sequence\n",
      "['<bos>The coming year will be particularly important for Europe.<eos>                                                                                                                                                   ']\n"
     ]
    }
   ],
   "source": [
    "resp_pred_list, _ = inference(mleG, [encoder_vali[123]])\n",
    "print('# Predicted sequence')\n",
    "print(seq2word(resp_pred_list, decoder_idx2word))\n",
    "print('# Real sequence')\n",
    "print(seq2word([decoder_vali[123]], decoder_idx2word))"
   ]
  },
  {
   "cell_type": "code",
   "execution_count": null,
   "id": "8c7d22ab",
   "metadata": {},
   "outputs": [],
   "source": []
  }
 ],
 "metadata": {
  "kernelspec": {
   "display_name": "Python 3 (ipykernel)",
   "language": "python",
   "name": "python3"
  },
  "language_info": {
   "codemirror_mode": {
    "name": "ipython",
    "version": 3
   },
   "file_extension": ".py",
   "mimetype": "text/x-python",
   "name": "python",
   "nbconvert_exporter": "python",
   "pygments_lexer": "ipython3",
   "version": "3.9.6"
  }
 },
 "nbformat": 4,
 "nbformat_minor": 5
}
