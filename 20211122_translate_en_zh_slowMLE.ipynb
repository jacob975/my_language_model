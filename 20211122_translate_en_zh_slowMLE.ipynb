{
 "cells": [
  {
   "cell_type": "code",
   "execution_count": 1,
   "id": "2b4e0d8a",
   "metadata": {},
   "outputs": [
    {
     "name": "stdout",
     "output_type": "stream",
     "text": [
      "Version:  2.5.0\n",
      "Eager mode:  True\n",
      "Hub version:  0.12.0\n",
      "GPU is available\n"
     ]
    }
   ],
   "source": [
    "import os\n",
    "import numpy as np\n",
    "import pandas as pd\n",
    "import pickle\n",
    "import json\n",
    "\n",
    "import tensorflow as tf\n",
    "from tensorflow.keras.models import Model\n",
    "from tensorflow.keras.layers import Input, Dense, LSTM, Embedding, Activation, Dropout\n",
    "from tensorflow.keras.layers import MultiHeadAttention, LayerNormalization\n",
    "from tensorflow.keras.optimizers import Adam\n",
    "from tensorflow.keras.callbacks import ModelCheckpoint, EarlyStopping, CSVLogger\n",
    "import tensorflow_hub as hub\n",
    "import tensorflow_datasets as tfds\n",
    "\n",
    "# If you have more than 1 GPU, you might want to specify which GPU for training.\n",
    "# In this case, I have 2 GPU and the second one is RTX 2080ti, so I pick the `second` one.\n",
    "os.environ['CUDA_VISIBLE_DEVICES']='1' # The second\n",
    "tf.config.set_soft_device_placement(True)\n",
    "\n",
    "print(\"Version: \", tf.__version__)\n",
    "print(\"Eager mode: \", tf.executing_eagerly())\n",
    "print(\"Hub version: \", hub.__version__)\n",
    "print(\"GPU is\", \"available\" if tf.config.list_physical_devices(\"GPU\") else \"NOT AVAILABLE\")"
   ]
  },
  {
   "cell_type": "markdown",
   "id": "81ff1588",
   "metadata": {},
   "source": [
    "# Constants"
   ]
  },
  {
   "cell_type": "code",
   "execution_count": 2,
   "id": "fd19fd7d",
   "metadata": {},
   "outputs": [],
   "source": [
    "d_name = '20211116_wmt19_en_zh'\n",
    "folder_name = '20211122_translate_mle_en_zh'\n",
    "\n",
    "encoder_wv_dim = 64\n",
    "decoder_wv_dim = 64\n",
    "encoder_que_pad = 65\n",
    "decoder_que_pad = 207"
   ]
  },
  {
   "cell_type": "code",
   "execution_count": 3,
   "id": "8df6f021",
   "metadata": {},
   "outputs": [],
   "source": [
    "if not os.path.isdir(folder_name):\n",
    "    os.makedirs(folder_name)"
   ]
  },
  {
   "cell_type": "markdown",
   "id": "2bbd009e",
   "metadata": {},
   "source": [
    "# Load data"
   ]
  },
  {
   "cell_type": "code",
   "execution_count": 4,
   "id": "6ebea8ae",
   "metadata": {},
   "outputs": [],
   "source": [
    "encoder_train = pickle.load(open(f'{d_name}/encoder_train.pkl', 'rb'))\n",
    "decoder_train = pickle.load(open(f'{d_name}/decoder_train.pkl', 'rb'))\n",
    "teacher_train = pickle.load(open(f'{d_name}/teacher_train.pkl', 'rb'))\n",
    "encoder_vali  = pickle.load(open(f'{d_name}/encoder_vali.pkl', 'rb'))\n",
    "decoder_vali  = pickle.load(open(f'{d_name}/decoder_vali.pkl', 'rb'))\n",
    "teacher_vali  = pickle.load(open(f'{d_name}/teacher_vali.pkl', 'rb'))\n",
    "\n",
    "decoder_idx2word   = pickle.load(open(f'{d_name}/en_idx2word.pkl','rb'))\n",
    "decoder_word2idx   = pickle.load(open(f'{d_name}/en_word2idx.pkl','rb'))\n",
    "encoder_idx2word   = pickle.load(open(f'{d_name}/zh_idx2word.pkl','rb'))\n",
    "encoder_word2idx   = pickle.load(open(f'{d_name}/zh_word2idx.pkl','rb'))\n",
    "\n",
    "decoder_emb32   = pickle.load(open(f'{d_name}/en_emb32.pkl', 'rb'))\n",
    "encoder_emb32   = pickle.load(open(f'{d_name}/zh_emb32.pkl', 'rb'))"
   ]
  },
  {
   "cell_type": "code",
   "execution_count": 5,
   "id": "acfa8913",
   "metadata": {},
   "outputs": [
    {
     "name": "stdout",
     "output_type": "stream",
     "text": [
      "(221040, 65)\n",
      "(221040, 207)\n"
     ]
    }
   ],
   "source": [
    "print(encoder_train.shape)\n",
    "print(teacher_train.shape)"
   ]
  },
  {
   "cell_type": "code",
   "execution_count": 6,
   "id": "43127505",
   "metadata": {},
   "outputs": [
    {
     "name": "stdout",
     "output_type": "stream",
     "text": [
      "199\n",
      "4716\n"
     ]
    }
   ],
   "source": [
    "num_decoder_words = np.max([np.max(decoder_train), np.max(decoder_vali)])+1\n",
    "num_encoder_words = np.max([np.max(encoder_train), np.max(encoder_vali)])+1\n",
    "\n",
    "print(num_decoder_words)\n",
    "print(num_encoder_words)"
   ]
  },
  {
   "cell_type": "code",
   "execution_count": 7,
   "id": "6d96056d",
   "metadata": {},
   "outputs": [],
   "source": [
    "def seq2word(seq_tensor, idx2word):\n",
    "    return [''.join([idx2word[i] for i in seq]) for seq in seq_tensor]"
   ]
  },
  {
   "cell_type": "code",
   "execution_count": 8,
   "id": "deacbbf8",
   "metadata": {
    "scrolled": true
   },
   "outputs": [
    {
     "data": {
      "text/plain": [
       "['<bos>1929 or 1989?<eos>                                                                                                                                                                                                ']"
      ]
     },
     "execution_count": 8,
     "metadata": {},
     "output_type": "execute_result"
    }
   ],
   "source": [
    "seq2word(decoder_vali[:1], decoder_idx2word)"
   ]
  },
  {
   "cell_type": "code",
   "execution_count": 9,
   "id": "2d8805e9",
   "metadata": {},
   "outputs": [
    {
     "data": {
      "text/plain": [
       "['1929年还是1989年?                                                    ']"
      ]
     },
     "execution_count": 9,
     "metadata": {},
     "output_type": "execute_result"
    }
   ],
   "source": [
    "seq2word(encoder_vali[:1], encoder_idx2word)"
   ]
  },
  {
   "cell_type": "markdown",
   "id": "d792d94b",
   "metadata": {},
   "source": [
    "# Positional Encoding\n",
    "[Positional Encoding](https://www.tensorflow.org/text/tutorials/transformer)\n",
    "based on [Vaswani+17, Attention is All You Need](https://arxiv.org/abs/1706.03762)"
   ]
  },
  {
   "cell_type": "code",
   "execution_count": 10,
   "id": "a9306657",
   "metadata": {},
   "outputs": [],
   "source": [
    "def get_angles(pos, i, d_model):\n",
    "    angle_rates = 1 / np.power(10000, (2 * (i//2)) / np.float32(d_model))\n",
    "    return pos * angle_rates\n",
    "\n",
    "def positional_encoding(position, d_model):\n",
    "    angle_rads = get_angles(\n",
    "        np.arange(position)[:, np.newaxis],\n",
    "        np.arange(d_model)[np.newaxis, :],\n",
    "        d_model\n",
    "    )\n",
    "\n",
    "    # apply sin to even indices in the array; 2i\n",
    "    angle_rads[:, 0::2] = np.sin(angle_rads[:, 0::2])\n",
    "\n",
    "    # apply cos to odd indices in the array; 2i+1\n",
    "    angle_rads[:, 1::2] = np.cos(angle_rads[:, 1::2])\n",
    "\n",
    "    pos_encoding = angle_rads[np.newaxis, ...]\n",
    "\n",
    "    return tf.cast(pos_encoding, dtype=tf.float32)"
   ]
  },
  {
   "cell_type": "code",
   "execution_count": 11,
   "id": "504d1d2d",
   "metadata": {},
   "outputs": [
    {
     "name": "stdout",
     "output_type": "stream",
     "text": [
      "(1, 10, 64)\n"
     ]
    },
    {
     "data": {
      "image/png": "[encoded data removed]",
      "text/plain": [
       "<Figure size 432x288 with 2 Axes>"
      ]
     },
     "metadata": {
      "needs_background": "light"
     },
     "output_type": "display_data"
    }
   ],
   "source": [
    "from matplotlib import pyplot as plt\n",
    "n, d = 10, 64\n",
    "pos_encoding = positional_encoding(n, d)\n",
    "print(pos_encoding.shape)\n",
    "pos_encoding = pos_encoding[0]\n",
    "\n",
    "# Juggle the dimensions for the plot\n",
    "pos_encoding = tf.reshape(pos_encoding, (n, d//2, 2))\n",
    "pos_encoding = tf.transpose(pos_encoding, (2, 1, 0))\n",
    "pos_encoding = tf.reshape(pos_encoding, (d, n))\n",
    "\n",
    "plt.pcolormesh(pos_encoding, cmap='RdBu')\n",
    "plt.ylabel('Depth')\n",
    "plt.xlabel('Position')\n",
    "plt.colorbar()\n",
    "plt.show()"
   ]
  },
  {
   "cell_type": "markdown",
   "id": "3ba91ed5",
   "metadata": {},
   "source": [
    "# Generator"
   ]
  },
  {
   "cell_type": "markdown",
   "id": "88bbfb10",
   "metadata": {},
   "source": [
    "[Multi-Head Attention](https://www.tensorflow.org/api_docs/python/tf/keras/layers/MultiHeadAttention) \n",
    "and [Positional Encoding](https://www.tensorflow.org/text/tutorials/transformer)\n",
    "based on [Vaswani+17, Attention is All You Need](https://arxiv.org/abs/1706.03762)"
   ]
  },
  {
   "cell_type": "code",
   "execution_count": 14,
   "id": "277c3fb5",
   "metadata": {},
   "outputs": [],
   "source": [
    "def Transformer(q_que_pad, k_que_pad, wv_dim, k_wv_dim, rate = 0.1, mask = ''):\n",
    "    # Inputs\n",
    "    mem  = Input((q_que_pad, wv_dim))\n",
    "    encode = Input((k_que_pad, k_wv_dim))\n",
    "    # Constants\n",
    "    ff_dim = wv_dim*16\n",
    "    # Multi-Head Attention\n",
    "    q = Dense(wv_dim)(mem)\n",
    "    k = Dense(wv_dim)(encode)\n",
    "    v = Dense(wv_dim)(encode)\n",
    "    # Choose a mask, default: BERT (no mask)\n",
    "    mask_weights = np.ones((q_que_pad, k_que_pad))\n",
    "    if mask == 'GPT':\n",
    "        mask_weights = np.tri(q_que_pad, k_que_pad, 0)\n",
    "    mem_new = MultiHeadAttention(\n",
    "        num_heads = 4,\n",
    "        key_dim = wv_dim, \n",
    "        value_dim = wv_dim\n",
    "    )(\n",
    "        q, k, v,\n",
    "        attention_mask = mask_weights\n",
    "    )\n",
    "    mem_new = Dropout(rate)(mem_new)\n",
    "    mem_new = LayerNormalization(epsilon=1e-6)(mem_new+mem)\n",
    "    # Feed-Forward skip-connection\n",
    "    ffn = Dense(ff_dim, activation = 'relu')(mem_new)\n",
    "    ffn = Dense(wv_dim)(ffn)\n",
    "    ffn = Dropout(rate)(ffn)\n",
    "    out = LayerNormalization(epsilon=1e-6)(ffn+mem_new)\n",
    "    model = Model(\n",
    "        [mem, encode],\n",
    "        [mem_new, out],\n",
    "    )\n",
    "    return model\n",
    "\n",
    "def getE(wv_dim = 64):\n",
    "    _input = Input((encoder_que_pad,))\n",
    "    emb = Embedding(\n",
    "        num_encoder_words, \n",
    "        wv_dim, \n",
    "        mask_zero = False,\n",
    "        input_length=(int(encoder_que_pad)),\n",
    "        trainable = True,\n",
    "        #embeddings_initializer=tf.keras.initializers.Constant(encoder_emb32),\n",
    "    )\n",
    "    mem = emb(_input)\n",
    "    # position encoding\n",
    "    pe = positional_encoding(encoder_que_pad, wv_dim)\n",
    "    mem = LayerNormalization(epsilon=1e-6)(mem+pe)\n",
    "    # forward sentence\n",
    "    for i in range(1):\n",
    "        gptLayer = Transformer(encoder_que_pad, encoder_que_pad, wv_dim, wv_dim)\n",
    "        mem, output = gptLayer((mem, mem))\n",
    "        output = Activation('relu')(output)\n",
    "        mem = Activation('relu')(mem)\n",
    "    # Output\n",
    "    model = Model(\n",
    "        _input, \n",
    "        output) \n",
    "    return model\n",
    "\n",
    "def getD(wv_dim = 64, encoder_wv_dim = 64):\n",
    "    en_output = Input((encoder_que_pad, encoder_wv_dim))\n",
    "    de_input  = Input((decoder_que_pad,))\n",
    "    emb = Embedding(\n",
    "        num_decoder_words, \n",
    "        wv_dim, \n",
    "        mask_zero = False,\n",
    "        input_length=(int(decoder_que_pad)),\n",
    "        trainable = True,\n",
    "        #embeddings_initializer=tf.keras.initializers.Constant(decoder_emb32),\n",
    "    )\n",
    "    mem = emb(de_input)\n",
    "    # position encoding\n",
    "    pe = positional_encoding(decoder_que_pad, wv_dim)\n",
    "    mem = LayerNormalization(epsilon=1e-6)(mem+pe)\n",
    "    # Attention\n",
    "    for j in range(1):\n",
    "        # Self attention\n",
    "        for i in range(1):\n",
    "            gptLayer = Transformer(decoder_que_pad, decoder_que_pad, wv_dim, wv_dim, mask = 'GPT')\n",
    "            mem, _ = gptLayer((mem, mem))\n",
    "            mem = Activation('relu')(mem)\n",
    "        # Cross attention\n",
    "        for i in range(1):\n",
    "            gptLayer = Transformer(decoder_que_pad, encoder_que_pad, wv_dim, encoder_wv_dim)\n",
    "            mem, output = gptLayer((mem, en_output))\n",
    "            output = Activation('relu')(output)\n",
    "            mem = Activation('relu')(mem)\n",
    "    # Concatenation and output\n",
    "    output = Dense(num_decoder_words)(output)\n",
    "    output = Activation('softmax')(output)\n",
    "    model = Model(\n",
    "        [en_output, de_input], \n",
    "        output,\n",
    "    )\n",
    "    return model\n",
    "\n",
    "# Language Model\n",
    "def getLM():\n",
    "    # Inputs\n",
    "    en_input = Input((encoder_que_pad,))\n",
    "    de_input = Input((decoder_que_pad,))\n",
    "    # Encoder (Chinese -> code)\n",
    "    encoder = getE(encoder_wv_dim)\n",
    "    encoder.summary()\n",
    "    en_output = encoder(en_input)\n",
    "    # Decoder (code -> English)\n",
    "    decoder = getD(decoder_wv_dim, encoder_wv_dim)\n",
    "    decoder.summary()\n",
    "    de_output = decoder([en_output, de_input])\n",
    "    # Establish the model\n",
    "    model = Model(\n",
    "        [en_input, de_input],\n",
    "        de_output,\n",
    "    )\n",
    "    return model"
   ]
  },
  {
   "cell_type": "code",
   "execution_count": 15,
   "id": "447fcbc1",
   "metadata": {},
   "outputs": [
    {
     "name": "stdout",
     "output_type": "stream",
     "text": [
      "Model: \"model_7\"\n",
      "__________________________________________________________________________________________________\n",
      "Layer (type)                    Output Shape         Param #     Connected to                     \n",
      "==================================================================================================\n",
      "input_14 (InputLayer)           [(None, 65)]         0                                            \n",
      "__________________________________________________________________________________________________\n",
      "embedding_2 (Embedding)         (None, 65, 64)       301824      input_14[0][0]                   \n",
      "__________________________________________________________________________________________________\n",
      "tf.__operators__.add_8 (TFOpLam (None, 65, 64)       0           embedding_2[0][0]                \n",
      "__________________________________________________________________________________________________\n",
      "layer_normalization_8 (LayerNor (None, 65, 64)       128         tf.__operators__.add_8[0][0]     \n",
      "__________________________________________________________________________________________________\n",
      "model_6 (Functional)            [(None, 65, 64), (No 211264      layer_normalization_8[0][0]      \n",
      "                                                                 layer_normalization_8[0][0]      \n",
      "__________________________________________________________________________________________________\n",
      "activation_6 (Activation)       (None, 65, 64)       0           model_6[0][1]                    \n",
      "==================================================================================================\n",
      "Total params: 513,216\n",
      "Trainable params: 513,216\n",
      "Non-trainable params: 0\n",
      "__________________________________________________________________________________________________\n",
      "Model: \"model_10\"\n",
      "__________________________________________________________________________________________________\n",
      "Layer (type)                    Output Shape         Param #     Connected to                     \n",
      "==================================================================================================\n",
      "input_18 (InputLayer)           [(None, 207)]        0                                            \n",
      "__________________________________________________________________________________________________\n",
      "embedding_3 (Embedding)         (None, 207, 64)      12736       input_18[0][0]                   \n",
      "__________________________________________________________________________________________________\n",
      "tf.__operators__.add_11 (TFOpLa (None, 207, 64)      0           embedding_3[0][0]                \n",
      "__________________________________________________________________________________________________\n",
      "layer_normalization_11 (LayerNo (None, 207, 64)      128         tf.__operators__.add_11[0][0]    \n",
      "__________________________________________________________________________________________________\n",
      "model_8 (Functional)            [(None, 207, 64), (N 211264      layer_normalization_11[0][0]     \n",
      "                                                                 layer_normalization_11[0][0]     \n",
      "__________________________________________________________________________________________________\n",
      "activation_8 (Activation)       (None, 207, 64)      0           model_8[0][0]                    \n",
      "__________________________________________________________________________________________________\n",
      "input_17 (InputLayer)           [(None, 65, 64)]     0                                            \n",
      "__________________________________________________________________________________________________\n",
      "model_9 (Functional)            [(None, 207, 64), (N 211264      activation_8[0][0]               \n",
      "                                                                 input_17[0][0]                   \n",
      "__________________________________________________________________________________________________\n",
      "activation_9 (Activation)       (None, 207, 64)      0           model_9[0][1]                    \n",
      "__________________________________________________________________________________________________\n",
      "dense_31 (Dense)                (None, 207, 199)     12935       activation_9[0][0]               \n",
      "__________________________________________________________________________________________________\n",
      "activation_11 (Activation)      (None, 207, 199)     0           dense_31[0][0]                   \n",
      "==================================================================================================\n",
      "Total params: 448,327\n",
      "Trainable params: 448,327\n",
      "Non-trainable params: 0\n",
      "__________________________________________________________________________________________________\n",
      "Model: \"model_11\"\n",
      "__________________________________________________________________________________________________\n",
      "Layer (type)                    Output Shape         Param #     Connected to                     \n",
      "==================================================================================================\n",
      "input_12 (InputLayer)           [(None, 65)]         0                                            \n",
      "__________________________________________________________________________________________________\n",
      "model_7 (Functional)            (None, 65, 64)       513216      input_12[0][0]                   \n",
      "__________________________________________________________________________________________________\n",
      "input_13 (InputLayer)           [(None, 207)]        0                                            \n",
      "__________________________________________________________________________________________________\n",
      "model_10 (Functional)           (None, 207, 199)     448327      model_7[0][0]                    \n",
      "                                                                 input_13[0][0]                   \n",
      "==================================================================================================\n",
      "Total params: 961,543\n",
      "Trainable params: 961,543\n",
      "Non-trainable params: 0\n",
      "__________________________________________________________________________________________________\n"
     ]
    }
   ],
   "source": [
    "mleG = getLM()\n",
    "mleG.compile(\n",
    "    loss='sparse_categorical_crossentropy',\n",
    "    optimizer=Adam(),\n",
    "    metrics=['accuracy'],\n",
    ")\n",
    "mleG.summary()"
   ]
  },
  {
   "cell_type": "code",
   "execution_count": null,
   "id": "953788c8",
   "metadata": {},
   "outputs": [
    {
     "name": "stdout",
     "output_type": "stream",
     "text": [
      "Epoch 1/300\n",
      "WARNING:tensorflow:Gradients do not exist for variables ['dense_24/kernel:0', 'dense_24/bias:0', 'dense_25/kernel:0', 'dense_25/bias:0', 'layer_normalization_13/gamma:0', 'layer_normalization_13/beta:0'] when minimizing the loss.\n",
      "WARNING:tensorflow:Gradients do not exist for variables ['dense_24/kernel:0', 'dense_24/bias:0', 'dense_25/kernel:0', 'dense_25/bias:0', 'layer_normalization_13/gamma:0', 'layer_normalization_13/beta:0'] when minimizing the loss.\n",
      "1727/1727 [==============================] - 72s 40ms/step - loss: 1.2835 - accuracy: 0.6418 - val_loss: 0.9372 - val_accuracy: 0.7184\n",
      "Epoch 2/300\n",
      "1727/1727 [==============================] - 69s 40ms/step - loss: 0.9077 - accuracy: 0.7263 - val_loss: 0.8112 - val_accuracy: 0.7540\n",
      "Epoch 3/300\n",
      "1727/1727 [==============================] - 69s 40ms/step - loss: 0.8310 - accuracy: 0.7484 - val_loss: 0.7535 - val_accuracy: 0.7707\n",
      "Epoch 4/300\n",
      "1727/1727 [==============================] - 69s 40ms/step - loss: 0.7913 - accuracy: 0.7601 - val_loss: 0.7188 - val_accuracy: 0.7809\n",
      "Epoch 5/300\n",
      "1727/1727 [==============================] - 69s 40ms/step - loss: 0.7646 - accuracy: 0.7682 - val_loss: 0.6984 - val_accuracy: 0.7872\n",
      "Epoch 6/300\n",
      "1727/1727 [==============================] - 69s 40ms/step - loss: 0.7444 - accuracy: 0.7746 - val_loss: 0.6776 - val_accuracy: 0.7939\n",
      "Epoch 7/300\n",
      "1727/1727 [==============================] - 69s 40ms/step - loss: 0.7284 - accuracy: 0.7798 - val_loss: 0.6649 - val_accuracy: 0.7981\n",
      "Epoch 8/300\n",
      "1727/1727 [==============================] - 69s 40ms/step - loss: 0.7162 - accuracy: 0.7836 - val_loss: 0.6557 - val_accuracy: 0.8011\n",
      "Epoch 9/300\n",
      "1727/1727 [==============================] - 69s 40ms/step - loss: 0.7062 - accuracy: 0.7867 - val_loss: 0.6478 - val_accuracy: 0.8038\n",
      "Epoch 10/300\n",
      "1727/1727 [==============================] - 69s 40ms/step - loss: 0.6978 - accuracy: 0.7893 - val_loss: 0.6396 - val_accuracy: 0.8061\n",
      "Epoch 11/300\n",
      "1727/1727 [==============================] - 69s 40ms/step - loss: 0.6910 - accuracy: 0.7915 - val_loss: 0.6331 - val_accuracy: 0.8083\n",
      "Epoch 12/300\n",
      "1727/1727 [==============================] - 69s 40ms/step - loss: 0.6849 - accuracy: 0.7933 - val_loss: 0.6284 - val_accuracy: 0.8096\n",
      "Epoch 13/300\n",
      "1727/1727 [==============================] - 69s 40ms/step - loss: 0.6796 - accuracy: 0.7949 - val_loss: 0.6232 - val_accuracy: 0.8110\n",
      "Epoch 14/300\n",
      "1727/1727 [==============================] - 68s 39ms/step - loss: 0.6749 - accuracy: 0.7963 - val_loss: 0.6187 - val_accuracy: 0.8126\n",
      "Epoch 15/300\n",
      "1727/1727 [==============================] - 67s 39ms/step - loss: 0.6708 - accuracy: 0.7975 - val_loss: 0.6139 - val_accuracy: 0.8138\n",
      "Epoch 16/300\n",
      "1727/1727 [==============================] - 69s 40ms/step - loss: 0.6673 - accuracy: 0.7986 - val_loss: 0.6139 - val_accuracy: 0.8142\n",
      "Epoch 17/300\n",
      "1727/1727 [==============================] - 69s 40ms/step - loss: 0.6640 - accuracy: 0.7996 - val_loss: 0.6082 - val_accuracy: 0.8155\n",
      "Epoch 18/300\n",
      "1727/1727 [==============================] - 69s 40ms/step - loss: 0.6610 - accuracy: 0.8004 - val_loss: 0.6081 - val_accuracy: 0.8159\n",
      "Epoch 19/300\n",
      "1727/1727 [==============================] - 69s 40ms/step - loss: 0.6583 - accuracy: 0.8013 - val_loss: 0.6072 - val_accuracy: 0.8163\n",
      "Epoch 20/300\n",
      "1727/1727 [==============================] - 69s 40ms/step - loss: 0.6559 - accuracy: 0.8020 - val_loss: 0.6025 - val_accuracy: 0.8172\n",
      "Epoch 21/300\n",
      "1727/1727 [==============================] - 69s 40ms/step - loss: 0.6537 - accuracy: 0.8026 - val_loss: 0.6032 - val_accuracy: 0.8175\n",
      "Epoch 22/300\n",
      "1727/1727 [==============================] - 69s 40ms/step - loss: 0.6518 - accuracy: 0.8033 - val_loss: 0.6018 - val_accuracy: 0.8178\n",
      "Epoch 23/300\n",
      "1727/1727 [==============================] - 69s 40ms/step - loss: 0.6499 - accuracy: 0.8037 - val_loss: 0.5993 - val_accuracy: 0.8185\n",
      "Epoch 24/300\n",
      "1727/1727 [==============================] - 69s 40ms/step - loss: 0.6483 - accuracy: 0.8042 - val_loss: 0.5973 - val_accuracy: 0.8192\n",
      "Epoch 25/300\n",
      "1727/1727 [==============================] - 69s 40ms/step - loss: 0.6462 - accuracy: 0.8049 - val_loss: 0.5943 - val_accuracy: 0.8199\n",
      "Epoch 26/300\n",
      "1727/1727 [==============================] - 69s 40ms/step - loss: 0.6447 - accuracy: 0.8054 - val_loss: 0.5938 - val_accuracy: 0.8201\n",
      "Epoch 27/300\n",
      "1727/1727 [==============================] - 69s 40ms/step - loss: 0.6430 - accuracy: 0.8058 - val_loss: 0.5926 - val_accuracy: 0.8205\n",
      "Epoch 28/300\n",
      "1727/1727 [==============================] - 69s 40ms/step - loss: 0.6418 - accuracy: 0.8062 - val_loss: 0.5922 - val_accuracy: 0.8209\n",
      "Epoch 29/300\n",
      "1727/1727 [==============================] - 69s 40ms/step - loss: 0.6403 - accuracy: 0.8067 - val_loss: 0.5889 - val_accuracy: 0.8218\n",
      "Epoch 30/300\n",
      "1727/1727 [==============================] - 68s 40ms/step - loss: 0.6388 - accuracy: 0.8072 - val_loss: 0.5893 - val_accuracy: 0.8216\n",
      "Epoch 31/300\n",
      "1727/1727 [==============================] - 66s 38ms/step - loss: 0.6377 - accuracy: 0.8074 - val_loss: 0.5877 - val_accuracy: 0.8220\n",
      "Epoch 32/300\n",
      "1727/1727 [==============================] - 69s 40ms/step - loss: 0.6368 - accuracy: 0.8077 - val_loss: 0.5882 - val_accuracy: 0.8221\n",
      "Epoch 33/300\n",
      "1727/1727 [==============================] - 69s 40ms/step - loss: 0.6355 - accuracy: 0.8081 - val_loss: 0.5867 - val_accuracy: 0.8224\n",
      "Epoch 34/300\n",
      "1727/1727 [==============================] - 69s 40ms/step - loss: 0.6343 - accuracy: 0.8085 - val_loss: 0.5850 - val_accuracy: 0.8227\n",
      "Epoch 35/300\n",
      "1727/1727 [==============================] - 69s 40ms/step - loss: 0.6329 - accuracy: 0.8089 - val_loss: 0.5831 - val_accuracy: 0.8233\n",
      "Epoch 36/300\n",
      "1727/1727 [==============================] - 69s 40ms/step - loss: 0.6322 - accuracy: 0.8091 - val_loss: 0.5818 - val_accuracy: 0.8239\n",
      "Epoch 37/300\n",
      "1727/1727 [==============================] - 69s 40ms/step - loss: 0.6311 - accuracy: 0.8094 - val_loss: 0.5819 - val_accuracy: 0.8238\n",
      "Epoch 38/300\n",
      "1727/1727 [==============================] - 69s 40ms/step - loss: 0.6302 - accuracy: 0.8097 - val_loss: 0.5817 - val_accuracy: 0.8241\n",
      "Epoch 39/300\n",
      "1727/1727 [==============================] - 69s 40ms/step - loss: 0.6294 - accuracy: 0.8099 - val_loss: 0.5809 - val_accuracy: 0.8243\n",
      "Epoch 40/300\n",
      "1727/1727 [==============================] - 69s 40ms/step - loss: 0.6286 - accuracy: 0.8101 - val_loss: 0.5817 - val_accuracy: 0.8241\n",
      "Epoch 41/300\n",
      "1727/1727 [==============================] - 69s 40ms/step - loss: 0.6277 - accuracy: 0.8105 - val_loss: 0.5797 - val_accuracy: 0.8246\n",
      "Epoch 42/300\n",
      "1727/1727 [==============================] - 69s 40ms/step - loss: 0.6271 - accuracy: 0.8106 - val_loss: 0.5790 - val_accuracy: 0.8250\n",
      "Epoch 43/300\n",
      "1727/1727 [==============================] - 69s 40ms/step - loss: 0.6261 - accuracy: 0.8109 - val_loss: 0.5802 - val_accuracy: 0.8246\n",
      "Epoch 44/300\n",
      "1727/1727 [==============================] - 69s 40ms/step - loss: 0.6253 - accuracy: 0.8111 - val_loss: 0.5772 - val_accuracy: 0.8253\n",
      "Epoch 45/300\n",
      "1727/1727 [==============================] - 69s 40ms/step - loss: 0.6248 - accuracy: 0.8113 - val_loss: 0.5781 - val_accuracy: 0.8253\n",
      "Epoch 46/300\n",
      "1727/1727 [==============================] - 69s 40ms/step - loss: 0.6237 - accuracy: 0.8116 - val_loss: 0.5771 - val_accuracy: 0.8256\n",
      "Epoch 47/300\n",
      " 747/1727 [===========>..................] - ETA: 35s - loss: 0.6217 - accuracy: 0.8122"
     ]
    }
   ],
   "source": [
    "mleG.fit(\n",
    "    [encoder_train, decoder_train], \n",
    "    teacher_train, \n",
    "    batch_size=128, \n",
    "    epochs=300, \n",
    "    shuffle=True, \n",
    "    validation_data = (\n",
    "        [encoder_vali, decoder_vali], \n",
    "        teacher_vali\n",
    "    ), \n",
    "    callbacks=[\n",
    "        ModelCheckpoint(\n",
    "            f'./{folder_name}/mleG.h5', \n",
    "            save_best_only=True, \n",
    "            monitor = \"val_loss\"\n",
    "        ),\n",
    "        EarlyStopping(monitor='val_loss', patience=5),\n",
    "        CSVLogger(f'{folder_name}/mleG.csv'),\n",
    "    ]\n",
    ")"
   ]
  },
  {
   "cell_type": "code",
   "execution_count": 18,
   "id": "93600d55",
   "metadata": {},
   "outputs": [
    {
     "name": "stdout",
     "output_type": "stream",
     "text": [
      "768/768 [==============================] - 5s 6ms/step - loss: 0.6425 - accuracy: 0.8094\n",
      "0.6425310969352722\n"
     ]
    }
   ],
   "source": [
    "mleG.load_weights(f'./{folder_name}/mleG.h5')\n",
    "loss, _acc = mleG.evaluate(\n",
    "    [encoder_vali, decoder_vali], \n",
    "    teacher_vali\n",
    ")\n",
    "print(loss)"
   ]
  },
  {
   "cell_type": "code",
   "execution_count": 19,
   "id": "0c79525f",
   "metadata": {},
   "outputs": [
    {
     "name": "stderr",
     "output_type": "stream",
     "text": [
      "No handles with labels found to put in legend.\n"
     ]
    },
    {
     "data": {
      "image/png": "[encoded data removed]",
      "text/plain": [
       "<Figure size 432x288 with 1 Axes>"
      ]
     },
     "metadata": {
      "needs_background": "light"
     },
     "output_type": "display_data"
    }
   ],
   "source": [
    "import csv\n",
    "from matplotlib import pyplot as plt\n",
    "%matplotlib inline\n",
    "rows = csv.reader(open(f'{folder_name}/mleG.csv'))\n",
    "nll_mle = []\n",
    "for i, row in enumerate(rows):\n",
    "    if i == 0:\n",
    "        continue\n",
    "    nll_mle.append(float(row[-1]))\n",
    "plt.plot(nll_mle, )\n",
    "plt.grid(True)\n",
    "plt.ylabel('nll_test')\n",
    "plt.xlabel('training iterations')\n",
    "plt.legend()\n",
    "plt.show()"
   ]
  },
  {
   "cell_type": "markdown",
   "id": "782d4d3c",
   "metadata": {},
   "source": [
    "## Inference train D (False) "
   ]
  },
  {
   "cell_type": "code",
   "execution_count": 20,
   "id": "645b0de4",
   "metadata": {},
   "outputs": [],
   "source": [
    "def inference(\n",
    "    model,\n",
    "    enData = None,\n",
    "):\n",
    "    # Initialize\n",
    "    resp_pred_list = None\n",
    "    in_batch_list = None\n",
    "    the_first = True\n",
    "    \n",
    "    in_batch = np.zeros((len(enData), decoder_que_pad), dtype = int)\n",
    "    in_batch[:,0] = decoder_word2idx['<bos>']\n",
    "    en_batch = enData\n",
    "    resp_pred = np.zeros(in_batch.shape, dtype = int)\n",
    "    # Generate the sequence recurrsively.\n",
    "    for i in range(decoder_que_pad):\n",
    "        # Run\n",
    "        resp_pred_wv = model([en_batch, in_batch])\n",
    "        the_last = resp_pred_wv[:,i]\n",
    "        # Stochastic\n",
    "        the_last_one = tf.reshape(\n",
    "            tf.random.categorical(tf.math.log(the_last), 1), \n",
    "            [len(enData),]\n",
    "        )\n",
    "        # TODO: greedy\n",
    "        the_last_two = tf.math.argmax(the_last, axis = 1)\n",
    "        try:\n",
    "            resp_pred[:,i] = the_last_one\n",
    "            in_batch[:,i+1] = the_last_one\n",
    "        except:\n",
    "            resp_pred[:,i] = the_last_one\n",
    "    # Remove the words after <eos>\n",
    "    for i in range(len(resp_pred)):\n",
    "        try:\n",
    "            index = list(resp_pred[i]).index(en_word2idx['<eos>'])\n",
    "        except:\n",
    "            continue\n",
    "        resp_pred[i,index+1:] = 0\n",
    "        in_batch[i,index+1:] = 0\n",
    "        \n",
    "    return resp_pred, in_batch"
   ]
  },
  {
   "cell_type": "code",
   "execution_count": 21,
   "id": "0f3f6620",
   "metadata": {},
   "outputs": [
    {
     "name": "stdout",
     "output_type": "stream",
     "text": [
      "# Predicted sequence\n",
      "['For far the FEU wey, suspecially War important.<eos>                                                                                                                                                               ']\n",
      "# Real sequence\n",
      "['<bos>The coming year will be particularly important for Europe.<eos>                                                                                                                                                   ']\n"
     ]
    }
   ],
   "source": [
    "resp_pred_list, _ = inference(mleG, [encoder_vali[123]])\n",
    "print('# Predicted sequence')\n",
    "print(seq2word(resp_pred_list, decoder_idx2word))\n",
    "print('# Real sequence')\n",
    "print(seq2word([decoder_vali[123]], decoder_idx2word))"
   ]
  },
  {
   "cell_type": "markdown",
   "id": "f02da9dd",
   "metadata": {},
   "source": [
    "# Step 2: Slow MLE"
   ]
  },
  {
   "cell_type": "code",
   "execution_count": 22,
   "id": "cb06ccdb",
   "metadata": {},
   "outputs": [
    {
     "name": "stdout",
     "output_type": "stream",
     "text": [
      "Model: \"model_16\"\n",
      "__________________________________________________________________________________________________\n",
      "Layer (type)                    Output Shape         Param #     Connected to                     \n",
      "==================================================================================================\n",
      "input_31 (InputLayer)           [(None, 65)]         0                                            \n",
      "__________________________________________________________________________________________________\n",
      "embedding_4 (Embedding)         (None, 65, 32)       150912      input_31[0][0]                   \n",
      "__________________________________________________________________________________________________\n",
      "tf.__operators__.add_22 (TFOpLa (None, 65, 32)       0           embedding_4[0][0]                \n",
      "__________________________________________________________________________________________________\n",
      "layer_normalization_22 (LayerNo (None, 65, 32)       64          tf.__operators__.add_22[0][0]    \n",
      "__________________________________________________________________________________________________\n",
      "model_15 (Functional)           [(None, 65, 32), (No 86688       layer_normalization_22[0][0]     \n",
      "                                                                 layer_normalization_22[0][0]     \n",
      "__________________________________________________________________________________________________\n",
      "activation_17 (Activation)      (None, 65, 32)       0           model_15[0][1]                   \n",
      "==================================================================================================\n",
      "Total params: 237,664\n",
      "Trainable params: 237,664\n",
      "Non-trainable params: 0\n",
      "__________________________________________________________________________________________________\n",
      "Model: \"model_19\"\n",
      "__________________________________________________________________________________________________\n",
      "Layer (type)                    Output Shape         Param #     Connected to                     \n",
      "==================================================================================================\n",
      "input_35 (InputLayer)           [(None, 207)]        0                                            \n",
      "__________________________________________________________________________________________________\n",
      "embedding_5 (Embedding)         (None, 207, 32)      6368        input_35[0][0]                   \n",
      "__________________________________________________________________________________________________\n",
      "tf.__operators__.add_25 (TFOpLa (None, 207, 32)      0           embedding_5[0][0]                \n",
      "__________________________________________________________________________________________________\n",
      "layer_normalization_25 (LayerNo (None, 207, 32)      64          tf.__operators__.add_25[0][0]    \n",
      "__________________________________________________________________________________________________\n",
      "model_17 (Functional)           [(None, 207, 32), (N 86688       layer_normalization_25[0][0]     \n",
      "                                                                 layer_normalization_25[0][0]     \n",
      "__________________________________________________________________________________________________\n",
      "activation_19 (Activation)      (None, 207, 32)      0           model_17[0][0]                   \n",
      "__________________________________________________________________________________________________\n",
      "input_34 (InputLayer)           [(None, 65, 32)]     0                                            \n",
      "__________________________________________________________________________________________________\n",
      "model_18 (Functional)           [(None, 207, 32), (N 86688       activation_19[0][0]              \n",
      "                                                                 input_34[0][0]                   \n",
      "__________________________________________________________________________________________________\n",
      "activation_20 (Activation)      (None, 207, 32)      0           model_18[0][1]                   \n",
      "__________________________________________________________________________________________________\n",
      "dense_62 (Dense)                (None, 207, 199)     6567        activation_20[0][0]              \n",
      "__________________________________________________________________________________________________\n",
      "activation_22 (Activation)      (None, 207, 199)     0           dense_62[0][0]                   \n",
      "==================================================================================================\n",
      "Total params: 186,375\n",
      "Trainable params: 186,375\n",
      "Non-trainable params: 0\n",
      "__________________________________________________________________________________________________\n",
      "Model: \"model_20\"\n",
      "__________________________________________________________________________________________________\n",
      "Layer (type)                    Output Shape         Param #     Connected to                     \n",
      "==================================================================================================\n",
      "input_29 (InputLayer)           [(None, 65)]         0                                            \n",
      "__________________________________________________________________________________________________\n",
      "model_16 (Functional)           (None, 65, 32)       237664      input_29[0][0]                   \n",
      "__________________________________________________________________________________________________\n",
      "input_30 (InputLayer)           [(None, 207)]        0                                            \n",
      "__________________________________________________________________________________________________\n",
      "model_19 (Functional)           (None, 207, 199)     186375      model_16[0][0]                   \n",
      "                                                                 input_30[0][0]                   \n",
      "==================================================================================================\n",
      "Total params: 424,039\n",
      "Trainable params: 424,039\n",
      "Non-trainable params: 0\n",
      "__________________________________________________________________________________________________\n"
     ]
    }
   ],
   "source": [
    "mleG = getLM()\n",
    "mleG.compile(\n",
    "    loss='sparse_categorical_crossentropy',\n",
    "    optimizer=Adam(learning_rate = 1e-5),\n",
    "    metrics=['accuracy'],\n",
    ")\n",
    "mleG.summary()"
   ]
  },
  {
   "cell_type": "code",
   "execution_count": 23,
   "id": "ed8047e5",
   "metadata": {},
   "outputs": [
    {
     "name": "stdout",
     "output_type": "stream",
     "text": [
      "768/768 [==============================] - 7s 7ms/step - loss: 0.6425 - accuracy: 0.8094\n",
      "0.6425310373306274\n"
     ]
    }
   ],
   "source": [
    "mleG.load_weights(f'./{folder_name}/mleG.h5')\n",
    "loss, _acc = mleG.evaluate(\n",
    "    [encoder_vali, decoder_vali], \n",
    "    teacher_vali\n",
    ")\n",
    "print(loss)"
   ]
  },
  {
   "cell_type": "code",
   "execution_count": 24,
   "id": "b65ed684",
   "metadata": {},
   "outputs": [
    {
     "name": "stdout",
     "output_type": "stream",
     "text": [
      "Epoch 1/300\n",
      "WARNING:tensorflow:Gradients do not exist for variables ['dense_55/kernel:0', 'dense_55/bias:0', 'dense_56/kernel:0', 'dense_56/bias:0', 'layer_normalization_27/gamma:0', 'layer_normalization_27/beta:0'] when minimizing the loss.\n",
      "WARNING:tensorflow:Gradients do not exist for variables ['dense_55/kernel:0', 'dense_55/bias:0', 'dense_56/kernel:0', 'dense_56/bias:0', 'layer_normalization_27/gamma:0', 'layer_normalization_27/beta:0'] when minimizing the loss.\n",
      "1727/1727 [==============================] - 55s 30ms/step - loss: 0.7000 - accuracy: 0.7935 - val_loss: 0.6346 - val_accuracy: 0.8115\n",
      "Epoch 2/300\n",
      "1727/1727 [==============================] - 56s 32ms/step - loss: 0.6981 - accuracy: 0.7940 - val_loss: 0.6340 - val_accuracy: 0.8116\n",
      "Epoch 3/300\n",
      "1727/1727 [==============================] - 52s 30ms/step - loss: 0.6974 - accuracy: 0.7943 - val_loss: 0.6336 - val_accuracy: 0.8118\n",
      "Epoch 4/300\n",
      "1727/1727 [==============================] - 57s 33ms/step - loss: 0.6971 - accuracy: 0.7943 - val_loss: 0.6330 - val_accuracy: 0.8119\n",
      "Epoch 5/300\n",
      "1727/1727 [==============================] - 60s 35ms/step - loss: 0.6969 - accuracy: 0.7944 - val_loss: 0.6330 - val_accuracy: 0.8119\n",
      "Epoch 6/300\n",
      "1727/1727 [==============================] - 48s 28ms/step - loss: 0.6967 - accuracy: 0.7945 - val_loss: 0.6328 - val_accuracy: 0.8120\n",
      "Epoch 7/300\n",
      "1727/1727 [==============================] - 48s 28ms/step - loss: 0.6965 - accuracy: 0.7945 - val_loss: 0.6327 - val_accuracy: 0.8120\n",
      "Epoch 8/300\n",
      "1727/1727 [==============================] - 49s 28ms/step - loss: 0.6965 - accuracy: 0.7945 - val_loss: 0.6325 - val_accuracy: 0.8121\n",
      "Epoch 9/300\n",
      "1727/1727 [==============================] - 48s 28ms/step - loss: 0.6963 - accuracy: 0.7946 - val_loss: 0.6325 - val_accuracy: 0.8121\n",
      "Epoch 10/300\n",
      "1727/1727 [==============================] - 56s 32ms/step - loss: 0.6962 - accuracy: 0.7946 - val_loss: 0.6323 - val_accuracy: 0.8121\n",
      "Epoch 11/300\n",
      "1727/1727 [==============================] - 62s 36ms/step - loss: 0.6962 - accuracy: 0.7946 - val_loss: 0.6323 - val_accuracy: 0.8121\n",
      "Epoch 12/300\n",
      "1727/1727 [==============================] - 54s 31ms/step - loss: 0.6960 - accuracy: 0.7946 - val_loss: 0.6319 - val_accuracy: 0.8122\n",
      "Epoch 13/300\n",
      "1727/1727 [==============================] - 49s 28ms/step - loss: 0.6959 - accuracy: 0.7947 - val_loss: 0.6322 - val_accuracy: 0.8121\n",
      "Epoch 14/300\n",
      "1727/1727 [==============================] - 50s 29ms/step - loss: 0.6958 - accuracy: 0.7946 - val_loss: 0.6320 - val_accuracy: 0.8122\n",
      "Epoch 15/300\n",
      "1727/1727 [==============================] - 50s 29ms/step - loss: 0.6958 - accuracy: 0.7947 - val_loss: 0.6319 - val_accuracy: 0.8122\n",
      "Epoch 16/300\n",
      "1727/1727 [==============================] - 49s 29ms/step - loss: 0.6958 - accuracy: 0.7946 - val_loss: 0.6319 - val_accuracy: 0.8123\n",
      "Epoch 17/300\n",
      "1727/1727 [==============================] - 49s 29ms/step - loss: 0.6956 - accuracy: 0.7947 - val_loss: 0.6319 - val_accuracy: 0.8122\n",
      "Epoch 18/300\n",
      "1727/1727 [==============================] - 49s 29ms/step - loss: 0.6957 - accuracy: 0.7947 - val_loss: 0.6319 - val_accuracy: 0.8122\n",
      "Epoch 19/300\n",
      "1727/1727 [==============================] - 49s 28ms/step - loss: 0.6956 - accuracy: 0.7948 - val_loss: 0.6318 - val_accuracy: 0.8123\n",
      "Epoch 20/300\n",
      "1727/1727 [==============================] - 49s 28ms/step - loss: 0.6956 - accuracy: 0.7947 - val_loss: 0.6317 - val_accuracy: 0.8123\n",
      "Epoch 21/300\n",
      "1727/1727 [==============================] - 50s 29ms/step - loss: 0.6956 - accuracy: 0.7947 - val_loss: 0.6317 - val_accuracy: 0.8123\n",
      "Epoch 22/300\n",
      "1727/1727 [==============================] - 49s 29ms/step - loss: 0.6955 - accuracy: 0.7947 - val_loss: 0.6314 - val_accuracy: 0.8124\n",
      "Epoch 23/300\n",
      "1727/1727 [==============================] - 49s 28ms/step - loss: 0.6954 - accuracy: 0.7948 - val_loss: 0.6314 - val_accuracy: 0.8124\n",
      "Epoch 24/300\n",
      "1727/1727 [==============================] - 49s 29ms/step - loss: 0.6954 - accuracy: 0.7948 - val_loss: 0.6315 - val_accuracy: 0.8124\n",
      "Epoch 25/300\n",
      "1727/1727 [==============================] - 49s 29ms/step - loss: 0.6954 - accuracy: 0.7948 - val_loss: 0.6313 - val_accuracy: 0.8124\n",
      "Epoch 26/300\n",
      "1515/1727 [=========================>....] - ETA: 5s - loss: 0.6952 - accuracy: 0.7949"
     ]
    },
    {
     "ename": "KeyboardInterrupt",
     "evalue": "",
     "output_type": "error",
     "traceback": [
      "\u001b[0;31m---------------------------------------------------------------------------\u001b[0m",
      "\u001b[0;31mKeyboardInterrupt\u001b[0m                         Traceback (most recent call last)",
      "\u001b[0;32m<ipython-input-24-21229a7656c9>\u001b[0m in \u001b[0;36m<module>\u001b[0;34m\u001b[0m\n\u001b[1;32m     16\u001b[0m         ),\n\u001b[1;32m     17\u001b[0m         \u001b[0mEarlyStopping\u001b[0m\u001b[0;34m(\u001b[0m\u001b[0mmonitor\u001b[0m\u001b[0;34m=\u001b[0m\u001b[0;34m'val_loss'\u001b[0m\u001b[0;34m,\u001b[0m \u001b[0mpatience\u001b[0m\u001b[0;34m=\u001b[0m\u001b[0;36m5\u001b[0m\u001b[0;34m)\u001b[0m\u001b[0;34m,\u001b[0m\u001b[0;34m\u001b[0m\u001b[0;34m\u001b[0m\u001b[0m\n\u001b[0;32m---> 18\u001b[0;31m         \u001b[0mCSVLogger\u001b[0m\u001b[0;34m(\u001b[0m\u001b[0;34mf'{folder_name}/slowmleG.csv'\u001b[0m\u001b[0;34m)\u001b[0m\u001b[0;34m,\u001b[0m\u001b[0;34m\u001b[0m\u001b[0;34m\u001b[0m\u001b[0m\n\u001b[0m\u001b[1;32m     19\u001b[0m     ]\n\u001b[1;32m     20\u001b[0m )\n",
      "\u001b[0;32m~/anaconda3/lib/python3.7/site-packages/tensorflow/python/keras/engine/training.py\u001b[0m in \u001b[0;36mfit\u001b[0;34m(self, x, y, batch_size, epochs, verbose, callbacks, validation_split, validation_data, shuffle, class_weight, sample_weight, initial_epoch, steps_per_epoch, validation_steps, validation_batch_size, validation_freq, max_queue_size, workers, use_multiprocessing)\u001b[0m\n\u001b[1;32m   1181\u001b[0m                 _r=1):\n\u001b[1;32m   1182\u001b[0m               \u001b[0mcallbacks\u001b[0m\u001b[0;34m.\u001b[0m\u001b[0mon_train_batch_begin\u001b[0m\u001b[0;34m(\u001b[0m\u001b[0mstep\u001b[0m\u001b[0;34m)\u001b[0m\u001b[0;34m\u001b[0m\u001b[0;34m\u001b[0m\u001b[0m\n\u001b[0;32m-> 1183\u001b[0;31m               \u001b[0mtmp_logs\u001b[0m \u001b[0;34m=\u001b[0m \u001b[0mself\u001b[0m\u001b[0;34m.\u001b[0m\u001b[0mtrain_function\u001b[0m\u001b[0;34m(\u001b[0m\u001b[0miterator\u001b[0m\u001b[0;34m)\u001b[0m\u001b[0;34m\u001b[0m\u001b[0;34m\u001b[0m\u001b[0m\n\u001b[0m\u001b[1;32m   1184\u001b[0m               \u001b[0;32mif\u001b[0m \u001b[0mdata_handler\u001b[0m\u001b[0;34m.\u001b[0m\u001b[0mshould_sync\u001b[0m\u001b[0;34m:\u001b[0m\u001b[0;34m\u001b[0m\u001b[0;34m\u001b[0m\u001b[0m\n\u001b[1;32m   1185\u001b[0m                 \u001b[0mcontext\u001b[0m\u001b[0;34m.\u001b[0m\u001b[0masync_wait\u001b[0m\u001b[0;34m(\u001b[0m\u001b[0;34m)\u001b[0m\u001b[0;34m\u001b[0m\u001b[0;34m\u001b[0m\u001b[0m\n",
      "\u001b[0;32m~/anaconda3/lib/python3.7/site-packages/tensorflow/python/eager/def_function.py\u001b[0m in \u001b[0;36m__call__\u001b[0;34m(self, *args, **kwds)\u001b[0m\n\u001b[1;32m    887\u001b[0m \u001b[0;34m\u001b[0m\u001b[0m\n\u001b[1;32m    888\u001b[0m       \u001b[0;32mwith\u001b[0m \u001b[0mOptionalXlaContext\u001b[0m\u001b[0;34m(\u001b[0m\u001b[0mself\u001b[0m\u001b[0;34m.\u001b[0m\u001b[0m_jit_compile\u001b[0m\u001b[0;34m)\u001b[0m\u001b[0;34m:\u001b[0m\u001b[0;34m\u001b[0m\u001b[0;34m\u001b[0m\u001b[0m\n\u001b[0;32m--> 889\u001b[0;31m         \u001b[0mresult\u001b[0m \u001b[0;34m=\u001b[0m \u001b[0mself\u001b[0m\u001b[0;34m.\u001b[0m\u001b[0m_call\u001b[0m\u001b[0;34m(\u001b[0m\u001b[0;34m*\u001b[0m\u001b[0margs\u001b[0m\u001b[0;34m,\u001b[0m \u001b[0;34m**\u001b[0m\u001b[0mkwds\u001b[0m\u001b[0;34m)\u001b[0m\u001b[0;34m\u001b[0m\u001b[0;34m\u001b[0m\u001b[0m\n\u001b[0m\u001b[1;32m    890\u001b[0m \u001b[0;34m\u001b[0m\u001b[0m\n\u001b[1;32m    891\u001b[0m       \u001b[0mnew_tracing_count\u001b[0m \u001b[0;34m=\u001b[0m \u001b[0mself\u001b[0m\u001b[0;34m.\u001b[0m\u001b[0mexperimental_get_tracing_count\u001b[0m\u001b[0;34m(\u001b[0m\u001b[0;34m)\u001b[0m\u001b[0;34m\u001b[0m\u001b[0;34m\u001b[0m\u001b[0m\n",
      "\u001b[0;32m~/anaconda3/lib/python3.7/site-packages/tensorflow/python/eager/def_function.py\u001b[0m in \u001b[0;36m_call\u001b[0;34m(self, *args, **kwds)\u001b[0m\n\u001b[1;32m    915\u001b[0m       \u001b[0;31m# In this case we have created variables on the first call, so we run the\u001b[0m\u001b[0;34m\u001b[0m\u001b[0;34m\u001b[0m\u001b[0;34m\u001b[0m\u001b[0m\n\u001b[1;32m    916\u001b[0m       \u001b[0;31m# defunned version which is guaranteed to never create variables.\u001b[0m\u001b[0;34m\u001b[0m\u001b[0;34m\u001b[0m\u001b[0;34m\u001b[0m\u001b[0m\n\u001b[0;32m--> 917\u001b[0;31m       \u001b[0;32mreturn\u001b[0m \u001b[0mself\u001b[0m\u001b[0;34m.\u001b[0m\u001b[0m_stateless_fn\u001b[0m\u001b[0;34m(\u001b[0m\u001b[0;34m*\u001b[0m\u001b[0margs\u001b[0m\u001b[0;34m,\u001b[0m \u001b[0;34m**\u001b[0m\u001b[0mkwds\u001b[0m\u001b[0;34m)\u001b[0m  \u001b[0;31m# pylint: disable=not-callable\u001b[0m\u001b[0;34m\u001b[0m\u001b[0;34m\u001b[0m\u001b[0m\n\u001b[0m\u001b[1;32m    918\u001b[0m     \u001b[0;32melif\u001b[0m \u001b[0mself\u001b[0m\u001b[0;34m.\u001b[0m\u001b[0m_stateful_fn\u001b[0m \u001b[0;32mis\u001b[0m \u001b[0;32mnot\u001b[0m \u001b[0;32mNone\u001b[0m\u001b[0;34m:\u001b[0m\u001b[0;34m\u001b[0m\u001b[0;34m\u001b[0m\u001b[0m\n\u001b[1;32m    919\u001b[0m       \u001b[0;31m# Release the lock early so that multiple threads can perform the call\u001b[0m\u001b[0;34m\u001b[0m\u001b[0;34m\u001b[0m\u001b[0;34m\u001b[0m\u001b[0m\n",
      "\u001b[0;32m~/anaconda3/lib/python3.7/site-packages/tensorflow/python/eager/function.py\u001b[0m in \u001b[0;36m__call__\u001b[0;34m(self, *args, **kwargs)\u001b[0m\n\u001b[1;32m   3022\u001b[0m        filtered_flat_args) = self._maybe_define_function(args, kwargs)\n\u001b[1;32m   3023\u001b[0m     return graph_function._call_flat(\n\u001b[0;32m-> 3024\u001b[0;31m         filtered_flat_args, captured_inputs=graph_function.captured_inputs)  # pylint: disable=protected-access\n\u001b[0m\u001b[1;32m   3025\u001b[0m \u001b[0;34m\u001b[0m\u001b[0m\n\u001b[1;32m   3026\u001b[0m   \u001b[0;34m@\u001b[0m\u001b[0mproperty\u001b[0m\u001b[0;34m\u001b[0m\u001b[0;34m\u001b[0m\u001b[0m\n",
      "\u001b[0;32m~/anaconda3/lib/python3.7/site-packages/tensorflow/python/eager/function.py\u001b[0m in \u001b[0;36m_call_flat\u001b[0;34m(self, args, captured_inputs, cancellation_manager)\u001b[0m\n\u001b[1;32m   1959\u001b[0m       \u001b[0;31m# No tape is watching; skip to running the function.\u001b[0m\u001b[0;34m\u001b[0m\u001b[0;34m\u001b[0m\u001b[0;34m\u001b[0m\u001b[0m\n\u001b[1;32m   1960\u001b[0m       return self._build_call_outputs(self._inference_function.call(\n\u001b[0;32m-> 1961\u001b[0;31m           ctx, args, cancellation_manager=cancellation_manager))\n\u001b[0m\u001b[1;32m   1962\u001b[0m     forward_backward = self._select_forward_and_backward_functions(\n\u001b[1;32m   1963\u001b[0m         \u001b[0margs\u001b[0m\u001b[0;34m,\u001b[0m\u001b[0;34m\u001b[0m\u001b[0;34m\u001b[0m\u001b[0m\n",
      "\u001b[0;32m~/anaconda3/lib/python3.7/site-packages/tensorflow/python/eager/function.py\u001b[0m in \u001b[0;36mcall\u001b[0;34m(self, ctx, args, cancellation_manager)\u001b[0m\n\u001b[1;32m    594\u001b[0m               \u001b[0minputs\u001b[0m\u001b[0;34m=\u001b[0m\u001b[0margs\u001b[0m\u001b[0;34m,\u001b[0m\u001b[0;34m\u001b[0m\u001b[0;34m\u001b[0m\u001b[0m\n\u001b[1;32m    595\u001b[0m               \u001b[0mattrs\u001b[0m\u001b[0;34m=\u001b[0m\u001b[0mattrs\u001b[0m\u001b[0;34m,\u001b[0m\u001b[0;34m\u001b[0m\u001b[0;34m\u001b[0m\u001b[0m\n\u001b[0;32m--> 596\u001b[0;31m               ctx=ctx)\n\u001b[0m\u001b[1;32m    597\u001b[0m         \u001b[0;32melse\u001b[0m\u001b[0;34m:\u001b[0m\u001b[0;34m\u001b[0m\u001b[0;34m\u001b[0m\u001b[0m\n\u001b[1;32m    598\u001b[0m           outputs = execute.execute_with_cancellation(\n",
      "\u001b[0;32m~/anaconda3/lib/python3.7/site-packages/tensorflow/python/eager/execute.py\u001b[0m in \u001b[0;36mquick_execute\u001b[0;34m(op_name, num_outputs, inputs, attrs, ctx, name)\u001b[0m\n\u001b[1;32m     58\u001b[0m     \u001b[0mctx\u001b[0m\u001b[0;34m.\u001b[0m\u001b[0mensure_initialized\u001b[0m\u001b[0;34m(\u001b[0m\u001b[0;34m)\u001b[0m\u001b[0;34m\u001b[0m\u001b[0;34m\u001b[0m\u001b[0m\n\u001b[1;32m     59\u001b[0m     tensors = pywrap_tfe.TFE_Py_Execute(ctx._handle, device_name, op_name,\n\u001b[0;32m---> 60\u001b[0;31m                                         inputs, attrs, num_outputs)\n\u001b[0m\u001b[1;32m     61\u001b[0m   \u001b[0;32mexcept\u001b[0m \u001b[0mcore\u001b[0m\u001b[0;34m.\u001b[0m\u001b[0m_NotOkStatusException\u001b[0m \u001b[0;32mas\u001b[0m \u001b[0me\u001b[0m\u001b[0;34m:\u001b[0m\u001b[0;34m\u001b[0m\u001b[0;34m\u001b[0m\u001b[0m\n\u001b[1;32m     62\u001b[0m     \u001b[0;32mif\u001b[0m \u001b[0mname\u001b[0m \u001b[0;32mis\u001b[0m \u001b[0;32mnot\u001b[0m \u001b[0;32mNone\u001b[0m\u001b[0;34m:\u001b[0m\u001b[0;34m\u001b[0m\u001b[0;34m\u001b[0m\u001b[0m\n",
      "\u001b[0;31mKeyboardInterrupt\u001b[0m: "
     ]
    }
   ],
   "source": [
    "mleG.fit(\n",
    "    [encoder_train, decoder_train], \n",
    "    teacher_train, \n",
    "    batch_size=128, \n",
    "    epochs=300, \n",
    "    shuffle=True, \n",
    "    validation_data = (\n",
    "        [encoder_vali, decoder_vali], \n",
    "        teacher_vali\n",
    "    ), \n",
    "    callbacks=[\n",
    "        ModelCheckpoint(\n",
    "            f'./{folder_name}/slowmleG.h5', \n",
    "            save_best_only=True, \n",
    "            monitor = \"val_loss\"\n",
    "        ),\n",
    "        EarlyStopping(monitor='val_loss', patience=5),\n",
    "        CSVLogger(f'{folder_name}/slowmleG.csv'),\n",
    "    ]\n",
    ")"
   ]
  },
  {
   "cell_type": "code",
   "execution_count": 18,
   "id": "26f4b2c3",
   "metadata": {},
   "outputs": [
    {
     "name": "stderr",
     "output_type": "stream",
     "text": [
      "No handles with labels found to put in legend.\n"
     ]
    },
    {
     "data": {
      "image/png": "[encoded data removed]",
      "text/plain": [
       "<Figure size 432x288 with 1 Axes>"
      ]
     },
     "metadata": {
      "needs_background": "light"
     },
     "output_type": "display_data"
    }
   ],
   "source": [
    "import csv\n",
    "from matplotlib import pyplot as plt\n",
    "%matplotlib inline\n",
    "rows = csv.reader(open(f'{folder_name}/slowmleG.csv'))\n",
    "nll_mle = []\n",
    "for i, row in enumerate(rows):\n",
    "    if i == 0:\n",
    "        continue\n",
    "    nll_mle.append(float(row[-1]))\n",
    "plt.plot(nll_mle, )\n",
    "plt.grid(True)\n",
    "plt.ylabel('nll_test')\n",
    "plt.xlabel('training iterations')\n",
    "plt.legend()\n",
    "plt.show()"
   ]
  },
  {
   "cell_type": "code",
   "execution_count": null,
   "id": "8aaa0c96",
   "metadata": {},
   "outputs": [],
   "source": [
    "mleG.load_weights(f'./{folder_name}/slowmleG.h5')\n",
    "loss, _acc = mleG.evaluate(\n",
    "    [encoder_vali, decoder_vali], \n",
    "    teacher_vali\n",
    ")\n",
    "print(loss)"
   ]
  },
  {
   "cell_type": "code",
   "execution_count": null,
   "id": "822695a7",
   "metadata": {},
   "outputs": [],
   "source": [
    "resp_pred_list, _ = inference(mleG, [encoder_vali[123]])\n",
    "print('# Predicted sequence')\n",
    "print(seq2word(resp_pred_list, decoder_idx2word))\n",
    "print('# Real sequence')\n",
    "print(seq2word([decoder_vali[123]], decoder_idx2word))"
   ]
  },
  {
   "cell_type": "code",
   "execution_count": null,
   "id": "0f8e9078",
   "metadata": {},
   "outputs": [],
   "source": []
  }
 ],
 "metadata": {
  "kernelspec": {
   "display_name": "Python 3 (ipykernel)",
   "language": "python",
   "name": "python3"
  },
  "language_info": {
   "codemirror_mode": {
    "name": "ipython",
    "version": 3
   },
   "file_extension": ".py",
   "mimetype": "text/x-python",
   "name": "python",
   "nbconvert_exporter": "python",
   "pygments_lexer": "ipython3",
   "version": "3.9.6"
  }
 },
 "nbformat": 4,
 "nbformat_minor": 5
}
